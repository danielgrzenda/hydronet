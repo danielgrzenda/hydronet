{
 "cells": [
  {
   "cell_type": "markdown",
   "id": "9deba6b5-210b-40c0-bd1c-ab47b1ef3f48",
   "metadata": {},
   "source": [
    "# Download the latest copy of the dataset\n",
    "Get the latest copy of the data from MongoDB. "
   ]
  },
  {
   "cell_type": "code",
   "execution_count": 1,
   "id": "9934d5c9-eee5-44c6-98e1-b5da0091e89e",
   "metadata": {},
   "outputs": [
    {
     "name": "stderr",
     "output_type": "stream",
     "text": [
      "2022-03-14 18:30:08.159403: I tensorflow/stream_executor/platform/default/dso_loader.cc:49] Successfully opened dynamic library libcudart.so.11.0\n"
     ]
    }
   ],
   "source": [
    "%matplotlib inline\n",
    "from matplotlib import pyplot as plt\n",
    "from hydronet.db import HydroNetDB, HydroNetRecord\n",
    "from tqdm import tqdm\n",
    "import pandas as pd\n",
    "import bz2"
   ]
  },
  {
   "cell_type": "markdown",
   "id": "1fe40111-0318-49f8-aa46-b3e6bb40148d",
   "metadata": {},
   "source": [
    "## Download and save in protobuf format\n",
    "Ready for training a machine learning model"
   ]
  },
  {
   "cell_type": "code",
   "execution_count": 2,
   "id": "4a08e76d-2a2b-4f6f-bcee-f88070f3e414",
   "metadata": {},
   "outputs": [
    {
     "name": "stdout",
     "output_type": "stream",
     "text": [
      "Connected to a database with around 4464542 water clusters\n"
     ]
    }
   ],
   "source": [
    "mongo = HydroNetDB.from_connection_info(port=27855)\n",
    "n_docs = mongo.collection.estimated_document_count()\n",
    "print(f'Connected to a database with around {n_docs} water clusters')"
   ]
  },
  {
   "cell_type": "markdown",
   "id": "9596c9cb-3664-432e-848d-d65cfb252627",
   "metadata": {},
   "source": [
    "Count the number per source and by size"
   ]
  },
  {
   "cell_type": "code",
   "execution_count": 3,
   "id": "0cf78873-dcbc-43d0-accf-a9c96ad847d5",
   "metadata": {},
   "outputs": [
    {
     "name": "stdout",
     "output_type": "stream",
     "text": [
      "CPU times: user 157 ms, sys: 27.5 ms, total: 185 ms\n",
      "Wall time: 4min 11s\n"
     ]
    }
   ],
   "source": [
    "%%time\n",
    "results = mongo.collection.aggregate([{'$group': {'_id': '$source', 'count': {'$count': {}}}}])"
   ]
  },
  {
   "cell_type": "code",
   "execution_count": 4,
   "id": "e690fffd-e40b-4ded-a853-2bcf8d037fb7",
   "metadata": {},
   "outputs": [
    {
     "data": {
      "text/html": [
       "<div>\n",
       "<style scoped>\n",
       "    .dataframe tbody tr th:only-of-type {\n",
       "        vertical-align: middle;\n",
       "    }\n",
       "\n",
       "    .dataframe tbody tr th {\n",
       "        vertical-align: top;\n",
       "    }\n",
       "\n",
       "    .dataframe thead th {\n",
       "        text-align: right;\n",
       "    }\n",
       "</style>\n",
       "<table border=\"1\" class=\"dataframe\">\n",
       "  <thead>\n",
       "    <tr style=\"text-align: right;\">\n",
       "      <th></th>\n",
       "      <th>_id</th>\n",
       "      <th>count</th>\n",
       "    </tr>\n",
       "  </thead>\n",
       "  <tbody>\n",
       "    <tr>\n",
       "      <th>0</th>\n",
       "      <td>wdbase</td>\n",
       "      <td>4464542</td>\n",
       "    </tr>\n",
       "  </tbody>\n",
       "</table>\n",
       "</div>"
      ],
      "text/plain": [
       "      _id    count\n",
       "0  wdbase  4464542"
      ]
     },
     "execution_count": 4,
     "metadata": {},
     "output_type": "execute_result"
    }
   ],
   "source": [
    "by_source = pd.DataFrame(list(results))\n",
    "by_source"
   ]
  },
  {
   "cell_type": "code",
   "execution_count": 5,
   "id": "c30f7793-fe3c-47dc-85c5-b60fd730d622",
   "metadata": {},
   "outputs": [
    {
     "name": "stdout",
     "output_type": "stream",
     "text": [
      "CPU times: user 136 ms, sys: 44.6 ms, total: 181 ms\n",
      "Wall time: 4min 3s\n"
     ]
    }
   ],
   "source": [
    "%%time\n",
    "results = mongo.collection.aggregate([{'$group': {'_id': '$n_waters', 'count': {'$count': {}}}}])\n",
    "by_water = list(results)"
   ]
  },
  {
   "cell_type": "code",
   "execution_count": 6,
   "id": "ad7ffd6c-461e-4e1b-8f22-407068d2cea7",
   "metadata": {},
   "outputs": [],
   "source": [
    "by_water = pd.DataFrame(by_water).rename(columns={'_id': 'n_waters'}).sort_values('n_waters')"
   ]
  },
  {
   "cell_type": "code",
   "execution_count": 7,
   "id": "954fcf5c-99ee-48d8-98ad-c12216ab7fc7",
   "metadata": {},
   "outputs": [
    {
     "data": {
      "text/plain": [
       "Text(0, 0.5, 'Count')"
      ]
     },
     "execution_count": 7,
     "metadata": {},
     "output_type": "execute_result"
    },
    {
     "data": {
      "image/png": "[encoded data removed]",
      "text/plain": [
       "<Figure size 432x288 with 1 Axes>"
      ]
     },
     "metadata": {
      "needs_background": "light"
     },
     "output_type": "display_data"
    }
   ],
   "source": [
    "fig, ax = plt.subplots()\n",
    "\n",
    "ax.bar(by_water['n_waters'], by_water['count'])\n",
    "\n",
    "ax.set_xlabel('Cluster Size')\n",
    "ax.set_ylabel('Count')"
   ]
  },
  {
   "cell_type": "markdown",
   "id": "f2c2ed62-233b-44da-ada5-617e4dffadf7",
   "metadata": {},
   "source": [
    "Save them"
   ]
  },
  {
   "cell_type": "code",
   "execution_count": 8,
   "id": "269a8f8a-02a1-485d-96b3-c6b26342ef3d",
   "metadata": {},
   "outputs": [
    {
     "name": "stdout",
     "output_type": "stream",
     "text": [
      "CPU times: user 11min 34s, sys: 16 s, total: 11min 50s\n",
      "Wall time: 1h 39min 52s\n"
     ]
    }
   ],
   "source": [
    "%%time\n",
    "mongo.write_datasets('data')"
   ]
  },
  {
   "cell_type": "markdown",
   "id": "9c80ff3c-e7dd-43ba-b9c6-49acc70a6ea8",
   "metadata": {},
   "source": [
    "## Save the dataset in JSON format\n",
    "So that we have a non-binary version of the database"
   ]
  },
  {
   "cell_type": "code",
   "execution_count": null,
   "id": "e024f43a-951a-4261-aa9e-5715beb3a927",
   "metadata": {},
   "outputs": [
    {
     "name": "stderr",
     "output_type": "stream",
     "text": [
      " 13%|███████████████████████▏                                                                                                                                                        | 589289/4464542 [28:18<1:02:28, 1033.88it/s]"
     ]
    }
   ],
   "source": [
    "with bz2.open('data/full-dataset.json.bz', 'wt') as fp:\n",
    "    for record in tqdm(mongo.iterate_as_records(mongo.collection.find({})), total=n_docs):\n",
    "        print(record.json(), file=fp)"
   ]
  },
  {
   "cell_type": "markdown",
   "id": "25ba98b8-25bf-43af-bb9d-479cdda20de3",
   "metadata": {},
   "source": [
    "## "
   ]
  }
 ],
 "metadata": {
  "kernelspec": {
   "display_name": "Python 3 (ipykernel)",
   "language": "python",
   "name": "python3"
  },
  "language_info": {
   "codemirror_mode": {
    "name": "ipython",
    "version": 3
   },
   "file_extension": ".py",
   "mimetype": "text/x-python",
   "name": "python",
   "nbconvert_exporter": "python",
   "pygments_lexer": "ipython3",
   "version": "3.8.12"
  }
 },
 "nbformat": 4,
 "nbformat_minor": 5
}
