{
 "cells": [
  {
   "cell_type": "markdown",
   "id": "d5ab7103-a285-4444-ad0b-0befee6f0a2b",
   "metadata": {},
   "source": [
    "# Use a the very simple, REINFORCE agent\n",
    "Just to make sure everything works correctly"
   ]
  },
  {
   "cell_type": "code",
   "execution_count": 30,
   "id": "3ae73ab5-7387-4600-b596-9bebd3f37f00",
   "metadata": {},
   "outputs": [],
   "source": [
    "%matplotlib inline\n",
    "from matplotlib import pyplot as plt\n",
    "from hydronet.rl.tf.env import SimpleEnvironment\n",
    "from hydronet.rl.rewards.mpnn import MPNNReward\n",
    "from hydronet.rl.tf.agents import ConstrainedRandomPolicy\n",
    "from hydronet.rl.tf.networks import GCPNActorNetwork\n",
    "from hydronet.mpnn.layers import custom_objects\n",
    "from tf_agents.environments.tf_py_environment import TFPyEnvironment\n",
    "from tf_agents.replay_buffers.tf_uniform_replay_buffer import TFUniformReplayBuffer\n",
    "from tf_agents.drivers.dynamic_episode_driver import DynamicEpisodeDriver\n",
    "from tf_agents.agents.reinforce import reinforce_agent\n",
    "from pathlib import Path\n",
    "from tqdm import tqdm\n",
    "import tensorflow as tf\n",
    "import pandas as pd\n",
    "import numpy as np"
   ]
  },
  {
   "cell_type": "markdown",
   "id": "364e85d1-61bd-4a27-ab1f-b5e79eeb8514",
   "metadata": {},
   "source": [
    "Configuration"
   ]
  },
  {
   "cell_type": "code",
   "execution_count": 2,
   "id": "b453c5d6-a724-409b-9be3-54eed6ee2a40",
   "metadata": {},
   "outputs": [],
   "source": [
    "mpnn_path = Path() / '..' / '..' / 'challenge-2' / 'best-model' / 'best_model.h5'"
   ]
  },
  {
   "cell_type": "markdown",
   "id": "bd2d6374-b65e-4574-a394-80b6bbfcb9c2",
   "metadata": {},
   "source": [
    "## Make the Environment\n",
    "Use the energy of the cluster predicted with our MPNN as a reward"
   ]
  },
  {
   "cell_type": "code",
   "execution_count": 3,
   "id": "9e47dec9-9646-4421-bdc5-dd85dbdde3ad",
   "metadata": {},
   "outputs": [
    {
     "name": "stdout",
     "output_type": "stream",
     "text": [
      "WARNING:tensorflow:From /home/lward/miniconda3/envs/hydronet/lib/python3.8/site-packages/tensorflow/python/ops/array_ops.py:5043: calling gather (from tensorflow.python.ops.array_ops) with validate_indices is deprecated and will be removed in a future version.\n",
      "Instructions for updating:\n",
      "The `validate_indices` argument has no effect. Indices are always validated on CPU and never validated on GPU.\n"
     ]
    }
   ],
   "source": [
    "model = tf.keras.models.load_model(mpnn_path, custom_objects=custom_objects)\n",
    "reward = MPNNReward(model)"
   ]
  },
  {
   "cell_type": "code",
   "execution_count": 4,
   "id": "8c93ba31-5598-4db3-89b7-1684db286572",
   "metadata": {},
   "outputs": [],
   "source": [
    "env = SimpleEnvironment(maximum_size=20, reward=reward, only_last=False)\n",
    "tf_env = TFPyEnvironment(env)"
   ]
  },
  {
   "cell_type": "markdown",
   "id": "b258cf80-0bdb-44a5-8f01-7360749a111d",
   "metadata": {},
   "source": [
    "## Build the Policies\n",
    "We are going to compare against a baseline policy that picks random setsp"
   ]
  },
  {
   "cell_type": "markdown",
   "id": "c2afae3f-40fe-42b6-b6db-f07b8330cff5",
   "metadata": {},
   "source": [
    "### Make a Random Policy\n",
    "Using our random policy that constrains guesses to actions that produce valid graphs."
   ]
  },
  {
   "cell_type": "code",
   "execution_count": 5,
   "id": "8a87db22-df63-4613-9efd-b499661f8aa2",
   "metadata": {},
   "outputs": [],
   "source": [
    "random_policy = ConstrainedRandomPolicy(\n",
    "    time_step_spec=tf_env.time_step_spec(),\n",
    "    action_spec=tf_env.action_spec()\n",
    ")"
   ]
  },
  {
   "cell_type": "markdown",
   "id": "ff3f1c8a-0279-4343-aa94-dca87c07afd0",
   "metadata": {},
   "source": [
    "### Make the Reinforce Agent\n",
    "Use the `GCPNActorNetwork` to predict actions"
   ]
  },
  {
   "cell_type": "code",
   "execution_count": 6,
   "id": "81181701-25f1-453a-b267-2a8455fa4961",
   "metadata": {},
   "outputs": [],
   "source": [
    "actor_net = GCPNActorNetwork(tf_env.observation_spec(), tf_env.action_spec(), tf_env.reset(), num_messages=8, node_features=32)"
   ]
  },
  {
   "cell_type": "code",
   "execution_count": 7,
   "id": "d165bd0b-26a7-4488-a572-6944b62c3a47",
   "metadata": {},
   "outputs": [],
   "source": [
    "optimizer = tf.keras.optimizers.Adam(1e-4, clipvalue=0.1)"
   ]
  },
  {
   "cell_type": "code",
   "execution_count": 8,
   "id": "5e87ec55-9124-4a9d-bf71-729f01d6ff01",
   "metadata": {},
   "outputs": [],
   "source": [
    "tf_agent = reinforce_agent.ReinforceAgent(\n",
    "    tf_env.time_step_spec(),\n",
    "    tf_env.action_spec(),\n",
    "    actor_network=actor_net,\n",
    "    optimizer=optimizer,\n",
    "    normalize_returns=True\n",
    ")\n",
    "tf_agent.initialize()"
   ]
  },
  {
   "cell_type": "markdown",
   "id": "d21dbb87-98fc-4b9f-8ce8-9211a908c810",
   "metadata": {},
   "source": [
    "## Drive it to Make some Data\n",
    "Use the TFUniformReplyBuffer to keep track of data"
   ]
  },
  {
   "cell_type": "code",
   "execution_count": 9,
   "id": "f4fbfb5b-7e40-44b9-8073-2e9de89346ab",
   "metadata": {},
   "outputs": [],
   "source": [
    "buffer = TFUniformReplayBuffer(\n",
    "    tf_agent.collect_data_spec,\n",
    "    batch_size=1,\n",
    "    max_length=1024,\n",
    ")"
   ]
  },
  {
   "cell_type": "code",
   "execution_count": 10,
   "id": "eae4ef02-8972-4e58-aca7-1e26703e79e5",
   "metadata": {},
   "outputs": [],
   "source": [
    "driver = DynamicEpisodeDriver(tf_env, tf_agent.collect_policy, [buffer.add_batch], num_episodes=1)"
   ]
  },
  {
   "cell_type": "markdown",
   "id": "5d195034-f612-4120-9ed4-3ea3d138535b",
   "metadata": {},
   "source": [
    "Measure the average return"
   ]
  },
  {
   "cell_type": "code",
   "execution_count": 11,
   "id": "2d3d0d03-9bb6-4e3c-b5e2-adfc2cd935df",
   "metadata": {},
   "outputs": [],
   "source": [
    "def compute_avg_return(environment, policy, num_episodes=10):\n",
    "    total_return = 0.0\n",
    "    for _ in range(num_episodes):\n",
    "        time_step = environment.reset()\n",
    "        episode_return = 0.0\n",
    "\n",
    "        while not time_step.is_last():\n",
    "            action_step = policy.action(time_step)\n",
    "            time_step = environment.step(action_step.action)\n",
    "            episode_return += time_step.reward\n",
    "        total_return += episode_return\n",
    "\n",
    "    avg_return = total_return / num_episodes\n",
    "    return avg_return.numpy()[0]"
   ]
  },
  {
   "cell_type": "markdown",
   "id": "334875d0-fd2a-40e8-b731-481dc95ecb8b",
   "metadata": {},
   "source": [
    "Get the average return for a random policy"
   ]
  },
  {
   "cell_type": "code",
   "execution_count": 12,
   "id": "72317b68-05f9-4bc9-a03e-ad11cfeee095",
   "metadata": {},
   "outputs": [
    {
     "name": "stderr",
     "output_type": "stream",
     "text": [
      "/home/lward/miniconda3/envs/hydronet/lib/python3.8/site-packages/tensorflow/python/keras/engine/functional.py:588: UserWarning: Input dict contained keys ['n_waters', 'n_atoms', 'n_bonds', 'bond_graph_indices'] which did not match any model input. They will be ignored by the model.\n",
      "  warnings.warn(\n"
     ]
    },
    {
     "name": "stdout",
     "output_type": "stream",
     "text": [
      "Random return: 294.3\n"
     ]
    }
   ],
   "source": [
    "random_return = compute_avg_return(tf_env, random_policy, 32)\n",
    "print(f'Random return: {random_return:.1f}')"
   ]
  },
  {
   "cell_type": "code",
   "execution_count": 13,
   "id": "dbd0fe4c-8a2d-45c0-ae6f-c2d2b8bf86c6",
   "metadata": {},
   "outputs": [
    {
     "name": "stderr",
     "output_type": "stream",
     "text": [
      "  0%|          | 0/512 [00:00<?, ?it/s]"
     ]
    },
    {
     "name": "stdout",
     "output_type": "stream",
     "text": [
      "WARNING:tensorflow:From <ipython-input-13-7cfad00f9d73>:16: ReplayBuffer.gather_all (from tf_agents.replay_buffers.replay_buffer) is deprecated and will be removed in a future version.\n",
      "Instructions for updating:\n",
      "Use `as_dataset(..., single_deterministic_pass=True)` instead.\n"
     ]
    },
    {
     "name": "stderr",
     "output_type": "stream",
     "text": [
      "loss: 7.36e-01 - return: 241.0:  99%|█████████▉| 508/512 [12:43<00:06,  1.50s/it] "
     ]
    },
    {
     "name": "stdout",
     "output_type": "stream",
     "text": [
      "Encountered an error, resetting weights to last iteration: Loss is inf or nan : Tensor had NaN values [Op:CheckNumerics]\n"
     ]
    },
    {
     "name": "stderr",
     "output_type": "stream",
     "text": [
      "\n"
     ]
    }
   ],
   "source": [
    "# Evaluate the agent's policy once before training.\n",
    "avg_return = compute_avg_return(tf_env, tf_agent.policy, 1)\n",
    "returns = []\n",
    "\n",
    "train_loss = None\n",
    "losses = []\n",
    "pbar = tqdm(range(512))\n",
    "for step in pbar:\n",
    "    # Collect a few episodes using collect_policy and save to the replay buffer.\n",
    "    buffer.clear()\n",
    "    init_ts = tf_env.reset()\n",
    "    final_ts, _ = driver.run(init_ts)\n",
    "\n",
    "    # Use data from the buffer and update the agent's network.\n",
    "    last_weights = actor_net.get_weights()\n",
    "    experience = buffer.gather_all()\n",
    "    try:\n",
    "        train_loss = tf_agent.train(experience)\n",
    "    except tf.errors.InvalidArgumentError as e:\n",
    "        print(f'Encountered an error, resetting weights to last iteration: {e}')\n",
    "        actor_net.set_weights(last_weights)\n",
    "        break\n",
    "    losses.append(train_loss.loss.numpy())\n",
    "\n",
    "    # Compute the return of the greedy policy\n",
    "    avg_return = compute_avg_return(tf_env, tf_agent.policy, 1)\n",
    "    returns.append(avg_return)\n",
    "    \n",
    "    # Update the progress bar\n",
    "    pbar.set_description(f'loss: {train_loss.loss:.2e} - return: {avg_return:.1f}')"
   ]
  },
  {
   "cell_type": "code",
   "execution_count": 14,
   "id": "0174632a-63f0-421a-b066-872bf7ec772a",
   "metadata": {},
   "outputs": [
    {
     "name": "stdout",
     "output_type": "stream",
     "text": [
      "Agent return with randomized policy: 284.6\n"
     ]
    }
   ],
   "source": [
    "agent_return = compute_avg_return(tf_env, tf_agent.collect_policy, 32)\n",
    "print(f'Agent return with randomized policy: {agent_return:.1f}')"
   ]
  },
  {
   "cell_type": "markdown",
   "id": "ad23c2ca-2b57-435a-b0b4-070493df4449",
   "metadata": {},
   "source": [
    "## Save the Model and Training Performance\n",
    "So we can analyze them later"
   ]
  },
  {
   "cell_type": "code",
   "execution_count": 15,
   "id": "2339eccb-c5f5-4d00-8363-d7761be1113b",
   "metadata": {},
   "outputs": [
    {
     "name": "stderr",
     "output_type": "stream",
     "text": [
      "WARNING:absl:Found untraced functions such as GCPN_layer_call_and_return_conditional_losses, GCPN_layer_call_fn, embedding_layer_call_and_return_conditional_losses, embedding_layer_call_fn, softmax_layer_call_and_return_conditional_losses while saving (showing 5 of 190). These functions will not be directly callable after loading.\n"
     ]
    },
    {
     "name": "stdout",
     "output_type": "stream",
     "text": [
      "WARNING:tensorflow:FOR KERAS USERS: The object that you are saving contains one or more Keras models or layers. If you are loading the SavedModel with `tf.keras.models.load_model`, continue reading (otherwise, you may ignore the following instructions). Please change your code to save with `tf.keras.models.save_model` or `model.save`, and confirm that the file \"keras.metadata\" exists in the export directory. In the future, Keras will only load the SavedModels that have this file. In other words, `tf.saved_model.save` will no longer write SavedModels that can be recovered as Keras models (this will apply in TF 2.5).\n",
      "\n",
      "FOR DEVS: If you are overwriting _tracking_metadata in your class, this property has been used to save metadata in the SavedModel. The metadta field will be deprecated soon, so please move the metadata to a different file.\n"
     ]
    },
    {
     "name": "stderr",
     "output_type": "stream",
     "text": [
      "WARNING:tensorflow:FOR KERAS USERS: The object that you are saving contains one or more Keras models or layers. If you are loading the SavedModel with `tf.keras.models.load_model`, continue reading (otherwise, you may ignore the following instructions). Please change your code to save with `tf.keras.models.save_model` or `model.save`, and confirm that the file \"keras.metadata\" exists in the export directory. In the future, Keras will only load the SavedModels that have this file. In other words, `tf.saved_model.save` will no longer write SavedModels that can be recovered as Keras models (this will apply in TF 2.5).\n",
      "\n",
      "FOR DEVS: If you are overwriting _tracking_metadata in your class, this property has been used to save metadata in the SavedModel. The metadta field will be deprecated soon, so please move the metadata to a different file.\n"
     ]
    },
    {
     "name": "stdout",
     "output_type": "stream",
     "text": [
      "INFO:tensorflow:Assets written to: actor_net/assets\n"
     ]
    },
    {
     "name": "stderr",
     "output_type": "stream",
     "text": [
      "INFO:tensorflow:Assets written to: actor_net/assets\n"
     ]
    }
   ],
   "source": [
    "tf.saved_model.save(actor_net, 'actor_net')"
   ]
  },
  {
   "cell_type": "code",
   "execution_count": 16,
   "id": "434f7cfa-1b08-4b61-a591-1bc18a4a24de",
   "metadata": {},
   "outputs": [],
   "source": [
    "train_info = pd.DataFrame({\n",
    "    'loss': losses,\n",
    "    'return': returns\n",
    "})\n",
    "train_info.to_csv('train_info.csv', index=False)"
   ]
  },
  {
   "cell_type": "markdown",
   "id": "4ffb08b4-4438-4ed9-863d-ef8a35355f1f",
   "metadata": {},
   "source": [
    "## Make a Simple Plot\n",
    "See if the return is increasing over time"
   ]
  },
  {
   "cell_type": "code",
   "execution_count": 17,
   "id": "8f92874f-d11d-44a7-9c95-517cac1b0ad4",
   "metadata": {},
   "outputs": [
    {
     "data": {
      "text/plain": [
       "Text(0, 0.5, 'Return')"
      ]
     },
     "execution_count": 17,
     "metadata": {},
     "output_type": "execute_result"
    },
    {
     "data": {
      "image/png": "[encoded data removed]",
      "text/plain": [
       "<Figure size 432x288 with 1 Axes>"
      ]
     },
     "metadata": {
      "needs_background": "light"
     },
     "output_type": "display_data"
    }
   ],
   "source": [
    "fig, ax = plt.subplots()\n",
    "\n",
    "ax.plot(train_info['return'])\n",
    "ax.set_xlabel('Step')\n",
    "ax.set_ylabel('Return')"
   ]
  },
  {
   "cell_type": "code",
   "execution_count": 45,
   "id": "3242f25c-5fb9-4f61-8715-b7814df83e27",
   "metadata": {},
   "outputs": [
    {
     "data": {
      "text/plain": [
       "0           NaN\n",
       "1           NaN\n",
       "2           NaN\n",
       "3           NaN\n",
       "4           NaN\n",
       "         ...   \n",
       "503    1.937037\n",
       "504    1.937037\n",
       "505    1.937037\n",
       "506    1.937037\n",
       "507    1.089396\n",
       "Name: loss, Length: 508, dtype: float64"
      ]
     },
     "execution_count": 45,
     "metadata": {},
     "output_type": "execute_result"
    }
   ],
   "source": []
  },
  {
   "cell_type": "code",
   "execution_count": 48,
   "id": "2e1a698a-e4d1-4662-887a-4020492c9a79",
   "metadata": {},
   "outputs": [
    {
     "data": {
      "text/plain": [
       "Text(0, 0.5, 'Loss')"
      ]
     },
     "execution_count": 48,
     "metadata": {},
     "output_type": "execute_result"
    },
    {
     "data": {
      "image/png": "[encoded data removed]",
      "text/plain": [
       "<Figure size 432x288 with 1 Axes>"
      ]
     },
     "metadata": {
      "needs_background": "light"
     },
     "output_type": "display_data"
    }
   ],
   "source": [
    "fig, ax = plt.subplots()\n",
    "\n",
    "ax.plot(train_info['loss'])\n",
    "ax.set_xlabel('Step')\n",
    "ax.set_ylabel('Loss')"
   ]
  },
  {
   "cell_type": "markdown",
   "id": "8c1edf24-a6e4-494d-8f26-edd80b4c6a1b",
   "metadata": {},
   "source": [
    "Plot some trajectories"
   ]
  },
  {
   "cell_type": "code",
   "execution_count": 18,
   "id": "9a68ce30-998d-49f6-8d45-76c9b88140a9",
   "metadata": {},
   "outputs": [],
   "source": [
    "def get_trajectories(environment, policy, num_episodes=10):\n",
    "    \"\"\"Get trajectory of energy wrt step\n",
    "    \n",
    "    Args:\n",
    "        environment: Water cluster environment\n",
    "        policy: Policy to execute\n",
    "    Returns:\n",
    "        List of trajectories\n",
    "    \"\"\"\n",
    "    output = []\n",
    "    \n",
    "    for _ in range(num_episodes):\n",
    "        time_step = environment.reset()\n",
    "        traj = []\n",
    "        while not time_step.is_last():\n",
    "            action_step = policy.action(time_step)\n",
    "            time_step = environment.step(action_step.action)\n",
    "            traj.append(float(-1 * time_step.reward.numpy() * time_step.observation['n_atoms'].numpy()))\n",
    "        output.append(traj)\n",
    "\n",
    "    return output"
   ]
  },
  {
   "cell_type": "code",
   "execution_count": 19,
   "id": "f51c50e2-826d-4573-af30-7027797d540e",
   "metadata": {},
   "outputs": [
    {
     "name": "stderr",
     "output_type": "stream",
     "text": [
      "/home/lward/miniconda3/envs/hydronet/lib/python3.8/site-packages/tensorflow/python/keras/engine/functional.py:588: UserWarning: Input dict contained keys ['n_waters', 'n_atoms', 'n_bonds', 'bond_graph_indices'] which did not match any model input. They will be ignored by the model.\n",
      "  warnings.warn(\n"
     ]
    },
    {
     "name": "stdout",
     "output_type": "stream",
     "text": [
      "CPU times: user 30.3 s, sys: 564 ms, total: 30.9 s\n",
      "Wall time: 29.1 s\n"
     ]
    }
   ],
   "source": [
    "%%time\n",
    "rl_traj = get_trajectories(tf_env, tf_agent.collect_policy, 32)"
   ]
  },
  {
   "cell_type": "code",
   "execution_count": 20,
   "id": "af9cd58c-a271-4423-9f25-2c3d610ba1e4",
   "metadata": {},
   "outputs": [
    {
     "name": "stdout",
     "output_type": "stream",
     "text": [
      "CPU times: user 863 ms, sys: 20.2 ms, total: 883 ms\n",
      "Wall time: 832 ms\n"
     ]
    }
   ],
   "source": [
    "%%time\n",
    "greedy_traj = get_trajectories(tf_env, tf_agent.policy, 1)"
   ]
  },
  {
   "cell_type": "code",
   "execution_count": 21,
   "id": "d6c34971-016c-469a-be08-5173a9f7a444",
   "metadata": {},
   "outputs": [
    {
     "name": "stdout",
     "output_type": "stream",
     "text": [
      "CPU times: user 11.1 s, sys: 255 ms, total: 11.3 s\n",
      "Wall time: 10.5 s\n"
     ]
    }
   ],
   "source": [
    "%%time\n",
    "random_traj = get_trajectories(tf_env, random_policy, 32)"
   ]
  },
  {
   "cell_type": "code",
   "execution_count": 37,
   "id": "7bd6f75e-a2cb-47be-9fe4-6f1d7e0e3ea9",
   "metadata": {},
   "outputs": [
    {
     "data": {
      "text/plain": [
       "<matplotlib.legend.Legend at 0x7fae60136ca0>"
      ]
     },
     "execution_count": 37,
     "metadata": {},
     "output_type": "execute_result"
    },
    {
     "data": {
      "image/png": "[encoded data removed]",
      "text/plain": [
       "<Figure size 432x288 with 1 Axes>"
      ]
     },
     "metadata": {
      "needs_background": "light"
     },
     "output_type": "display_data"
    }
   ],
   "source": [
    "fig, ax = plt.subplots()\n",
    "\n",
    "for t in random_traj:\n",
    "    ax.plot(t, color='b', alpha=0.3)\n",
    "for t in rl_traj:\n",
    "    ax.plot(t, color='r', alpha=0.3)\n",
    "ax.plot([], color='r', label='RL')\n",
    "ax.plot([], color='b', label='Random')\n",
    "ax.plot(greedy_traj[0], 'k', label='Greedy')\n",
    "\n",
    "ax.set_xlabel('Step')\n",
    "ax.set_ylabel('Energy (Ha)')\n",
    "ax.legend()"
   ]
  },
  {
   "cell_type": "code",
   "execution_count": 35,
   "id": "5526e7bb-9e09-4a08-b2b2-46dbf677c45f",
   "metadata": {},
   "outputs": [
    {
     "data": {
      "text/plain": [
       "Text(0, 0.5, 'Count')"
      ]
     },
     "execution_count": 35,
     "metadata": {},
     "output_type": "execute_result"
    },
    {
     "data": {
      "image/png": "[encoded data removed]",
      "text/plain": [
       "<Figure size 432x288 with 1 Axes>"
      ]
     },
     "metadata": {
      "needs_background": "light"
     },
     "output_type": "display_data"
    }
   ],
   "source": [
    "fig, ax = plt.subplots()\n",
    "\n",
    "best_energy_rl = [min(x) for x in rl_traj]\n",
    "best_energy_rand = [min(y) for y in random_traj]\n",
    "bins = np.linspace(\n",
    "    min(best_energy_rand + best_energy_rl) * 1.1,\n",
    "    max(best_energy_rand + best_energy_rl) * 0.9,\n",
    "    16\n",
    ")\n",
    "\n",
    "ax.hist(best_energy_rl, bins=bins, color='r', label='RL')\n",
    "ax.hist(best_energy_rand, bins=bins, alpha=0.5, color='b', label='Random')\n",
    "\n",
    "ax.set_xlabel('Energy (Ha)')\n",
    "ax.set_ylabel('Count')"
   ]
  },
  {
   "cell_type": "code",
   "execution_count": null,
   "id": "6df5eed0-db2d-4781-8c81-d9b598981583",
   "metadata": {},
   "outputs": [],
   "source": []
  }
 ],
 "metadata": {
  "kernelspec": {
   "display_name": "Python 3",
   "language": "python",
   "name": "python3"
  },
  "language_info": {
   "codemirror_mode": {
    "name": "ipython",
    "version": 3
   },
   "file_extension": ".py",
   "mimetype": "text/x-python",
   "name": "python",
   "nbconvert_exporter": "python",
   "pygments_lexer": "ipython3",
   "version": "3.8.10"
  }
 },
 "nbformat": 4,
 "nbformat_minor": 5
}
