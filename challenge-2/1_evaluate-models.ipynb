{
 "cells": [
  {
   "cell_type": "markdown",
   "metadata": {},
   "source": [
    "# Evaluate the Performance of MPNN models\n",
    "Get all of the models, regardless how we trained them and evaluate their performance"
   ]
  },
  {
   "cell_type": "code",
   "execution_count": 1,
   "metadata": {},
   "outputs": [],
   "source": [
    "%matplotlib inline\n",
    "from matplotlib import pyplot as plt\n",
    "from datetime import datetime\n",
    "from sklearn import metrics\n",
    "from tqdm import tqdm\n",
    "from glob import glob\n",
    "import pandas as pd\n",
    "import numpy as np\n",
    "import json\n",
    "import os"
   ]
  },
  {
   "cell_type": "markdown",
   "metadata": {},
   "source": [
    "## Find the Models and Summarize Them\n",
    "There are `best_model.h5` files in subdirectories that contain data on their configuration."
   ]
  },
  {
   "cell_type": "code",
   "execution_count": 2,
   "metadata": {},
   "outputs": [
    {
     "name": "stdout",
     "output_type": "stream",
     "text": [
      "Found 35 models\n"
     ]
    }
   ],
   "source": [
    "models = glob(os.path.join('**', 'test_predictions.csv'), recursive=True)\n",
    "print(f'Found {len(models)} models')"
   ]
  },
  {
   "cell_type": "code",
   "execution_count": 3,
   "metadata": {},
   "outputs": [],
   "source": [
    "def generate_summary(path):\n",
    "    \"\"\"Generate the summary of a model, given path to its output\n",
    "    \n",
    "    Args:\n",
    "        path (str): Path ot the trained weights\n",
    "    Returns:\n",
    "        (dict) Model information\n",
    "    \"\"\"\n",
    "    \n",
    "    # Store the directory first\n",
    "    dir_name = os.path.dirname(path)\n",
    "    output = {'path': dir_name}\n",
    "    \n",
    "    # Get the host and run parameters\n",
    "    for f in ['host_info.json', 'run_params.json']:\n",
    "        with open(os.path.join(dir_name, f)) as fp:\n",
    "            output.update(json.load(fp))\n",
    "            \n",
    "    # Compute the number of nodes\n",
    "    output['n_nodes'] = output['total_ranks'] // output['ranks_per_node'] \\\n",
    "        if 'total_ranks' in output else 1\n",
    "    \n",
    "    # Convert the start time to a datetime\n",
    "    output['start_time'] = datetime.fromisoformat(output['start_time'])\n",
    "            \n",
    "    # Get the log infomration\n",
    "    log_file = os.path.join(dir_name, 'log.csv')\n",
    "    log = pd.read_csv(log_file)\n",
    "    output['completed_epochs'] = len(log)\n",
    "    output['val_loss'] = log['val_loss'].min()\n",
    "    output['loss'] = log['loss'].min()\n",
    "    output['epoch_time'] = np.percentile(log['epoch_time'], 50)\n",
    "    output['total_train_time'] = log['epoch_time'].sum()\n",
    "    output['total_node_hours'] = output['total_train_time'] * output['n_nodes']\n",
    "    \n",
    "    # Compute performance on hold-out set\n",
    "    results = pd.read_csv(os.path.join(output['path'], 'test_predictions.csv'))\n",
    "    for m in ['r2_score', 'mean_squared_error', 'mean_absolute_error', 'median_absolute_error']:\n",
    "        v = getattr(metrics, m)(results['y_true'], results['y_pred'])\n",
    "        output[m] = v\n",
    "    \n",
    "    return output"
   ]
  },
  {
   "cell_type": "code",
   "execution_count": 4,
   "metadata": {},
   "outputs": [
    {
     "name": "stdout",
     "output_type": "stream",
     "text": [
      "Found 35 models\n"
     ]
    }
   ],
   "source": [
    "model_info = pd.DataFrame([generate_summary(m) for m in models])\n",
    "print(f'Found {len(model_info)} models')"
   ]
  },
  {
   "cell_type": "markdown",
   "metadata": {},
   "source": [
    "## Print out Best Performer\n",
    "We are going to pick the one that has the best performance on the test set"
   ]
  },
  {
   "cell_type": "markdown",
   "metadata": {},
   "source": [
    "### Coarse Network\n",
    "See how we did on the \"node per water\" network"
   ]
  },
  {
   "cell_type": "code",
   "execution_count": 5,
   "metadata": {},
   "outputs": [
    {
     "name": "stdout",
     "output_type": "stream",
     "text": [
      "Model being evaluated: train-keras/lambda3-T4-f64-N32-ed9a2d\n"
     ]
    }
   ],
   "source": [
    "model = model_info.query('network_choice==\"coarse\"').sort_values('mean_absolute_error').iloc[0]\n",
    "print(f'Model being evaluated: {model[\"path\"]}')"
   ]
  },
  {
   "cell_type": "code",
   "execution_count": 6,
   "metadata": {},
   "outputs": [
    {
     "data": {
      "text/plain": [
       "path              train-keras/lambda3-T4-f64-N32-ed9a2d\n",
       "network_choice                                   coarse\n",
       "activation                                     softsign\n",
       "message_steps                                         4\n",
       "dropout                                               0\n",
       "features                                             64\n",
       "batch_size                                         1024\n",
       "Name: 31, dtype: object"
      ]
     },
     "execution_count": 6,
     "metadata": {},
     "output_type": "execute_result"
    }
   ],
   "source": [
    "model[['path', 'network_choice', 'activation', 'message_steps', 'dropout', 'features', 'batch_size']]"
   ]
  },
  {
   "cell_type": "code",
   "execution_count": 7,
   "metadata": {},
   "outputs": [
    {
     "data": {
      "text/plain": [
       "loss                  5.70672\n",
       "val_loss              6.14787\n",
       "mean_squared_error     6.1256\n",
       "Name: 31, dtype: object"
      ]
     },
     "execution_count": 7,
     "metadata": {},
     "output_type": "execute_result"
    }
   ],
   "source": [
    "model[['loss', 'val_loss', 'mean_squared_error']]"
   ]
  },
  {
   "cell_type": "markdown",
   "metadata": {},
   "source": [
    "Plot the logs"
   ]
  },
  {
   "cell_type": "code",
   "execution_count": 8,
   "metadata": {},
   "outputs": [],
   "source": [
    "log = pd.read_csv(os.path.join(model['path'], 'log.csv'))"
   ]
  },
  {
   "cell_type": "code",
   "execution_count": 9,
   "metadata": {},
   "outputs": [
    {
     "data": {
      "text/plain": [
       "Text(0, 0.5, 'Loss')"
      ]
     },
     "execution_count": 9,
     "metadata": {},
     "output_type": "execute_result"
    },
    {
     "data": {
      "image/png": "[encoded data removed]",
      "text/plain": [
       "<Figure size 252x180 with 1 Axes>"
      ]
     },
     "metadata": {
      "needs_background": "light"
     },
     "output_type": "display_data"
    }
   ],
   "source": [
    "fig, ax = plt.subplots(figsize=(3.5, 2.5))\n",
    "\n",
    "ax.semilogy(log['epoch'], log['loss'], label='Train')\n",
    "ax.semilogy(log['epoch'], log['val_loss'], label='Validation')\n",
    "\n",
    "ax.legend()\n",
    "ax.set_xlabel('Epoch')\n",
    "ax.set_ylabel('Loss')"
   ]
  },
  {
   "cell_type": "markdown",
   "metadata": {},
   "source": [
    "*Finding*: Huge variance in validation loss is indicative of overfitting"
   ]
  },
  {
   "cell_type": "markdown",
   "metadata": {},
   "source": [
    "Plot the performance on the test set"
   ]
  },
  {
   "cell_type": "code",
   "execution_count": 10,
   "metadata": {},
   "outputs": [],
   "source": [
    "results = pd.read_csv(os.path.join(model['path'], 'test_predictions.csv'))"
   ]
  },
  {
   "cell_type": "code",
   "execution_count": 11,
   "metadata": {},
   "outputs": [
    {
     "name": "stdout",
     "output_type": "stream",
     "text": [
      "r2_score:  1.00\n",
      "mean_squared_error:  6.13\n",
      "mean_absolute_error:  1.82\n"
     ]
    }
   ],
   "source": [
    "for m in ['r2_score', 'mean_squared_error', 'mean_absolute_error']:\n",
    "    v = getattr(metrics, m)(results['y_true'], results['y_pred'])\n",
    "    print(f'{m}: {v: .2f}')"
   ]
  },
  {
   "cell_type": "markdown",
   "metadata": {},
   "source": [
    "Plot the true vs predicted"
   ]
  },
  {
   "cell_type": "code",
   "execution_count": 12,
   "metadata": {},
   "outputs": [
    {
     "data": {
      "image/png": "[encoded data removed]",
      "text/plain": [
       "<Figure size 252x252 with 1 Axes>"
      ]
     },
     "metadata": {
      "needs_background": "light"
     },
     "output_type": "display_data"
    }
   ],
   "source": [
    "fig, ax = plt.subplots()\n",
    "\n",
    "ax.scatter(results['y_true'], results['y_pred'], s=0.5, alpha=0.2)\n",
    "\n",
    "ax.plot(ax.get_xlim(), ax.get_ylim(), 'k--')\n",
    "ax.set_xlabel('$E$, True')\n",
    "ax.set_ylabel('$E$, ML')\n",
    "\n",
    "fig.set_size_inches(3.5, 3.5)"
   ]
  },
  {
   "cell_type": "markdown",
   "metadata": {},
   "source": [
    "Plot only the largest cluster size"
   ]
  },
  {
   "cell_type": "code",
   "execution_count": 13,
   "metadata": {},
   "outputs": [
    {
     "name": "stdout",
     "output_type": "stream",
     "text": [
      "Scores for the 12333 largest molecules with 30 waters\n",
      "r2_score:  0.36\n",
      "mean_squared_error:  10.41\n",
      "mean_absolute_error:  2.39\n"
     ]
    }
   ],
   "source": [
    "subset = results.query(f'n_waters == {results[\"n_waters\"].max()}')\n",
    "print(f'Scores for the {len(subset)} largest molecules with {results[\"n_waters\"].max()} waters')\n",
    "for m in ['r2_score', 'mean_squared_error', 'mean_absolute_error']:\n",
    "    v = getattr(metrics, m)(subset['y_true'], subset['y_pred'])\n",
    "    print(f'{m}: {v: .2f}')"
   ]
  },
  {
   "cell_type": "code",
   "execution_count": 14,
   "metadata": {},
   "outputs": [
    {
     "data": {
      "image/png": "[encoded data removed]",
      "text/plain": [
       "<Figure size 252x144 with 1 Axes>"
      ]
     },
     "metadata": {
      "needs_background": "light"
     },
     "output_type": "display_data"
    }
   ],
   "source": [
    "fig, ax = plt.subplots()\n",
    "\n",
    "errors = subset['y_pred'] - subset['y_true']\n",
    "bins = np.linspace(-10, 10, 256)\n",
    "ax.hist(errors, bins=bins, density=False)\n",
    "\n",
    "ax.set_xlabel('Error (kcal/mol)')\n",
    "ax.set_ylabel('Frequency')\n",
    "fig.set_size_inches(3.5, 2)"
   ]
  },
  {
   "cell_type": "code",
   "execution_count": 15,
   "metadata": {},
   "outputs": [
    {
     "data": {
      "image/png": "[encoded data removed]",
      "text/plain": [
       "<Figure size 252x252 with 1 Axes>"
      ]
     },
     "metadata": {
      "needs_background": "light"
     },
     "output_type": "display_data"
    }
   ],
   "source": [
    "fig, ax = plt.subplots(figsize=(3.5, 3.5))\n",
    "\n",
    "ax.scatter(subset['y_true'], subset['y_pred'], s=0.5, alpha=0.1)\n",
    "\n",
    "ax.set_ylim(-340, -305)\n",
    "ax.set_xlim(ax.get_ylim())\n",
    "ax.set_ylim(ax.get_xlim())\n",
    "ax.plot(ax.get_xlim(), ax.get_xlim(), 'k--')\n",
    "ax.set_xlabel('$E$ (kcal/mol), True')\n",
    "ax.set_ylabel('$E$ (kcal/mol), ML')\n",
    "\n",
    "fig.tight_layout()"
   ]
  },
  {
   "cell_type": "markdown",
   "metadata": {},
   "source": [
    "### Atomic Network\n",
    "See how we did for the \"node per atom\" network"
   ]
  },
  {
   "cell_type": "code",
   "execution_count": 16,
   "metadata": {},
   "outputs": [
    {
     "name": "stdout",
     "output_type": "stream",
     "text": [
      "Model being evaluated: train-keras/lambda3-T32-f64-N32-be165f\n"
     ]
    }
   ],
   "source": [
    "model = model_info.query('network_choice==\"atomic\"').sort_values('mean_absolute_error').iloc[0]\n",
    "print(f'Model being evaluated: {model[\"path\"]}')"
   ]
  },
  {
   "cell_type": "code",
   "execution_count": 17,
   "metadata": {},
   "outputs": [
    {
     "data": {
      "text/plain": [
       "path              train-keras/lambda3-T32-f64-N32-be165f\n",
       "network_choice                                    atomic\n",
       "activation                                      softplus\n",
       "message_steps                                         32\n",
       "dropout                                                0\n",
       "features                                              64\n",
       "batch_size                                          1024\n",
       "Name: 33, dtype: object"
      ]
     },
     "execution_count": 17,
     "metadata": {},
     "output_type": "execute_result"
    }
   ],
   "source": [
    "model[['path', 'network_choice', 'activation', 'message_steps', 'dropout', 'features', 'batch_size']]"
   ]
  },
  {
   "cell_type": "code",
   "execution_count": 18,
   "metadata": {},
   "outputs": [
    {
     "data": {
      "text/plain": [
       "loss                  1.41449\n",
       "val_loss              1.95186\n",
       "mean_squared_error     1.9853\n",
       "Name: 33, dtype: object"
      ]
     },
     "execution_count": 18,
     "metadata": {},
     "output_type": "execute_result"
    }
   ],
   "source": [
    "model[['loss', 'val_loss', 'mean_squared_error']]"
   ]
  },
  {
   "cell_type": "markdown",
   "metadata": {},
   "source": [
    "Plot the logs"
   ]
  },
  {
   "cell_type": "code",
   "execution_count": 19,
   "metadata": {},
   "outputs": [],
   "source": [
    "log = pd.read_csv(os.path.join(model['path'], 'log.csv'))"
   ]
  },
  {
   "cell_type": "code",
   "execution_count": 20,
   "metadata": {},
   "outputs": [
    {
     "data": {
      "text/plain": [
       "Text(0, 0.5, 'Loss')"
      ]
     },
     "execution_count": 20,
     "metadata": {},
     "output_type": "execute_result"
    },
    {
     "data": {
      "image/png": "[encoded data removed]",
      "text/plain": [
       "<Figure size 432x288 with 1 Axes>"
      ]
     },
     "metadata": {
      "needs_background": "light"
     },
     "output_type": "display_data"
    }
   ],
   "source": [
    "fig, ax = plt.subplots()\n",
    "\n",
    "ax.semilogy(log['epoch'], log['loss'], label='Train')\n",
    "ax.semilogy(log['epoch'], log['val_loss'], label='Validation')\n",
    "\n",
    "ax.legend()\n",
    "ax.set_xlabel('Epoch')\n",
    "ax.set_ylabel('Loss')"
   ]
  },
  {
   "cell_type": "markdown",
   "metadata": {},
   "source": [
    "*Finding*: Huge variance in validation loss is indicative of overfitting"
   ]
  },
  {
   "cell_type": "markdown",
   "metadata": {},
   "source": [
    "Plot the performance on the test set"
   ]
  },
  {
   "cell_type": "code",
   "execution_count": 21,
   "metadata": {},
   "outputs": [],
   "source": [
    "results = pd.read_csv(os.path.join(model['path'], 'test_predictions.csv'))"
   ]
  },
  {
   "cell_type": "code",
   "execution_count": 22,
   "metadata": {},
   "outputs": [
    {
     "name": "stdout",
     "output_type": "stream",
     "text": [
      "r2_score:  1.00\n",
      "mean_squared_error:  1.99\n",
      "mean_absolute_error:  1.03\n"
     ]
    }
   ],
   "source": [
    "for m in ['r2_score', 'mean_squared_error', 'mean_absolute_error']:\n",
    "    v = getattr(metrics, m)(results['y_true'], results['y_pred'])\n",
    "    print(f'{m}: {v: .2f}')"
   ]
  },
  {
   "cell_type": "markdown",
   "metadata": {},
   "source": [
    "Plot the true vs predicted"
   ]
  },
  {
   "cell_type": "code",
   "execution_count": 23,
   "metadata": {},
   "outputs": [
    {
     "data": {
      "image/png": "[encoded data removed]",
      "text/plain": [
       "<Figure size 252x252 with 1 Axes>"
      ]
     },
     "metadata": {
      "needs_background": "light"
     },
     "output_type": "display_data"
    }
   ],
   "source": [
    "fig, ax = plt.subplots(figsize=(3.5, 3.5))\n",
    "\n",
    "ax.set_title('Performance on hold-out set')\n",
    "ax.scatter(results['y_true'], results['y_pred'], s=0.5, alpha=0.2)\n",
    "\n",
    "ax.plot(ax.get_xlim(), ax.get_ylim(), 'k--')\n",
    "ax.set_xlabel('$E$, True')\n",
    "ax.set_ylabel('$E$, ML')\n",
    "\n",
    "fig.set_size_inches(3.5, 3.5)"
   ]
  },
  {
   "cell_type": "markdown",
   "metadata": {},
   "source": [
    "Plot only the largest cluster size"
   ]
  },
  {
   "cell_type": "code",
   "execution_count": 24,
   "metadata": {},
   "outputs": [
    {
     "name": "stdout",
     "output_type": "stream",
     "text": [
      "Scores for the 12333 largest molecules with 30 waters\n",
      "r2_score:  0.84\n",
      "mean_squared_error:  2.62\n",
      "mean_absolute_error:  1.16\n"
     ]
    }
   ],
   "source": [
    "subset = results.query(f'n_waters == {results[\"n_waters\"].max()}')\n",
    "print(f'Scores for the {len(subset)} largest molecules with {results[\"n_waters\"].max()} waters')\n",
    "for m in ['r2_score', 'mean_squared_error', 'mean_absolute_error']:\n",
    "    v = getattr(metrics, m)(subset['y_true'], subset['y_pred'])\n",
    "    print(f'{m}: {v: .2f}')"
   ]
  },
  {
   "cell_type": "code",
   "execution_count": 25,
   "metadata": {},
   "outputs": [
    {
     "data": {
      "image/png": "[encoded data removed]",
      "text/plain": [
       "<Figure size 252x144 with 1 Axes>"
      ]
     },
     "metadata": {
      "needs_background": "light"
     },
     "output_type": "display_data"
    }
   ],
   "source": [
    "fig, ax = plt.subplots()\n",
    "\n",
    "errors = subset['y_pred'] - subset['y_true']\n",
    "bins = np.linspace(-10, 10, 256)\n",
    "ax.hist(errors, bins=bins, density=False)\n",
    "\n",
    "ax.set_xlabel('Error (kcal/mol)')\n",
    "ax.set_ylabel('Frequency')\n",
    "fig.set_size_inches(3.5, 2)"
   ]
  },
  {
   "cell_type": "code",
   "execution_count": 26,
   "metadata": {},
   "outputs": [
    {
     "data": {
      "image/png": "[encoded data removed]",
      "text/plain": [
       "<Figure size 252x252 with 1 Axes>"
      ]
     },
     "metadata": {
      "needs_background": "light"
     },
     "output_type": "display_data"
    }
   ],
   "source": [
    "fig, ax = plt.subplots(figsize=(3.5, 3.5))\n",
    "\n",
    "ax.set_title('Clusters with 30 waters')\n",
    "ax.scatter(subset['y_true'], subset['y_pred'], s=0.5, alpha=0.1)\n",
    "\n",
    "ax.set_ylim(-340, -305)\n",
    "ax.set_xlim(ax.get_ylim())\n",
    "ax.set_ylim(ax.get_xlim())\n",
    "ax.plot(ax.get_xlim(), ax.get_xlim(), 'k--')\n",
    "ax.set_xlabel('$E$ (kcal/mol), True')\n",
    "ax.set_ylabel('$E$ (kcal/mol), ML')\n",
    "\n",
    "fig.tight_layout()"
   ]
  },
  {
   "cell_type": "markdown",
   "metadata": {},
   "source": [
    "Make a publication-ready figure"
   ]
  },
  {
   "cell_type": "code",
   "execution_count": 27,
   "metadata": {},
   "outputs": [
    {
     "data": {
      "image/png": "[encoded data removed]",
      "text/plain": [
       "<Figure size 468x180 with 3 Axes>"
      ]
     },
     "metadata": {
      "needs_background": "light"
     },
     "output_type": "display_data"
    }
   ],
   "source": [
    "fig, axs = plt.subplots(1, 3, figsize=(6.5, 2.5))\n",
    "\n",
    "# Predicted vs actual plots\n",
    "n_waters = results[\"n_waters\"].max()\n",
    "subset = results.query(f'n_waters == {n_waters}')\n",
    "for d, ax, title in zip([results, subset], axs,\n",
    "                        ['Full Dataset', '30-Water Clusters']):\n",
    "    ax.set_title(title)\n",
    "    ax.scatter(d['y_true'], d['y_pred'], s=0.7, alpha=0.2, edgecolor='none')\n",
    "\n",
    "    max_ = max(ax.get_xlim()[1], ax.get_ylim()[1])\n",
    "    min_ = min(ax.get_xlim()[0], ax.get_ylim()[0])\n",
    "    ax.set_xlim([min_, max_])\n",
    "    ax.set_ylim(ax.get_xlim())\n",
    "    ax.plot(ax.get_xlim(), ax.get_xlim(), 'k--')\n",
    "    ax.set_xlabel('$E$ (kcal/mol), True')\n",
    "    ax.set_ylabel('$E$ (kcal/mol), ML')\n",
    "    \n",
    "    mae = metrics.mean_absolute_error(d['y_true'], d['y_pred'])\n",
    "    r2 = metrics.r2_score(d['y_true'], d['y_pred'])\n",
    "    ax.text(0.99, 0, f'MAE: {mae:.2f}\\n$R^2$: {r2:.2f}',\n",
    "            ha='right', va='bottom', transform=ax.transAxes,\n",
    "            fontsize=10)\n",
    "    \n",
    "# Box and wisker plot\n",
    "ax = axs[2]\n",
    "error_stats = []\n",
    "for s, subset in results.groupby('n_waters'):\n",
    "    error = np.abs(subset['y_pred'] - subset['y_true']) / s\n",
    "    error_stats.append({'size': s, 'mae': error.mean()})\n",
    "error_stats = pd.DataFrame(error_stats)\n",
    "ax.plot(error_stats['size'], error_stats['mae'], '--o', ms=3)\n",
    "ax.set_xlabel('# Waters')\n",
    "ax.set_ylabel('MAE (kcal/mol/water)')\n",
    "\n",
    "# Add figure labels\n",
    "for ax, l in zip(axs[:2], ['a', 'b']):\n",
    "    ax.text(0.02, 0.9, f'({l})', transform=ax.transAxes)\n",
    "axs[2].text(0.82, 0.9, '(c)', transform=axs[2].transAxes)\n",
    "    \n",
    "fig.tight_layout()\n",
    "fig.savefig(os.path.join('figures', 'mpnn-performance.png'), dpi=320)"
   ]
  },
  {
   "cell_type": "markdown",
   "metadata": {},
   "source": [
    "## Make the Box Plot\n",
    "To match Jenna's"
   ]
  },
  {
   "cell_type": "code",
   "execution_count": 28,
   "metadata": {},
   "outputs": [],
   "source": [
    "results['abs_error_per_water'] = np.abs(results['y_true'] - results['y_pred']) / results['n_waters']"
   ]
  },
  {
   "cell_type": "code",
   "execution_count": 29,
   "metadata": {},
   "outputs": [
    {
     "data": {
      "image/png": "[encoded data removed]",
      "text/plain": [
       "<Figure size 864x432 with 1 Axes>"
      ]
     },
     "metadata": {
      "needs_background": "light"
     },
     "output_type": "display_data"
    }
   ],
   "source": [
    "def make_box_plot(df, metric='abs_error_per_water'):       \n",
    "    boxplot = df.query('n_waters >= 10 and n_waters <= 30').boxplot(metric, 'n_waters', grid=False, fontsize=20, figsize=(12,6), return_type='both')\n",
    "    plt.ylim(-0.01,0.7)\n",
    "    plt.ylabel('Absolute Error\\n(kcal/mol/water)', fontsize=22, fontweight='bold', labelpad=15)\n",
    "    plt.xlabel('Cluster Size', fontsize=22, fontweight='bold', labelpad=15)\n",
    "    plt.xticks(range(1,23,2), ['10','12','14','16','18','20','22','24','26','28','30'])\n",
    "    plt.xlim(0, 22)\n",
    "    plt.suptitle('')\n",
    "    plt.title('')\n",
    "    plt.tight_layout()\n",
    "    plt.savefig('figures/mpnn_boxplot-horz.png',dpi=600)\n",
    "make_box_plot(results)"
   ]
  },
  {
   "cell_type": "markdown",
   "metadata": {},
   "source": [
    "## Evaluate Hyperparameter Sweeps\n",
    "We did some manual hyperparameter tuning for the atomic model"
   ]
  },
  {
   "cell_type": "markdown",
   "metadata": {},
   "source": [
    "### Batch Sizes\n",
    "Evaluate different batch sizes to get a tradeoff between accuracy and using the full GPU"
   ]
  },
  {
   "cell_type": "code",
   "execution_count": 30,
   "metadata": {},
   "outputs": [],
   "source": [
    "base_query = ('epochs==32 and shuffle_buffer_size==2097152 and activation==\"sigmoid\" '\n",
    "              'and message_steps==4 and network_choice==\"atomic\" and dropout==0 and features==64')"
   ]
  },
  {
   "cell_type": "code",
   "execution_count": 31,
   "metadata": {},
   "outputs": [
    {
     "data": {
      "text/html": [
       "<div>\n",
       "<style scoped>\n",
       "    .dataframe tbody tr th:only-of-type {\n",
       "        vertical-align: middle;\n",
       "    }\n",
       "\n",
       "    .dataframe tbody tr th {\n",
       "        vertical-align: top;\n",
       "    }\n",
       "\n",
       "    .dataframe thead th {\n",
       "        text-align: right;\n",
       "    }\n",
       "</style>\n",
       "<table border=\"1\" class=\"dataframe\">\n",
       "  <thead>\n",
       "    <tr style=\"text-align: right;\">\n",
       "      <th></th>\n",
       "      <th>batch_size</th>\n",
       "      <th>loss</th>\n",
       "      <th>val_loss</th>\n",
       "      <th>mean_squared_error</th>\n",
       "      <th>epoch_time</th>\n",
       "    </tr>\n",
       "  </thead>\n",
       "  <tbody>\n",
       "    <tr>\n",
       "      <th>2</th>\n",
       "      <td>1024</td>\n",
       "      <td>19.363194</td>\n",
       "      <td>19.398678</td>\n",
       "      <td>19.251877</td>\n",
       "      <td>306.585818</td>\n",
       "    </tr>\n",
       "    <tr>\n",
       "      <th>17</th>\n",
       "      <td>2048</td>\n",
       "      <td>19.376310</td>\n",
       "      <td>19.407209</td>\n",
       "      <td>19.257725</td>\n",
       "      <td>288.678715</td>\n",
       "    </tr>\n",
       "    <tr>\n",
       "      <th>8</th>\n",
       "      <td>256</td>\n",
       "      <td>19.403006</td>\n",
       "      <td>19.426159</td>\n",
       "      <td>19.270430</td>\n",
       "      <td>422.835339</td>\n",
       "    </tr>\n",
       "    <tr>\n",
       "      <th>34</th>\n",
       "      <td>512</td>\n",
       "      <td>19.405556</td>\n",
       "      <td>19.437868</td>\n",
       "      <td>19.277954</td>\n",
       "      <td>346.277758</td>\n",
       "    </tr>\n",
       "    <tr>\n",
       "      <th>7</th>\n",
       "      <td>1024</td>\n",
       "      <td>19.442961</td>\n",
       "      <td>19.541842</td>\n",
       "      <td>19.392525</td>\n",
       "      <td>313.491092</td>\n",
       "    </tr>\n",
       "    <tr>\n",
       "      <th>4</th>\n",
       "      <td>128</td>\n",
       "      <td>19.724388</td>\n",
       "      <td>19.677641</td>\n",
       "      <td>19.527553</td>\n",
       "      <td>585.525367</td>\n",
       "    </tr>\n",
       "    <tr>\n",
       "      <th>27</th>\n",
       "      <td>32</td>\n",
       "      <td>19.970613</td>\n",
       "      <td>19.757389</td>\n",
       "      <td>19.600475</td>\n",
       "      <td>1918.379986</td>\n",
       "    </tr>\n",
       "    <tr>\n",
       "      <th>9</th>\n",
       "      <td>64</td>\n",
       "      <td>19.823885</td>\n",
       "      <td>19.820322</td>\n",
       "      <td>19.651119</td>\n",
       "      <td>1040.957738</td>\n",
       "    </tr>\n",
       "  </tbody>\n",
       "</table>\n",
       "</div>"
      ],
      "text/plain": [
       "    batch_size       loss   val_loss  mean_squared_error   epoch_time\n",
       "2         1024  19.363194  19.398678           19.251877   306.585818\n",
       "17        2048  19.376310  19.407209           19.257725   288.678715\n",
       "8          256  19.403006  19.426159           19.270430   422.835339\n",
       "34         512  19.405556  19.437868           19.277954   346.277758\n",
       "7         1024  19.442961  19.541842           19.392525   313.491092\n",
       "4          128  19.724388  19.677641           19.527553   585.525367\n",
       "27          32  19.970613  19.757389           19.600475  1918.379986\n",
       "9           64  19.823885  19.820322           19.651119  1040.957738"
      ]
     },
     "execution_count": 31,
     "metadata": {},
     "output_type": "execute_result"
    }
   ],
   "source": [
    "model_info.query(base_query).sort_values('val_loss')[['batch_size', 'loss', 'val_loss', 'mean_squared_error', 'epoch_time']]"
   ]
  },
  {
   "cell_type": "markdown",
   "metadata": {},
   "source": [
    "*Finding*: We get decent accuracy with a batch size of 1024 and still use 90% of the GPU"
   ]
  },
  {
   "cell_type": "markdown",
   "metadata": {},
   "source": [
    "### Activation Function\n",
    "We evaluated different activation functions for the message steps"
   ]
  },
  {
   "cell_type": "code",
   "execution_count": 32,
   "metadata": {},
   "outputs": [],
   "source": [
    "base_query = ('batch_size==1024 and epochs==32 and shuffle_buffer_size==2097152 '\n",
    "              'and message_steps==4 and network_choice==\"atomic\" and dropout==0 and features==64')"
   ]
  },
  {
   "cell_type": "code",
   "execution_count": 33,
   "metadata": {},
   "outputs": [
    {
     "data": {
      "text/html": [
       "<div>\n",
       "<style scoped>\n",
       "    .dataframe tbody tr th:only-of-type {\n",
       "        vertical-align: middle;\n",
       "    }\n",
       "\n",
       "    .dataframe tbody tr th {\n",
       "        vertical-align: top;\n",
       "    }\n",
       "\n",
       "    .dataframe thead th {\n",
       "        text-align: right;\n",
       "    }\n",
       "</style>\n",
       "<table border=\"1\" class=\"dataframe\">\n",
       "  <thead>\n",
       "    <tr style=\"text-align: right;\">\n",
       "      <th></th>\n",
       "      <th>activation</th>\n",
       "      <th>loss</th>\n",
       "      <th>val_loss</th>\n",
       "      <th>mean_squared_error</th>\n",
       "      <th>epoch_time</th>\n",
       "    </tr>\n",
       "  </thead>\n",
       "  <tbody>\n",
       "    <tr>\n",
       "      <th>5</th>\n",
       "      <td>softplus</td>\n",
       "      <td>19.363789</td>\n",
       "      <td>19.398638</td>\n",
       "      <td>19.241763</td>\n",
       "      <td>304.652230</td>\n",
       "    </tr>\n",
       "    <tr>\n",
       "      <th>2</th>\n",
       "      <td>sigmoid</td>\n",
       "      <td>19.363194</td>\n",
       "      <td>19.398678</td>\n",
       "      <td>19.251877</td>\n",
       "      <td>306.585818</td>\n",
       "    </tr>\n",
       "    <tr>\n",
       "      <th>19</th>\n",
       "      <td>softplus</td>\n",
       "      <td>19.409700</td>\n",
       "      <td>19.432455</td>\n",
       "      <td>19.286464</td>\n",
       "      <td>314.062405</td>\n",
       "    </tr>\n",
       "    <tr>\n",
       "      <th>26</th>\n",
       "      <td>softmax</td>\n",
       "      <td>19.401388</td>\n",
       "      <td>19.439009</td>\n",
       "      <td>19.288677</td>\n",
       "      <td>315.037998</td>\n",
       "    </tr>\n",
       "    <tr>\n",
       "      <th>12</th>\n",
       "      <td>softsign</td>\n",
       "      <td>19.436844</td>\n",
       "      <td>19.462547</td>\n",
       "      <td>19.302105</td>\n",
       "      <td>314.516597</td>\n",
       "    </tr>\n",
       "    <tr>\n",
       "      <th>21</th>\n",
       "      <td>tanh</td>\n",
       "      <td>19.418333</td>\n",
       "      <td>19.471066</td>\n",
       "      <td>19.310736</td>\n",
       "      <td>312.946379</td>\n",
       "    </tr>\n",
       "    <tr>\n",
       "      <th>7</th>\n",
       "      <td>sigmoid</td>\n",
       "      <td>19.442961</td>\n",
       "      <td>19.541842</td>\n",
       "      <td>19.392525</td>\n",
       "      <td>313.491092</td>\n",
       "    </tr>\n",
       "  </tbody>\n",
       "</table>\n",
       "</div>"
      ],
      "text/plain": [
       "   activation       loss   val_loss  mean_squared_error  epoch_time\n",
       "5    softplus  19.363789  19.398638           19.241763  304.652230\n",
       "2     sigmoid  19.363194  19.398678           19.251877  306.585818\n",
       "19   softplus  19.409700  19.432455           19.286464  314.062405\n",
       "26    softmax  19.401388  19.439009           19.288677  315.037998\n",
       "12   softsign  19.436844  19.462547           19.302105  314.516597\n",
       "21       tanh  19.418333  19.471066           19.310736  312.946379\n",
       "7     sigmoid  19.442961  19.541842           19.392525  313.491092"
      ]
     },
     "execution_count": 33,
     "metadata": {},
     "output_type": "execute_result"
    }
   ],
   "source": [
    "model_info.query(base_query).sort_values('mean_squared_error')[['activation', 'loss', 'val_loss', 'mean_squared_error', 'epoch_time']]"
   ]
  },
  {
   "cell_type": "markdown",
   "metadata": {},
   "source": [
    "*Finding*: We should go with the softplus. Fastest and most accurate"
   ]
  },
  {
   "cell_type": "markdown",
   "metadata": {},
   "source": [
    "### Number of Message Passing Layers\n",
    "We compared increasing the number of message passing layers"
   ]
  },
  {
   "cell_type": "code",
   "execution_count": 34,
   "metadata": {},
   "outputs": [],
   "source": [
    "base_query = ('hostname==\"lambda3\" and shuffle_buffer_size==2097152 and batch_size==1024 and activation==\"softplus\" and epochs==32 '\n",
    "              'and network_choice==\"atomic\"')"
   ]
  },
  {
   "cell_type": "code",
   "execution_count": 35,
   "metadata": {},
   "outputs": [
    {
     "data": {
      "text/html": [
       "<div>\n",
       "<style scoped>\n",
       "    .dataframe tbody tr th:only-of-type {\n",
       "        vertical-align: middle;\n",
       "    }\n",
       "\n",
       "    .dataframe tbody tr th {\n",
       "        vertical-align: top;\n",
       "    }\n",
       "\n",
       "    .dataframe thead th {\n",
       "        text-align: right;\n",
       "    }\n",
       "</style>\n",
       "<table border=\"1\" class=\"dataframe\">\n",
       "  <thead>\n",
       "    <tr style=\"text-align: right;\">\n",
       "      <th></th>\n",
       "      <th>network_choice</th>\n",
       "      <th>message_steps</th>\n",
       "      <th>loss</th>\n",
       "      <th>val_loss</th>\n",
       "      <th>mean_squared_error</th>\n",
       "      <th>epoch_time</th>\n",
       "    </tr>\n",
       "  </thead>\n",
       "  <tbody>\n",
       "    <tr>\n",
       "      <th>3</th>\n",
       "      <td>atomic</td>\n",
       "      <td>1</td>\n",
       "      <td>31.174067</td>\n",
       "      <td>31.091873</td>\n",
       "      <td>31.005929</td>\n",
       "      <td>180.712310</td>\n",
       "    </tr>\n",
       "    <tr>\n",
       "      <th>20</th>\n",
       "      <td>atomic</td>\n",
       "      <td>2</td>\n",
       "      <td>27.901661</td>\n",
       "      <td>27.905479</td>\n",
       "      <td>27.782185</td>\n",
       "      <td>227.060249</td>\n",
       "    </tr>\n",
       "    <tr>\n",
       "      <th>5</th>\n",
       "      <td>atomic</td>\n",
       "      <td>4</td>\n",
       "      <td>19.363789</td>\n",
       "      <td>19.398638</td>\n",
       "      <td>19.241763</td>\n",
       "      <td>304.652230</td>\n",
       "    </tr>\n",
       "    <tr>\n",
       "      <th>19</th>\n",
       "      <td>atomic</td>\n",
       "      <td>4</td>\n",
       "      <td>19.409700</td>\n",
       "      <td>19.432455</td>\n",
       "      <td>19.286464</td>\n",
       "      <td>314.062405</td>\n",
       "    </tr>\n",
       "    <tr>\n",
       "      <th>23</th>\n",
       "      <td>atomic</td>\n",
       "      <td>8</td>\n",
       "      <td>5.878589</td>\n",
       "      <td>6.420089</td>\n",
       "      <td>6.385971</td>\n",
       "      <td>482.344306</td>\n",
       "    </tr>\n",
       "    <tr>\n",
       "      <th>28</th>\n",
       "      <td>atomic</td>\n",
       "      <td>16</td>\n",
       "      <td>3.091225</td>\n",
       "      <td>3.726466</td>\n",
       "      <td>3.722547</td>\n",
       "      <td>864.708338</td>\n",
       "    </tr>\n",
       "    <tr>\n",
       "      <th>33</th>\n",
       "      <td>atomic</td>\n",
       "      <td>32</td>\n",
       "      <td>1.414494</td>\n",
       "      <td>1.951858</td>\n",
       "      <td>1.985300</td>\n",
       "      <td>1551.005450</td>\n",
       "    </tr>\n",
       "  </tbody>\n",
       "</table>\n",
       "</div>"
      ],
      "text/plain": [
       "   network_choice  message_steps       loss   val_loss  mean_squared_error  \\\n",
       "3          atomic              1  31.174067  31.091873           31.005929   \n",
       "20         atomic              2  27.901661  27.905479           27.782185   \n",
       "5          atomic              4  19.363789  19.398638           19.241763   \n",
       "19         atomic              4  19.409700  19.432455           19.286464   \n",
       "23         atomic              8   5.878589   6.420089            6.385971   \n",
       "28         atomic             16   3.091225   3.726466            3.722547   \n",
       "33         atomic             32   1.414494   1.951858            1.985300   \n",
       "\n",
       "     epoch_time  \n",
       "3    180.712310  \n",
       "20   227.060249  \n",
       "5    304.652230  \n",
       "19   314.062405  \n",
       "23   482.344306  \n",
       "28   864.708338  \n",
       "33  1551.005450  "
      ]
     },
     "execution_count": 35,
     "metadata": {},
     "output_type": "execute_result"
    }
   ],
   "source": [
    "model_info.query(base_query).sort_values('message_steps')[['network_choice', 'message_steps', \n",
    "                                                           'loss', 'val_loss', 'mean_squared_error',\n",
    "                                                          'epoch_time']]"
   ]
  },
  {
   "cell_type": "code",
   "execution_count": 36,
   "metadata": {},
   "outputs": [
    {
     "data": {
      "text/plain": [
       "<matplotlib.legend.Legend at 0x7f57bc7b5610>"
      ]
     },
     "execution_count": 36,
     "metadata": {},
     "output_type": "execute_result"
    },
    {
     "data": {
      "image/png": "[encoded data removed]",
      "text/plain": [
       "<Figure size 432x288 with 1 Axes>"
      ]
     },
     "metadata": {
      "needs_background": "light"
     },
     "output_type": "display_data"
    }
   ],
   "source": [
    "fig, ax = plt.subplots()\n",
    "\n",
    "for label, subset in model_info.query(base_query).sort_values('message_steps').groupby('network_choice'):\n",
    "    ax.plot(subset['message_steps'], subset['mean_absolute_error'], '-o', label=label)\n",
    "\n",
    "ax.set_xscale('log', base=2)\n",
    "ax.set_xlabel('Message Steps')\n",
    "ax.set_ylabel('Mean Absolute Error')\n",
    "ax.legend()"
   ]
  },
  {
   "cell_type": "markdown",
   "metadata": {},
   "source": [
    "*Finding*: We need many message passing layers, which can get expensive"
   ]
  },
  {
   "cell_type": "code",
   "execution_count": null,
   "metadata": {},
   "outputs": [],
   "source": []
  }
 ],
 "metadata": {
  "kernelspec": {
   "display_name": "Python 3",
   "language": "python",
   "name": "python3"
  },
  "language_info": {
   "codemirror_mode": {
    "name": "ipython",
    "version": 3
   },
   "file_extension": ".py",
   "mimetype": "text/x-python",
   "name": "python",
   "nbconvert_exporter": "python",
   "pygments_lexer": "ipython3",
   "version": "3.7.4"
  }
 },
 "nbformat": 4,
 "nbformat_minor": 4
}
