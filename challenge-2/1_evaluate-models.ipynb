{
 "cells": [
  {
   "cell_type": "markdown",
   "metadata": {},
   "source": [
    "# Evaluate the Performance of MPNN models\n",
    "Get all of the models, regardless how we trained them and evaluate their performance"
   ]
  },
  {
   "cell_type": "code",
   "execution_count": 1,
   "metadata": {},
   "outputs": [],
   "source": [
    "%matplotlib inline\n",
    "from matplotlib import pyplot as plt\n",
    "from datetime import datetime\n",
    "from sklearn import metrics\n",
    "from tqdm import tqdm\n",
    "from glob import glob\n",
    "import pandas as pd\n",
    "import numpy as np\n",
    "import json\n",
    "import os"
   ]
  },
  {
   "cell_type": "markdown",
   "metadata": {},
   "source": [
    "## Find the Models and Summarize Them\n",
    "There are `best_model.h5` files in subdirectories that contain data on their configuration."
   ]
  },
  {
   "cell_type": "code",
   "execution_count": 2,
   "metadata": {},
   "outputs": [
    {
     "name": "stdout",
     "output_type": "stream",
     "text": [
      "Found 24 models\n"
     ]
    }
   ],
   "source": [
    "models = glob(os.path.join('**', 'test_predictions.csv'), recursive=True)\n",
    "print(f'Found {len(models)} models')"
   ]
  },
  {
   "cell_type": "code",
   "execution_count": 3,
   "metadata": {},
   "outputs": [],
   "source": [
    "def generate_summary(path):\n",
    "    \"\"\"Generate the summary of a model, given path to its output\n",
    "    \n",
    "    Args:\n",
    "        path (str): Path ot the trained weights\n",
    "    Returns:\n",
    "        (dict) Model information\n",
    "    \"\"\"\n",
    "    \n",
    "    # Store the directory first\n",
    "    dir_name = os.path.dirname(path)\n",
    "    output = {'path': dir_name}\n",
    "    \n",
    "    # Get the host and run parameters\n",
    "    for f in ['host_info.json', 'run_params.json']:\n",
    "        with open(os.path.join(dir_name, f)) as fp:\n",
    "            output.update(json.load(fp))\n",
    "            \n",
    "    # Compute the number of nodes\n",
    "    output['n_nodes'] = output['total_ranks'] // output['ranks_per_node'] \\\n",
    "        if 'total_ranks' in output else 1\n",
    "    \n",
    "    # Convert the start time to a datetime\n",
    "    output['start_time'] = datetime.fromisoformat(output['start_time'])\n",
    "            \n",
    "    # Get the log infomration\n",
    "    log_file = os.path.join(dir_name, 'log.csv')\n",
    "    log = pd.read_csv(log_file)\n",
    "    output['completed_epochs'] = len(log)\n",
    "    output['val_loss'] = log['val_loss'].min()\n",
    "    output['loss'] = log['loss'].min()\n",
    "    output['epoch_time'] = np.percentile(log['epoch_time'], 50)\n",
    "    output['total_train_time'] = log['epoch_time'].sum()\n",
    "    output['total_node_hours'] = output['total_train_time'] * output['n_nodes']\n",
    "    \n",
    "    # Compute performance on hold-out set\n",
    "    results = pd.read_csv(os.path.join(output['path'], 'test_predictions.csv'))\n",
    "    for m in ['r2_score', 'mean_squared_error', 'mean_absolute_error', 'median_absolute_error']:\n",
    "        v = getattr(metrics, m)(results['y_true'], results['y_pred'])\n",
    "        output[m] = v\n",
    "    \n",
    "    return output"
   ]
  },
  {
   "cell_type": "code",
   "execution_count": 4,
   "metadata": {},
   "outputs": [
    {
     "name": "stdout",
     "output_type": "stream",
     "text": [
      "Found 24 models\n"
     ]
    }
   ],
   "source": [
    "model_info = pd.DataFrame([generate_summary(m) for m in models])\n",
    "print(f'Found {len(model_info)} models')"
   ]
  },
  {
   "cell_type": "markdown",
   "metadata": {},
   "source": [
    "## Print out Best Performer\n",
    "We are going to pick the one that has the best performance on the test set"
   ]
  },
  {
   "cell_type": "markdown",
   "metadata": {},
   "source": [
    "### Coarse Network\n",
    "See how we did on the \"node per water\" network"
   ]
  },
  {
   "cell_type": "code",
   "execution_count": 5,
   "metadata": {},
   "outputs": [
    {
     "name": "stdout",
     "output_type": "stream",
     "text": [
      "Model being evaluated: train-keras/lambda3-T4-f64-N32-6414ef\n"
     ]
    }
   ],
   "source": [
    "model = model_info.query('network_choice==\"coarse\"').sort_values('mean_absolute_error').iloc[0]\n",
    "print(f'Model being evaluated: {model[\"path\"]}')"
   ]
  },
  {
   "cell_type": "code",
   "execution_count": 6,
   "metadata": {},
   "outputs": [
    {
     "data": {
      "text/plain": [
       "path              train-keras/lambda3-T4-f64-N32-6414ef\n",
       "network_choice                                   coarse\n",
       "activation                                      sigmoid\n",
       "message_steps                                         4\n",
       "dropout                                               0\n",
       "features                                             64\n",
       "batch_size                                          256\n",
       "Name: 18, dtype: object"
      ]
     },
     "execution_count": 6,
     "metadata": {},
     "output_type": "execute_result"
    }
   ],
   "source": [
    "model[['path', 'network_choice', 'activation', 'message_steps', 'dropout', 'features', 'batch_size']]"
   ]
  },
  {
   "cell_type": "code",
   "execution_count": 7,
   "metadata": {},
   "outputs": [
    {
     "data": {
      "text/plain": [
       "loss                  6.59349\n",
       "val_loss              7.90026\n",
       "mean_squared_error    7.85678\n",
       "Name: 18, dtype: object"
      ]
     },
     "execution_count": 7,
     "metadata": {},
     "output_type": "execute_result"
    }
   ],
   "source": [
    "model[['loss', 'val_loss', 'mean_squared_error']]"
   ]
  },
  {
   "cell_type": "markdown",
   "metadata": {},
   "source": [
    "Plot the logs"
   ]
  },
  {
   "cell_type": "code",
   "execution_count": 8,
   "metadata": {},
   "outputs": [],
   "source": [
    "log = pd.read_csv(os.path.join(model['path'], 'log.csv'))"
   ]
  },
  {
   "cell_type": "code",
   "execution_count": 9,
   "metadata": {},
   "outputs": [
    {
     "data": {
      "text/plain": [
       "Text(0, 0.5, 'Loss')"
      ]
     },
     "execution_count": 9,
     "metadata": {},
     "output_type": "execute_result"
    },
    {
     "data": {
      "image/png": "[encoded data removed]",
      "text/plain": [
       "<Figure size 252x180 with 1 Axes>"
      ]
     },
     "metadata": {
      "needs_background": "light"
     },
     "output_type": "display_data"
    }
   ],
   "source": [
    "fig, ax = plt.subplots(figsize=(3.5, 2.5))\n",
    "\n",
    "ax.semilogy(log['epoch'], log['loss'], label='Train')\n",
    "ax.semilogy(log['epoch'], log['val_loss'], label='Validation')\n",
    "\n",
    "ax.legend()\n",
    "ax.set_xlabel('Epoch')\n",
    "ax.set_ylabel('Loss')"
   ]
  },
  {
   "cell_type": "markdown",
   "metadata": {},
   "source": [
    "*Finding*: Huge variance in validation loss is indicative of overfitting"
   ]
  },
  {
   "cell_type": "markdown",
   "metadata": {},
   "source": [
    "Plot the performance on the test set"
   ]
  },
  {
   "cell_type": "code",
   "execution_count": 10,
   "metadata": {},
   "outputs": [],
   "source": [
    "results = pd.read_csv(os.path.join(model['path'], 'test_predictions.csv'))"
   ]
  },
  {
   "cell_type": "code",
   "execution_count": 11,
   "metadata": {},
   "outputs": [
    {
     "name": "stdout",
     "output_type": "stream",
     "text": [
      "r2_score:  1.00\n",
      "mean_squared_error:  7.86\n",
      "mean_absolute_error:  2.12\n"
     ]
    }
   ],
   "source": [
    "for m in ['r2_score', 'mean_squared_error', 'mean_absolute_error']:\n",
    "    v = getattr(metrics, m)(results['y_true'], results['y_pred'])\n",
    "    print(f'{m}: {v: .2f}')"
   ]
  },
  {
   "cell_type": "markdown",
   "metadata": {},
   "source": [
    "Plot the true vs predicted"
   ]
  },
  {
   "cell_type": "code",
   "execution_count": 12,
   "metadata": {},
   "outputs": [
    {
     "data": {
      "image/png": "[encoded data removed]",
      "text/plain": [
       "<Figure size 252x252 with 1 Axes>"
      ]
     },
     "metadata": {
      "needs_background": "light"
     },
     "output_type": "display_data"
    }
   ],
   "source": [
    "fig, ax = plt.subplots()\n",
    "\n",
    "ax.scatter(results['y_true'], results['y_pred'], s=0.5, alpha=0.2)\n",
    "\n",
    "ax.plot(ax.get_xlim(), ax.get_ylim(), 'k--')\n",
    "ax.set_xlabel('$E$, True')\n",
    "ax.set_ylabel('$E$, ML')\n",
    "\n",
    "fig.set_size_inches(3.5, 3.5)"
   ]
  },
  {
   "cell_type": "markdown",
   "metadata": {},
   "source": [
    "Plot only the largest cluster size"
   ]
  },
  {
   "cell_type": "code",
   "execution_count": 13,
   "metadata": {},
   "outputs": [
    {
     "name": "stdout",
     "output_type": "stream",
     "text": [
      "Scores for the 12333 largest molecules with 30 waters\n",
      "r2_score: -0.10\n",
      "mean_squared_error:  17.96\n",
      "mean_absolute_error:  3.41\n"
     ]
    }
   ],
   "source": [
    "subset = results.query(f'n_waters == {results[\"n_waters\"].max()}')\n",
    "print(f'Scores for the {len(subset)} largest molecules with {results[\"n_waters\"].max()} waters')\n",
    "for m in ['r2_score', 'mean_squared_error', 'mean_absolute_error']:\n",
    "    v = getattr(metrics, m)(subset['y_true'], subset['y_pred'])\n",
    "    print(f'{m}: {v: .2f}')"
   ]
  },
  {
   "cell_type": "code",
   "execution_count": 14,
   "metadata": {},
   "outputs": [
    {
     "data": {
      "image/png": "[encoded data removed]",
      "text/plain": [
       "<Figure size 252x144 with 1 Axes>"
      ]
     },
     "metadata": {
      "needs_background": "light"
     },
     "output_type": "display_data"
    }
   ],
   "source": [
    "fig, ax = plt.subplots()\n",
    "\n",
    "errors = subset['y_pred'] - subset['y_true']\n",
    "bins = np.linspace(-10, 10, 256)\n",
    "ax.hist(errors, bins=bins, density=False)\n",
    "\n",
    "ax.set_xlabel('Error (kcal/mol)')\n",
    "ax.set_ylabel('Frequency')\n",
    "fig.set_size_inches(3.5, 2)"
   ]
  },
  {
   "cell_type": "code",
   "execution_count": 15,
   "metadata": {},
   "outputs": [
    {
     "data": {
      "image/png": "[encoded data removed]",
      "text/plain": [
       "<Figure size 252x252 with 1 Axes>"
      ]
     },
     "metadata": {
      "needs_background": "light"
     },
     "output_type": "display_data"
    }
   ],
   "source": [
    "fig, ax = plt.subplots(figsize=(3.5, 3.5))\n",
    "\n",
    "ax.scatter(subset['y_true'], subset['y_pred'], s=0.5, alpha=0.1)\n",
    "\n",
    "ax.set_ylim(-340, -305)\n",
    "ax.set_xlim(ax.get_ylim())\n",
    "ax.set_ylim(ax.get_xlim())\n",
    "ax.plot(ax.get_xlim(), ax.get_xlim(), 'k--')\n",
    "ax.set_xlabel('$E$ (kcal/mol), True')\n",
    "ax.set_ylabel('$E$ (kcal/mol), ML')\n",
    "\n",
    "fig.tight_layout()"
   ]
  },
  {
   "cell_type": "markdown",
   "metadata": {},
   "source": [
    "### Atomic Network\n",
    "See how we did for the \"node per atom\" network"
   ]
  },
  {
   "cell_type": "code",
   "execution_count": 16,
   "metadata": {},
   "outputs": [
    {
     "name": "stdout",
     "output_type": "stream",
     "text": [
      "Model being evaluated: train-keras/lambda3-T32-f64-N32-65f7ab\n"
     ]
    }
   ],
   "source": [
    "model = model_info.query('network_choice==\"atomic\"').sort_values('mean_absolute_error').iloc[0]\n",
    "print(f'Model being evaluated: {model[\"path\"]}')"
   ]
  },
  {
   "cell_type": "code",
   "execution_count": 17,
   "metadata": {},
   "outputs": [
    {
     "data": {
      "text/plain": [
       "path              train-keras/lambda3-T32-f64-N32-65f7ab\n",
       "network_choice                                    atomic\n",
       "activation                                          tanh\n",
       "message_steps                                         32\n",
       "dropout                                                0\n",
       "features                                              64\n",
       "batch_size                                          1024\n",
       "Name: 3, dtype: object"
      ]
     },
     "execution_count": 17,
     "metadata": {},
     "output_type": "execute_result"
    }
   ],
   "source": [
    "model[['path', 'network_choice', 'activation', 'message_steps', 'dropout', 'features', 'batch_size']]"
   ]
  },
  {
   "cell_type": "code",
   "execution_count": 18,
   "metadata": {},
   "outputs": [
    {
     "data": {
      "text/plain": [
       "loss                  2.36322\n",
       "val_loss              2.73178\n",
       "mean_squared_error    2.72339\n",
       "Name: 3, dtype: object"
      ]
     },
     "execution_count": 18,
     "metadata": {},
     "output_type": "execute_result"
    }
   ],
   "source": [
    "model[['loss', 'val_loss', 'mean_squared_error']]"
   ]
  },
  {
   "cell_type": "markdown",
   "metadata": {},
   "source": [
    "Plot the logs"
   ]
  },
  {
   "cell_type": "code",
   "execution_count": 19,
   "metadata": {},
   "outputs": [],
   "source": [
    "log = pd.read_csv(os.path.join(model['path'], 'log.csv'))"
   ]
  },
  {
   "cell_type": "code",
   "execution_count": 20,
   "metadata": {},
   "outputs": [
    {
     "data": {
      "text/plain": [
       "Text(0, 0.5, 'Loss')"
      ]
     },
     "execution_count": 20,
     "metadata": {},
     "output_type": "execute_result"
    },
    {
     "data": {
      "image/png": "[encoded data removed]",
      "text/plain": [
       "<Figure size 432x288 with 1 Axes>"
      ]
     },
     "metadata": {
      "needs_background": "light"
     },
     "output_type": "display_data"
    }
   ],
   "source": [
    "fig, ax = plt.subplots()\n",
    "\n",
    "ax.semilogy(log['epoch'], log['loss'], label='Train')\n",
    "ax.semilogy(log['epoch'], log['val_loss'], label='Validation')\n",
    "\n",
    "ax.legend()\n",
    "ax.set_xlabel('Epoch')\n",
    "ax.set_ylabel('Loss')"
   ]
  },
  {
   "cell_type": "markdown",
   "metadata": {},
   "source": [
    "*Finding*: Huge variance in validation loss is indicative of overfitting"
   ]
  },
  {
   "cell_type": "markdown",
   "metadata": {},
   "source": [
    "Plot the performance on the test set"
   ]
  },
  {
   "cell_type": "code",
   "execution_count": 21,
   "metadata": {},
   "outputs": [],
   "source": [
    "results = pd.read_csv(os.path.join(model['path'], 'test_predictions.csv'))"
   ]
  },
  {
   "cell_type": "code",
   "execution_count": 22,
   "metadata": {},
   "outputs": [
    {
     "name": "stdout",
     "output_type": "stream",
     "text": [
      "r2_score:  1.00\n",
      "mean_squared_error:  2.72\n",
      "mean_absolute_error:  1.23\n"
     ]
    }
   ],
   "source": [
    "for m in ['r2_score', 'mean_squared_error', 'mean_absolute_error']:\n",
    "    v = getattr(metrics, m)(results['y_true'], results['y_pred'])\n",
    "    print(f'{m}: {v: .2f}')"
   ]
  },
  {
   "cell_type": "markdown",
   "metadata": {},
   "source": [
    "Plot the true vs predicted"
   ]
  },
  {
   "cell_type": "code",
   "execution_count": 23,
   "metadata": {},
   "outputs": [
    {
     "data": {
      "image/png": "[encoded data removed]",
      "text/plain": [
       "<Figure size 252x252 with 1 Axes>"
      ]
     },
     "metadata": {
      "needs_background": "light"
     },
     "output_type": "display_data"
    }
   ],
   "source": [
    "fig, ax = plt.subplots(figsize=(3.5, 3.5))\n",
    "\n",
    "ax.set_title('Performance on hold-out set')\n",
    "ax.scatter(results['y_true'], results['y_pred'], s=0.5, alpha=0.2)\n",
    "\n",
    "ax.plot(ax.get_xlim(), ax.get_ylim(), 'k--')\n",
    "ax.set_xlabel('$E$, True')\n",
    "ax.set_ylabel('$E$, ML')\n",
    "\n",
    "fig.set_size_inches(3.5, 3.5)"
   ]
  },
  {
   "cell_type": "markdown",
   "metadata": {},
   "source": [
    "Plot only the largest cluster size"
   ]
  },
  {
   "cell_type": "code",
   "execution_count": 24,
   "metadata": {},
   "outputs": [
    {
     "name": "stdout",
     "output_type": "stream",
     "text": [
      "Scores for the 12333 largest molecules with 30 waters\n",
      "r2_score:  0.78\n",
      "mean_squared_error:  3.56\n",
      "mean_absolute_error:  1.37\n"
     ]
    }
   ],
   "source": [
    "subset = results.query(f'n_waters == {results[\"n_waters\"].max()}')\n",
    "print(f'Scores for the {len(subset)} largest molecules with {results[\"n_waters\"].max()} waters')\n",
    "for m in ['r2_score', 'mean_squared_error', 'mean_absolute_error']:\n",
    "    v = getattr(metrics, m)(subset['y_true'], subset['y_pred'])\n",
    "    print(f'{m}: {v: .2f}')"
   ]
  },
  {
   "cell_type": "code",
   "execution_count": 25,
   "metadata": {},
   "outputs": [
    {
     "data": {
      "image/png": "[encoded data removed]",
      "text/plain": [
       "<Figure size 252x144 with 1 Axes>"
      ]
     },
     "metadata": {
      "needs_background": "light"
     },
     "output_type": "display_data"
    }
   ],
   "source": [
    "fig, ax = plt.subplots()\n",
    "\n",
    "errors = subset['y_pred'] - subset['y_true']\n",
    "bins = np.linspace(-10, 10, 256)\n",
    "ax.hist(errors, bins=bins, density=False)\n",
    "\n",
    "ax.set_xlabel('Error (kcal/mol)')\n",
    "ax.set_ylabel('Frequency')\n",
    "fig.set_size_inches(3.5, 2)"
   ]
  },
  {
   "cell_type": "code",
   "execution_count": 26,
   "metadata": {},
   "outputs": [
    {
     "data": {
      "image/png": "[encoded data removed]",
      "text/plain": [
       "<Figure size 252x252 with 1 Axes>"
      ]
     },
     "metadata": {
      "needs_background": "light"
     },
     "output_type": "display_data"
    }
   ],
   "source": [
    "fig, ax = plt.subplots(figsize=(3.5, 3.5))\n",
    "\n",
    "ax.set_title('Clusters with 30 waters')\n",
    "ax.scatter(subset['y_true'], subset['y_pred'], s=0.5, alpha=0.1)\n",
    "\n",
    "ax.set_ylim(-340, -305)\n",
    "ax.set_xlim(ax.get_ylim())\n",
    "ax.set_ylim(ax.get_xlim())\n",
    "ax.plot(ax.get_xlim(), ax.get_xlim(), 'k--')\n",
    "ax.set_xlabel('$E$ (kcal/mol), True')\n",
    "ax.set_ylabel('$E$ (kcal/mol), ML')\n",
    "\n",
    "fig.tight_layout()"
   ]
  },
  {
   "cell_type": "markdown",
   "metadata": {},
   "source": [
    "Make a publication-ready figure"
   ]
  },
  {
   "cell_type": "code",
   "execution_count": 27,
   "metadata": {},
   "outputs": [
    {
     "data": {
      "image/png": "[encoded data removed]",
      "text/plain": [
       "<Figure size 468x180 with 3 Axes>"
      ]
     },
     "metadata": {
      "needs_background": "light"
     },
     "output_type": "display_data"
    }
   ],
   "source": [
    "fig, axs = plt.subplots(1, 3, figsize=(6.5, 2.5))\n",
    "\n",
    "# Predicted vs actual plots\n",
    "n_waters = results[\"n_waters\"].max()\n",
    "subset = results.query(f'n_waters == {n_waters}')\n",
    "for d, ax, title in zip([results, subset], axs,\n",
    "                        ['Full Dataset', '30-Water Clusters']):\n",
    "    ax.set_title(title)\n",
    "    ax.scatter(d['y_true'], d['y_pred'], s=0.7, alpha=0.2, edgecolor='none')\n",
    "\n",
    "    max_ = max(ax.get_xlim()[1], ax.get_ylim()[1])\n",
    "    min_ = min(ax.get_xlim()[0], ax.get_ylim()[0])\n",
    "    ax.set_xlim([min_, max_])\n",
    "    ax.set_ylim(ax.get_xlim())\n",
    "    ax.plot(ax.get_xlim(), ax.get_xlim(), 'k--')\n",
    "    ax.set_xlabel('$E$ (kcal/mol), True')\n",
    "    ax.set_ylabel('$E$ (kcal/mol), ML')\n",
    "    \n",
    "    mae = metrics.mean_absolute_error(d['y_true'], d['y_pred'])\n",
    "    r2 = metrics.r2_score(d['y_true'], d['y_pred'])\n",
    "    ax.text(0.99, 0, f'MAE: {mae:.2f}\\n$R^2$: {r2:.2f}',\n",
    "            ha='right', va='bottom', transform=ax.transAxes,\n",
    "            fontsize=10)\n",
    "    \n",
    "# Box and wisker plot\n",
    "ax = axs[2]\n",
    "error_stats = []\n",
    "for s, subset in results.groupby('n_waters'):\n",
    "    error = np.abs(subset['y_pred'] - subset['y_true']) / s\n",
    "    error_stats.append({'size': s, 'mae': error.mean()})\n",
    "error_stats = pd.DataFrame(error_stats)\n",
    "ax.plot(error_stats['size'], error_stats['mae'], '--o', ms=3)\n",
    "ax.set_xlabel('# Waters')\n",
    "ax.set_ylabel('MAE (kcal/mol/water)')\n",
    "\n",
    "# Add figure labels\n",
    "for ax, l in zip(axs[:2], ['a', 'b']):\n",
    "    ax.text(0.02, 0.9, f'({l})', transform=ax.transAxes)\n",
    "axs[2].text(0.82, 0.9, '(c)', transform=axs[2].transAxes)\n",
    "    \n",
    "fig.tight_layout()\n",
    "fig.savefig(os.path.join('figures', 'mpnn-performance.png'), dpi=320)"
   ]
  },
  {
   "cell_type": "markdown",
   "metadata": {},
   "source": [
    "## Make the Box Plot\n",
    "To match Jenna's"
   ]
  },
  {
   "cell_type": "code",
   "execution_count": 28,
   "metadata": {},
   "outputs": [],
   "source": [
    "results['abs_error_per_water'] = np.abs(results['y_true'] - results['y_pred']) / results['n_waters']"
   ]
  },
  {
   "cell_type": "code",
   "execution_count": 29,
   "metadata": {},
   "outputs": [
    {
     "data": {
      "image/png": "[encoded data removed]",
      "text/plain": [
       "<Figure size 864x432 with 1 Axes>"
      ]
     },
     "metadata": {
      "needs_background": "light"
     },
     "output_type": "display_data"
    }
   ],
   "source": [
    "def make_box_plot(df, metric='abs_error_per_water'):       \n",
    "    boxplot = df.query('n_waters >= 10 and n_waters <= 30').boxplot(metric, 'n_waters', grid=False, fontsize=20, figsize=(12,6), return_type='both')\n",
    "    plt.ylim(-0.01,0.7)\n",
    "    plt.ylabel('Absolute Error\\n(kcal/mol/water)', fontsize=22, fontweight='bold', labelpad=15)\n",
    "    plt.xlabel('Cluster Size', fontsize=22, fontweight='bold', labelpad=15)\n",
    "    plt.xticks(range(1,23,2), ['10','12','14','16','18','20','22','24','26','28','30'])\n",
    "    plt.xlim(0, 22)\n",
    "    plt.suptitle('')\n",
    "    plt.title('')\n",
    "    plt.tight_layout()\n",
    "    plt.savefig('figures/mpnn_boxplot-horz.png',dpi=600)\n",
    "make_box_plot(results)"
   ]
  },
  {
   "cell_type": "markdown",
   "metadata": {},
   "source": [
    "## Evaluate Hyperparameter Sweeps\n",
    "We did some manual hyperparameter tuning for the atomic model"
   ]
  },
  {
   "cell_type": "markdown",
   "metadata": {},
   "source": [
    "### Batch Sizes\n",
    "Evaluate different batch sizes to get a tradeoff between accuracy and using the full GPU"
   ]
  },
  {
   "cell_type": "code",
   "execution_count": 30,
   "metadata": {},
   "outputs": [],
   "source": [
    "base_query = ('epochs==32 and shuffle_buffer_size==2097152 and activation==\"sigmoid\" '\n",
    "              'and message_steps==4 and network_choice==\"atomic\" and dropout==0 and features==64')"
   ]
  },
  {
   "cell_type": "code",
   "execution_count": 31,
   "metadata": {},
   "outputs": [
    {
     "data": {
      "text/html": [
       "<div>\n",
       "<style scoped>\n",
       "    .dataframe tbody tr th:only-of-type {\n",
       "        vertical-align: middle;\n",
       "    }\n",
       "\n",
       "    .dataframe tbody tr th {\n",
       "        vertical-align: top;\n",
       "    }\n",
       "\n",
       "    .dataframe thead th {\n",
       "        text-align: right;\n",
       "    }\n",
       "</style>\n",
       "<table border=\"1\" class=\"dataframe\">\n",
       "  <thead>\n",
       "    <tr style=\"text-align: right;\">\n",
       "      <th></th>\n",
       "      <th>batch_size</th>\n",
       "      <th>loss</th>\n",
       "      <th>val_loss</th>\n",
       "      <th>mean_squared_error</th>\n",
       "      <th>epoch_time</th>\n",
       "    </tr>\n",
       "  </thead>\n",
       "  <tbody>\n",
       "    <tr>\n",
       "      <th>14</th>\n",
       "      <td>256</td>\n",
       "      <td>18.786350</td>\n",
       "      <td>18.857697</td>\n",
       "      <td>18.708764</td>\n",
       "      <td>367.812294</td>\n",
       "    </tr>\n",
       "    <tr>\n",
       "      <th>17</th>\n",
       "      <td>512</td>\n",
       "      <td>18.793079</td>\n",
       "      <td>18.864012</td>\n",
       "      <td>18.725879</td>\n",
       "      <td>314.540389</td>\n",
       "    </tr>\n",
       "    <tr>\n",
       "      <th>19</th>\n",
       "      <td>1024</td>\n",
       "      <td>18.834154</td>\n",
       "      <td>18.904181</td>\n",
       "      <td>18.799777</td>\n",
       "      <td>287.815892</td>\n",
       "    </tr>\n",
       "    <tr>\n",
       "      <th>2</th>\n",
       "      <td>1024</td>\n",
       "      <td>18.880718</td>\n",
       "      <td>18.940962</td>\n",
       "      <td>18.789579</td>\n",
       "      <td>287.915955</td>\n",
       "    </tr>\n",
       "    <tr>\n",
       "      <th>23</th>\n",
       "      <td>2048</td>\n",
       "      <td>18.918043</td>\n",
       "      <td>18.965267</td>\n",
       "      <td>18.806205</td>\n",
       "      <td>279.981562</td>\n",
       "    </tr>\n",
       "    <tr>\n",
       "      <th>22</th>\n",
       "      <td>128</td>\n",
       "      <td>18.917324</td>\n",
       "      <td>18.978794</td>\n",
       "      <td>19.808243</td>\n",
       "      <td>469.045562</td>\n",
       "    </tr>\n",
       "    <tr>\n",
       "      <th>13</th>\n",
       "      <td>64</td>\n",
       "      <td>19.024603</td>\n",
       "      <td>19.081730</td>\n",
       "      <td>18.913044</td>\n",
       "      <td>669.237626</td>\n",
       "    </tr>\n",
       "    <tr>\n",
       "      <th>9</th>\n",
       "      <td>32</td>\n",
       "      <td>19.989500</td>\n",
       "      <td>19.925341</td>\n",
       "      <td>19.738775</td>\n",
       "      <td>1300.176546</td>\n",
       "    </tr>\n",
       "  </tbody>\n",
       "</table>\n",
       "</div>"
      ],
      "text/plain": [
       "    batch_size       loss   val_loss  mean_squared_error   epoch_time\n",
       "14         256  18.786350  18.857697           18.708764   367.812294\n",
       "17         512  18.793079  18.864012           18.725879   314.540389\n",
       "19        1024  18.834154  18.904181           18.799777   287.815892\n",
       "2         1024  18.880718  18.940962           18.789579   287.915955\n",
       "23        2048  18.918043  18.965267           18.806205   279.981562\n",
       "22         128  18.917324  18.978794           19.808243   469.045562\n",
       "13          64  19.024603  19.081730           18.913044   669.237626\n",
       "9           32  19.989500  19.925341           19.738775  1300.176546"
      ]
     },
     "execution_count": 31,
     "metadata": {},
     "output_type": "execute_result"
    }
   ],
   "source": [
    "model_info.query(base_query).sort_values('val_loss')[['batch_size', 'loss', 'val_loss', 'mean_squared_error', 'epoch_time']]"
   ]
  },
  {
   "cell_type": "markdown",
   "metadata": {},
   "source": [
    "*Finding*: We get decent accuracy with a batch size of 1024 and still use 90% of the GPU"
   ]
  },
  {
   "cell_type": "markdown",
   "metadata": {},
   "source": [
    "### Activation Function\n",
    "We evaluated different activation functions for the message steps"
   ]
  },
  {
   "cell_type": "code",
   "execution_count": 32,
   "metadata": {},
   "outputs": [],
   "source": [
    "base_query = ('batch_size==1024 and epochs==32 and shuffle_buffer_size==2097152 '\n",
    "              'and message_steps==4 and network_choice==\"atomic\" and dropout==0 and features==64')"
   ]
  },
  {
   "cell_type": "code",
   "execution_count": 33,
   "metadata": {},
   "outputs": [
    {
     "data": {
      "text/html": [
       "<div>\n",
       "<style scoped>\n",
       "    .dataframe tbody tr th:only-of-type {\n",
       "        vertical-align: middle;\n",
       "    }\n",
       "\n",
       "    .dataframe tbody tr th {\n",
       "        vertical-align: top;\n",
       "    }\n",
       "\n",
       "    .dataframe thead th {\n",
       "        text-align: right;\n",
       "    }\n",
       "</style>\n",
       "<table border=\"1\" class=\"dataframe\">\n",
       "  <thead>\n",
       "    <tr style=\"text-align: right;\">\n",
       "      <th></th>\n",
       "      <th>activation</th>\n",
       "      <th>loss</th>\n",
       "      <th>val_loss</th>\n",
       "      <th>mean_squared_error</th>\n",
       "      <th>epoch_time</th>\n",
       "    </tr>\n",
       "  </thead>\n",
       "  <tbody>\n",
       "    <tr>\n",
       "      <th>10</th>\n",
       "      <td>tanh</td>\n",
       "      <td>18.782541</td>\n",
       "      <td>18.868355</td>\n",
       "      <td>18.706703</td>\n",
       "      <td>284.926650</td>\n",
       "    </tr>\n",
       "    <tr>\n",
       "      <th>0</th>\n",
       "      <td>softmax</td>\n",
       "      <td>18.835497</td>\n",
       "      <td>18.898775</td>\n",
       "      <td>18.740449</td>\n",
       "      <td>285.393855</td>\n",
       "    </tr>\n",
       "    <tr>\n",
       "      <th>2</th>\n",
       "      <td>sigmoid</td>\n",
       "      <td>18.880718</td>\n",
       "      <td>18.940962</td>\n",
       "      <td>18.789579</td>\n",
       "      <td>287.915955</td>\n",
       "    </tr>\n",
       "    <tr>\n",
       "      <th>19</th>\n",
       "      <td>sigmoid</td>\n",
       "      <td>18.834154</td>\n",
       "      <td>18.904181</td>\n",
       "      <td>18.799777</td>\n",
       "      <td>287.815892</td>\n",
       "    </tr>\n",
       "    <tr>\n",
       "      <th>20</th>\n",
       "      <td>softplus</td>\n",
       "      <td>18.967678</td>\n",
       "      <td>19.109133</td>\n",
       "      <td>18.929609</td>\n",
       "      <td>289.642103</td>\n",
       "    </tr>\n",
       "    <tr>\n",
       "      <th>8</th>\n",
       "      <td>softsign</td>\n",
       "      <td>19.099939</td>\n",
       "      <td>19.192005</td>\n",
       "      <td>19.061565</td>\n",
       "      <td>289.768757</td>\n",
       "    </tr>\n",
       "  </tbody>\n",
       "</table>\n",
       "</div>"
      ],
      "text/plain": [
       "   activation       loss   val_loss  mean_squared_error  epoch_time\n",
       "10       tanh  18.782541  18.868355           18.706703  284.926650\n",
       "0     softmax  18.835497  18.898775           18.740449  285.393855\n",
       "2     sigmoid  18.880718  18.940962           18.789579  287.915955\n",
       "19    sigmoid  18.834154  18.904181           18.799777  287.815892\n",
       "20   softplus  18.967678  19.109133           18.929609  289.642103\n",
       "8    softsign  19.099939  19.192005           19.061565  289.768757"
      ]
     },
     "execution_count": 33,
     "metadata": {},
     "output_type": "execute_result"
    }
   ],
   "source": [
    "model_info.query(base_query).sort_values('mean_squared_error')[['activation', 'loss', 'val_loss', 'mean_squared_error', 'epoch_time']]"
   ]
  },
  {
   "cell_type": "markdown",
   "metadata": {},
   "source": [
    "*Finding*: We should go with the softplus. Fastest and most accurate"
   ]
  },
  {
   "cell_type": "markdown",
   "metadata": {},
   "source": [
    "### Number of Message Passing Layers\n",
    "We compared increasing the number of message passing layers"
   ]
  },
  {
   "cell_type": "code",
   "execution_count": 34,
   "metadata": {},
   "outputs": [],
   "source": [
    "base_query = ('hostname==\"lambda3\" and shuffle_buffer_size==2097152 and batch_size==1024 and activation==\"tanh\" and epochs==32 '\n",
    "              'and network_choice==\"atomic\"')"
   ]
  },
  {
   "cell_type": "code",
   "execution_count": 35,
   "metadata": {},
   "outputs": [
    {
     "data": {
      "text/html": [
       "<div>\n",
       "<style scoped>\n",
       "    .dataframe tbody tr th:only-of-type {\n",
       "        vertical-align: middle;\n",
       "    }\n",
       "\n",
       "    .dataframe tbody tr th {\n",
       "        vertical-align: top;\n",
       "    }\n",
       "\n",
       "    .dataframe thead th {\n",
       "        text-align: right;\n",
       "    }\n",
       "</style>\n",
       "<table border=\"1\" class=\"dataframe\">\n",
       "  <thead>\n",
       "    <tr style=\"text-align: right;\">\n",
       "      <th></th>\n",
       "      <th>network_choice</th>\n",
       "      <th>message_steps</th>\n",
       "      <th>loss</th>\n",
       "      <th>val_loss</th>\n",
       "      <th>mean_squared_error</th>\n",
       "      <th>epoch_time</th>\n",
       "    </tr>\n",
       "  </thead>\n",
       "  <tbody>\n",
       "    <tr>\n",
       "      <th>7</th>\n",
       "      <td>atomic</td>\n",
       "      <td>1</td>\n",
       "      <td>31.175220</td>\n",
       "      <td>31.121058</td>\n",
       "      <td>31.024315</td>\n",
       "      <td>154.572662</td>\n",
       "    </tr>\n",
       "    <tr>\n",
       "      <th>16</th>\n",
       "      <td>atomic</td>\n",
       "      <td>2</td>\n",
       "      <td>27.922235</td>\n",
       "      <td>27.907139</td>\n",
       "      <td>27.778528</td>\n",
       "      <td>206.190283</td>\n",
       "    </tr>\n",
       "    <tr>\n",
       "      <th>10</th>\n",
       "      <td>atomic</td>\n",
       "      <td>4</td>\n",
       "      <td>18.782541</td>\n",
       "      <td>18.868355</td>\n",
       "      <td>18.706703</td>\n",
       "      <td>284.926650</td>\n",
       "    </tr>\n",
       "    <tr>\n",
       "      <th>4</th>\n",
       "      <td>atomic</td>\n",
       "      <td>8</td>\n",
       "      <td>5.530125</td>\n",
       "      <td>5.997884</td>\n",
       "      <td>6.177918</td>\n",
       "      <td>462.706765</td>\n",
       "    </tr>\n",
       "    <tr>\n",
       "      <th>21</th>\n",
       "      <td>atomic</td>\n",
       "      <td>16</td>\n",
       "      <td>2.765078</td>\n",
       "      <td>3.226522</td>\n",
       "      <td>3.229485</td>\n",
       "      <td>830.653123</td>\n",
       "    </tr>\n",
       "    <tr>\n",
       "      <th>3</th>\n",
       "      <td>atomic</td>\n",
       "      <td>32</td>\n",
       "      <td>2.363216</td>\n",
       "      <td>2.731776</td>\n",
       "      <td>2.723386</td>\n",
       "      <td>1551.052122</td>\n",
       "    </tr>\n",
       "  </tbody>\n",
       "</table>\n",
       "</div>"
      ],
      "text/plain": [
       "   network_choice  message_steps       loss   val_loss  mean_squared_error  \\\n",
       "7          atomic              1  31.175220  31.121058           31.024315   \n",
       "16         atomic              2  27.922235  27.907139           27.778528   \n",
       "10         atomic              4  18.782541  18.868355           18.706703   \n",
       "4          atomic              8   5.530125   5.997884            6.177918   \n",
       "21         atomic             16   2.765078   3.226522            3.229485   \n",
       "3          atomic             32   2.363216   2.731776            2.723386   \n",
       "\n",
       "     epoch_time  \n",
       "7    154.572662  \n",
       "16   206.190283  \n",
       "10   284.926650  \n",
       "4    462.706765  \n",
       "21   830.653123  \n",
       "3   1551.052122  "
      ]
     },
     "execution_count": 35,
     "metadata": {},
     "output_type": "execute_result"
    }
   ],
   "source": [
    "model_info.query(base_query).sort_values('message_steps')[['network_choice', 'message_steps', \n",
    "                                                           'loss', 'val_loss', 'mean_squared_error',\n",
    "                                                          'epoch_time']]"
   ]
  },
  {
   "cell_type": "code",
   "execution_count": 36,
   "metadata": {},
   "outputs": [
    {
     "data": {
      "text/plain": [
       "<matplotlib.legend.Legend at 0x7f80aba50040>"
      ]
     },
     "execution_count": 36,
     "metadata": {},
     "output_type": "execute_result"
    },
    {
     "data": {
      "image/png": "[encoded data removed]",
      "text/plain": [
       "<Figure size 432x288 with 1 Axes>"
      ]
     },
     "metadata": {
      "needs_background": "light"
     },
     "output_type": "display_data"
    }
   ],
   "source": [
    "fig, ax = plt.subplots()\n",
    "\n",
    "for label, subset in model_info.query(base_query).sort_values('message_steps').groupby('network_choice'):\n",
    "    ax.plot(subset['message_steps'], subset['mean_absolute_error'], '-o', label=label)\n",
    "\n",
    "ax.set_xscale('log', base=2)\n",
    "ax.set_xlabel('Message Steps')\n",
    "ax.set_ylabel('Mean Absolute Error')\n",
    "ax.legend()"
   ]
  },
  {
   "cell_type": "markdown",
   "metadata": {},
   "source": [
    "*Finding*: We need many message passing layers, which can get expensive"
   ]
  },
  {
   "cell_type": "code",
   "execution_count": null,
   "metadata": {},
   "outputs": [],
   "source": []
  }
 ],
 "metadata": {
  "kernelspec": {
   "display_name": "Python 3",
   "language": "python",
   "name": "python3"
  },
  "language_info": {
   "codemirror_mode": {
    "name": "ipython",
    "version": 3
   },
   "file_extension": ".py",
   "mimetype": "text/x-python",
   "name": "python",
   "nbconvert_exporter": "python",
   "pygments_lexer": "ipython3",
   "version": "3.8.5"
  }
 },
 "nbformat": 4,
 "nbformat_minor": 4
}
