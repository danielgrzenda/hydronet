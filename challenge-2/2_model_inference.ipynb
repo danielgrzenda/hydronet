{
 "cells": [
  {
   "cell_type": "markdown",
   "id": "4e76990f",
   "metadata": {},
   "source": [
    "# Example for running model inference on generated coarse graphs"
   ]
  },
  {
   "cell_type": "code",
   "execution_count": 1,
   "id": "bb0355ff",
   "metadata": {},
   "outputs": [
    {
     "name": "stderr",
     "output_type": "stream",
     "text": [
      "2022-01-21 13:38:53.746508: I tensorflow/stream_executor/platform/default/dso_loader.cc:53] Successfully opened dynamic library libcudart.so.11.0\n"
     ]
    }
   ],
   "source": [
    "import os\n",
    "import os.path as op\n",
    "import numpy as np\n",
    "import pandas as pd\n",
    "import networkx as nx\n",
    "import matplotlib.pyplot as plt\n",
    "import seaborn as sns\n",
    "from multiprocessing import Pool\n",
    "\n",
    "# install hydronet or add the path to the repo here\n",
    "import sys\n",
    "sys.path.insert(0, '/people/pope044/Exalearn/hydronet')\n",
    "\n",
    "# MPNN\n",
    "from tensorflow.keras.models import load_model\n",
    "from hydronet.mpnn.inference import run_inference\n",
    "from hydronet.mpnn.layers import custom_objects\n",
    "from hydronet.importing import create_inputs_from_nx\n",
    "\n",
    "# graph utils\n",
    "import sys\n",
    "sys.path.insert(0,'/qfs/projects/ecp_exalearn/designs/graph_RL')\n",
    "from utils import metrics, randomg"
   ]
  },
  {
   "cell_type": "markdown",
   "id": "9b943957",
   "metadata": {},
   "source": [
    "### load the trained model"
   ]
  },
  {
   "cell_type": "code",
   "execution_count": 3,
   "id": "3bc52acd",
   "metadata": {
    "scrolled": true
   },
   "outputs": [
    {
     "name": "stdout",
     "output_type": "stream",
     "text": [
      "WARNING:tensorflow:From /people/pope044/.conda/envs/hydronet/lib/python3.8/site-packages/tensorflow/python/ops/array_ops.py:5043: calling gather (from tensorflow.python.ops.array_ops) with validate_indices is deprecated and will be removed in a future version.\n",
      "Instructions for updating:\n",
      "The `validate_indices` argument has no effect. Indices are always validated on CPU and never validated on GPU.\n"
     ]
    },
    {
     "name": "stderr",
     "output_type": "stream",
     "text": [
      "2022-01-21 13:39:25.933465: I tensorflow/stream_executor/platform/default/dso_loader.cc:53] Successfully opened dynamic library libcuda.so.1\n",
      "2022-01-21 13:39:25.994373: I tensorflow/core/common_runtime/gpu/gpu_device.cc:1733] Found device 0 with properties: \n",
      "pciBusID: 0000:04:00.0 name: Tesla P100-PCIE-12GB computeCapability: 6.0\n",
      "coreClock: 1.3285GHz coreCount: 56 deviceMemorySize: 11.91GiB deviceMemoryBandwidth: 511.41GiB/s\n",
      "2022-01-21 13:39:25.995687: I tensorflow/core/common_runtime/gpu/gpu_device.cc:1733] Found device 1 with properties: \n",
      "pciBusID: 0000:82:00.0 name: Tesla P100-PCIE-12GB computeCapability: 6.0\n",
      "coreClock: 1.3285GHz coreCount: 56 deviceMemorySize: 11.91GiB deviceMemoryBandwidth: 511.41GiB/s\n",
      "2022-01-21 13:39:25.995736: I tensorflow/stream_executor/platform/default/dso_loader.cc:53] Successfully opened dynamic library libcudart.so.11.0\n",
      "2022-01-21 13:39:26.026749: I tensorflow/stream_executor/platform/default/dso_loader.cc:53] Successfully opened dynamic library libcublas.so.11\n",
      "2022-01-21 13:39:26.026844: I tensorflow/stream_executor/platform/default/dso_loader.cc:53] Successfully opened dynamic library libcublasLt.so.11\n",
      "2022-01-21 13:39:26.047246: I tensorflow/stream_executor/platform/default/dso_loader.cc:53] Successfully opened dynamic library libcufft.so.10\n",
      "2022-01-21 13:39:26.057137: I tensorflow/stream_executor/platform/default/dso_loader.cc:53] Successfully opened dynamic library libcurand.so.10\n",
      "2022-01-21 13:39:26.059483: W tensorflow/stream_executor/platform/default/dso_loader.cc:64] Could not load dynamic library 'libcusolver.so.11'; dlerror: libcusolver.so.11: cannot open shared object file: No such file or directory; LD_LIBRARY_PATH: /share/apps/gcc/10.2.0/lib:/share/apps/gcc/10.2.0/lib64:/people/pope044/.conda/pkgs/cudatoolkit-11.0.221-h6bb024c_0/lib/:/usr/lib64/:/share/apps/python/miniconda3.8/lib:/people/pope044/.conda/envs/hydronet/cuda/lib:\n",
      "2022-01-21 13:39:26.085613: I tensorflow/stream_executor/platform/default/dso_loader.cc:53] Successfully opened dynamic library libcusparse.so.11\n",
      "2022-01-21 13:39:26.085872: W tensorflow/stream_executor/platform/default/dso_loader.cc:64] Could not load dynamic library 'libcudnn.so.8'; dlerror: libcudnn.so.8: cannot open shared object file: No such file or directory; LD_LIBRARY_PATH: /share/apps/gcc/10.2.0/lib:/share/apps/gcc/10.2.0/lib64:/people/pope044/.conda/pkgs/cudatoolkit-11.0.221-h6bb024c_0/lib/:/usr/lib64/:/share/apps/python/miniconda3.8/lib:/people/pope044/.conda/envs/hydronet/cuda/lib:\n",
      "2022-01-21 13:39:26.085903: W tensorflow/core/common_runtime/gpu/gpu_device.cc:1766] Cannot dlopen some GPU libraries. Please make sure the missing libraries mentioned above are installed properly if you would like to use GPU. Follow the guide at https://www.tensorflow.org/install/gpu for how to download and setup the required libraries for your platform.\n",
      "Skipping registering GPU devices...\n",
      "2022-01-21 13:39:26.086988: I tensorflow/core/platform/cpu_feature_guard.cc:142] This TensorFlow binary is optimized with oneAPI Deep Neural Network Library (oneDNN) to use the following CPU instructions in performance-critical operations:  AVX2 FMA\n",
      "To enable them in other operations, rebuild TensorFlow with the appropriate compiler flags.\n",
      "2022-01-21 13:39:26.088440: I tensorflow/core/common_runtime/gpu/gpu_device.cc:1258] Device interconnect StreamExecutor with strength 1 edge matrix:\n",
      "2022-01-21 13:39:26.088464: I tensorflow/core/common_runtime/gpu/gpu_device.cc:1264]      \n"
     ]
    }
   ],
   "source": [
    "\n",
    "model_path = 'train-keras/random_plus_dbtest'\n",
    "model = load_model(op.join(model_path,'best_model.h5'), custom_objects=custom_objects)"
   ]
  },
  {
   "cell_type": "markdown",
   "id": "7d07a22f",
   "metadata": {},
   "source": [
    "### generate random graphs and compute metrics + MPNN energy"
   ]
  },
  {
   "cell_type": "code",
   "execution_count": 2,
   "id": "ea0e5a53",
   "metadata": {},
   "outputs": [],
   "source": [
    "def gen_graph(n_waters):\n",
    "    return randomg.generate_random_graph(n_waters, bidirectional=True)"
   ]
  },
  {
   "cell_type": "code",
   "execution_count": 4,
   "id": "a6673363",
   "metadata": {},
   "outputs": [
    {
     "data": {
      "text/html": [
       "<div>\n",
       "<style scoped>\n",
       "    .dataframe tbody tr th:only-of-type {\n",
       "        vertical-align: middle;\n",
       "    }\n",
       "\n",
       "    .dataframe tbody tr th {\n",
       "        vertical-align: top;\n",
       "    }\n",
       "\n",
       "    .dataframe thead th {\n",
       "        text-align: right;\n",
       "    }\n",
       "</style>\n",
       "<table border=\"1\" class=\"dataframe\">\n",
       "  <thead>\n",
       "    <tr style=\"text-align: right;\">\n",
       "      <th></th>\n",
       "      <th>trimers</th>\n",
       "      <th>tetramers</th>\n",
       "      <th>pentamers</th>\n",
       "      <th>hexamers</th>\n",
       "      <th>shortest_path</th>\n",
       "      <th>wiener</th>\n",
       "      <th>graph</th>\n",
       "    </tr>\n",
       "  </thead>\n",
       "  <tbody>\n",
       "    <tr>\n",
       "      <th>0</th>\n",
       "      <td>0</td>\n",
       "      <td>2</td>\n",
       "      <td>0</td>\n",
       "      <td>0</td>\n",
       "      <td>2.4</td>\n",
       "      <td>108</td>\n",
       "      <td>(0, 1, 2, 3, 4, 5, 6, 7, 8, 9)</td>\n",
       "    </tr>\n",
       "    <tr>\n",
       "      <th>1</th>\n",
       "      <td>1</td>\n",
       "      <td>1</td>\n",
       "      <td>4</td>\n",
       "      <td>0</td>\n",
       "      <td>2.02222</td>\n",
       "      <td>91</td>\n",
       "      <td>(0, 1, 2, 3, 4, 5, 6, 7, 8, 9)</td>\n",
       "    </tr>\n",
       "    <tr>\n",
       "      <th>2</th>\n",
       "      <td>0</td>\n",
       "      <td>0</td>\n",
       "      <td>0</td>\n",
       "      <td>0</td>\n",
       "      <td>3.24444</td>\n",
       "      <td>146</td>\n",
       "      <td>(0, 1, 2, 3, 4, 5, 6, 7, 8, 9)</td>\n",
       "    </tr>\n",
       "    <tr>\n",
       "      <th>3</th>\n",
       "      <td>2</td>\n",
       "      <td>1</td>\n",
       "      <td>0</td>\n",
       "      <td>0</td>\n",
       "      <td>2.55556</td>\n",
       "      <td>115</td>\n",
       "      <td>(0, 1, 2, 3, 4, 5, 6, 7, 8, 9)</td>\n",
       "    </tr>\n",
       "    <tr>\n",
       "      <th>4</th>\n",
       "      <td>3</td>\n",
       "      <td>0</td>\n",
       "      <td>0</td>\n",
       "      <td>0</td>\n",
       "      <td>2.6</td>\n",
       "      <td>117</td>\n",
       "      <td>(0, 1, 2, 3, 4, 5, 6, 7, 8, 9)</td>\n",
       "    </tr>\n",
       "  </tbody>\n",
       "</table>\n",
       "</div>"
      ],
      "text/plain": [
       "  trimers tetramers pentamers hexamers shortest_path wiener  \\\n",
       "0       0         2         0        0           2.4    108   \n",
       "1       1         1         4        0       2.02222     91   \n",
       "2       0         0         0        0       3.24444    146   \n",
       "3       2         1         0        0       2.55556    115   \n",
       "4       3         0         0        0           2.6    117   \n",
       "\n",
       "                            graph  \n",
       "0  (0, 1, 2, 3, 4, 5, 6, 7, 8, 9)  \n",
       "1  (0, 1, 2, 3, 4, 5, 6, 7, 8, 9)  \n",
       "2  (0, 1, 2, 3, 4, 5, 6, 7, 8, 9)  \n",
       "3  (0, 1, 2, 3, 4, 5, 6, 7, 8, 9)  \n",
       "4  (0, 1, 2, 3, 4, 5, 6, 7, 8, 9)  "
      ]
     },
     "execution_count": 4,
     "metadata": {},
     "output_type": "execute_result"
    }
   ],
   "source": [
    "n_waters=10\n",
    "n_samples=1000\n",
    "cols=['trimers', 'tetramers', 'pentamers', 'hexamers', 'shortest_path', 'wiener']#, 'mpnn_energy']\n",
    "\n",
    "with Pool(12) as p:  \n",
    "    graphs = p.map(gen_graph, [n_waters]*n_samples)\n",
    "    mets = p.map(metrics.compute_metrics, graphs)\n",
    "\n",
    "# create dataframe of metrics and graphs\n",
    "res = np.array(mets, dtype=object).T\n",
    "df = pd.DataFrame({cols[i]: res[i] for i in range(len(cols))})\n",
    "df['graph']=graphs\n",
    "df['edges']=df['graph'].apply(lambda G: G.number_of_edges())\n",
    "df['mean_degree']=df['graph'].apply(lambda G: sum(d for n, d in G.degree()) / float(len(G))) #G.in_degree()\n",
    "\n",
    "# collect MPNN energies\n",
    "energies=[]\n",
    "for i in range(len(df)):\n",
    "    try:\n",
    "        energies.append(run_inference(model, df.iloc[i].graph))\n",
    "    except:\n",
    "        energies.append(0)\n",
    "df['MPNN_energy']=energies\n",
    "\n",
    "# save to pickle\n",
    "df.to_pickle(op.join(model_path, f'W{n_waters}_random_graph_inference.pkl'))\n",
    "\n",
    "df.head()"
   ]
  },
  {
   "cell_type": "code",
   "execution_count": 62,
   "id": "41300abb",
   "metadata": {},
   "outputs": [],
   "source": []
  },
  {
   "cell_type": "markdown",
   "id": "4c44ce48",
   "metadata": {},
   "source": [
    "### generate linear graphs and compute metrics + MPNN energy"
   ]
  },
  {
   "cell_type": "code",
   "execution_count": 143,
   "id": "cca69dec",
   "metadata": {},
   "outputs": [],
   "source": [
    "def generate_linear_graph(n_waters, bidirectional=True):\n",
    "    # create adjacency matrix for linear graph\n",
    "    A = np.zeros((n_waters,n_waters))\n",
    "    rng = np.arange(n_waters-1)\n",
    "    A[rng, rng+1] = 1\n",
    "    rng = np.arange(n_waters)\n",
    "    A[rng, rng-1] = 1\n",
    "    A[0, n_waters-1] = 0\n",
    "\n",
    "    G=nx.from_numpy_matrix(A, create_using=nx.DiGraph)\n",
    " \n",
    "    # remove edges that go in both directions\n",
    "    for edge in G.to_undirected(reciprocal=True).edges:\n",
    "        edge = list(edge)\n",
    "        np.random.shuffle(edge)\n",
    "        G.remove_edge(edge[0],edge[1])\n",
    "\n",
    "        \n",
    "    nx.set_node_attributes(G, 'O', \"label\")\n",
    "    nx.set_edge_attributes(G, 'donate', \"label\")\n",
    "    \n",
    "    # for input into MPNN\n",
    "    if bidirectional:\n",
    "        # add accept edges in the reverse direction\n",
    "        G.add_edges_from(np.array(G.edges)[:,::-1], label='accept')\n",
    "    return G"
   ]
  },
  {
   "cell_type": "code",
   "execution_count": 141,
   "id": "c652ce41",
   "metadata": {},
   "outputs": [
    {
     "data": {
      "text/plain": [
       "-39.018745"
      ]
     },
     "execution_count": 141,
     "metadata": {},
     "output_type": "execute_result"
    }
   ],
   "source": [
    "g=generate_linear(10)\n",
    "run_inference(model, g)"
   ]
  },
  {
   "cell_type": "code",
   "execution_count": 142,
   "id": "ba38254c",
   "metadata": {},
   "outputs": [
    {
     "data": {
      "image/png": "[encoded data removed]",
      "text/plain": [
       "<Figure size 432x288 with 1 Axes>"
      ]
     },
     "metadata": {},
     "output_type": "display_data"
    }
   ],
   "source": [
    "nx.draw_spring(g)"
   ]
  },
  {
   "cell_type": "code",
   "execution_count": 144,
   "id": "7cb1c986",
   "metadata": {},
   "outputs": [
    {
     "data": {
      "text/html": [
       "<div>\n",
       "<style scoped>\n",
       "    .dataframe tbody tr th:only-of-type {\n",
       "        vertical-align: middle;\n",
       "    }\n",
       "\n",
       "    .dataframe tbody tr th {\n",
       "        vertical-align: top;\n",
       "    }\n",
       "\n",
       "    .dataframe thead th {\n",
       "        text-align: right;\n",
       "    }\n",
       "</style>\n",
       "<table border=\"1\" class=\"dataframe\">\n",
       "  <thead>\n",
       "    <tr style=\"text-align: right;\">\n",
       "      <th></th>\n",
       "      <th>trimers</th>\n",
       "      <th>tetramers</th>\n",
       "      <th>pentamers</th>\n",
       "      <th>hexamers</th>\n",
       "      <th>shortest_path</th>\n",
       "      <th>wiener</th>\n",
       "      <th>graph</th>\n",
       "      <th>edges</th>\n",
       "      <th>mean_degree</th>\n",
       "      <th>MPNN_energy</th>\n",
       "    </tr>\n",
       "  </thead>\n",
       "  <tbody>\n",
       "    <tr>\n",
       "      <th>0</th>\n",
       "      <td>0</td>\n",
       "      <td>0</td>\n",
       "      <td>0</td>\n",
       "      <td>0</td>\n",
       "      <td>3.66667</td>\n",
       "      <td>165</td>\n",
       "      <td>(0, 1, 2, 3, 4, 5, 6, 7, 8, 9)</td>\n",
       "      <td>18</td>\n",
       "      <td>3.6</td>\n",
       "      <td>-43.325947</td>\n",
       "    </tr>\n",
       "    <tr>\n",
       "      <th>1</th>\n",
       "      <td>0</td>\n",
       "      <td>0</td>\n",
       "      <td>0</td>\n",
       "      <td>0</td>\n",
       "      <td>3.66667</td>\n",
       "      <td>165</td>\n",
       "      <td>(0, 1, 2, 3, 4, 5, 6, 7, 8, 9)</td>\n",
       "      <td>18</td>\n",
       "      <td>3.6</td>\n",
       "      <td>-37.633316</td>\n",
       "    </tr>\n",
       "    <tr>\n",
       "      <th>2</th>\n",
       "      <td>0</td>\n",
       "      <td>0</td>\n",
       "      <td>0</td>\n",
       "      <td>0</td>\n",
       "      <td>3.66667</td>\n",
       "      <td>165</td>\n",
       "      <td>(0, 1, 2, 3, 4, 5, 6, 7, 8, 9)</td>\n",
       "      <td>18</td>\n",
       "      <td>3.6</td>\n",
       "      <td>-43.539463</td>\n",
       "    </tr>\n",
       "    <tr>\n",
       "      <th>3</th>\n",
       "      <td>0</td>\n",
       "      <td>0</td>\n",
       "      <td>0</td>\n",
       "      <td>0</td>\n",
       "      <td>3.66667</td>\n",
       "      <td>165</td>\n",
       "      <td>(0, 1, 2, 3, 4, 5, 6, 7, 8, 9)</td>\n",
       "      <td>18</td>\n",
       "      <td>3.6</td>\n",
       "      <td>-37.937000</td>\n",
       "    </tr>\n",
       "    <tr>\n",
       "      <th>4</th>\n",
       "      <td>0</td>\n",
       "      <td>0</td>\n",
       "      <td>0</td>\n",
       "      <td>0</td>\n",
       "      <td>3.66667</td>\n",
       "      <td>165</td>\n",
       "      <td>(0, 1, 2, 3, 4, 5, 6, 7, 8, 9)</td>\n",
       "      <td>18</td>\n",
       "      <td>3.6</td>\n",
       "      <td>-39.788368</td>\n",
       "    </tr>\n",
       "  </tbody>\n",
       "</table>\n",
       "</div>"
      ],
      "text/plain": [
       "  trimers tetramers pentamers hexamers shortest_path wiener  \\\n",
       "0       0         0         0        0       3.66667    165   \n",
       "1       0         0         0        0       3.66667    165   \n",
       "2       0         0         0        0       3.66667    165   \n",
       "3       0         0         0        0       3.66667    165   \n",
       "4       0         0         0        0       3.66667    165   \n",
       "\n",
       "                            graph  edges  mean_degree  MPNN_energy  \n",
       "0  (0, 1, 2, 3, 4, 5, 6, 7, 8, 9)     18          3.6   -43.325947  \n",
       "1  (0, 1, 2, 3, 4, 5, 6, 7, 8, 9)     18          3.6   -37.633316  \n",
       "2  (0, 1, 2, 3, 4, 5, 6, 7, 8, 9)     18          3.6   -43.539463  \n",
       "3  (0, 1, 2, 3, 4, 5, 6, 7, 8, 9)     18          3.6   -37.937000  \n",
       "4  (0, 1, 2, 3, 4, 5, 6, 7, 8, 9)     18          3.6   -39.788368  "
      ]
     },
     "execution_count": 144,
     "metadata": {},
     "output_type": "execute_result"
    }
   ],
   "source": [
    "n_waters=10\n",
    "n_samples=1000\n",
    "cols=['trimers', 'tetramers', 'pentamers', 'hexamers', 'shortest_path', 'wiener']#, 'mpnn_energy']\n",
    "\n",
    "with Pool(12) as p:  \n",
    "    graphs = p.map(generate_linear_graph, [n_waters]*n_samples)\n",
    "    mets = p.map(metrics.compute_metrics, graphs)\n",
    "\n",
    "# create dataframe of metrics and graphs\n",
    "res = np.array(mets, dtype=object).T\n",
    "df = pd.DataFrame({cols[i]: res[i] for i in range(len(cols))})\n",
    "df['graph']=graphs\n",
    "df['edges']=df['graph'].apply(lambda G: G.number_of_edges())\n",
    "df['mean_degree']=df['graph'].apply(lambda G: sum(d for n, d in G.degree()) / float(len(G))) #G.in_degree()\n",
    "\n",
    "# collect MPNN energies\n",
    "energies=[]\n",
    "for i in range(len(df)):\n",
    "    try:\n",
    "        energies.append(run_inference(model, df.iloc[i].graph))\n",
    "    except:\n",
    "        energies.append(0)\n",
    "df['MPNN_energy']=energies\n",
    "\n",
    "# save to pickle\n",
    "df.to_pickle(op.join(model_path, f'W{n_waters}_linear_inference.pkl'))\n",
    "\n",
    "df.head()"
   ]
  },
  {
   "cell_type": "markdown",
   "id": "13f04f8f",
   "metadata": {},
   "source": [
    "### compare linear vs no linear graphs for our trained MPNN"
   ]
  },
  {
   "cell_type": "code",
   "execution_count": 146,
   "id": "bedd5378",
   "metadata": {},
   "outputs": [],
   "source": [
    "df=pd.read_pickle(op.join(model_path, f'W{n_waters}_linear_inference.pkl'))\n",
    "dd=pd.read_pickle(op.join(model_path, f'W{n_waters}_random_graph_inference.pkl'))"
   ]
  },
  {
   "cell_type": "code",
   "execution_count": 149,
   "id": "099d4c28",
   "metadata": {},
   "outputs": [
    {
     "data": {
      "image/png": "[encoded data removed]",
      "text/plain": [
       "<Figure size 432x288 with 1 Axes>"
      ]
     },
     "metadata": {
      "needs_background": "light"
     },
     "output_type": "display_data"
    }
   ],
   "source": [
    "sns.kdeplot(data=df, x='MPNN_energy', label='linear')\n",
    "sns.kdeplot(data=dd.loc[dd.MPNN_energy!=0], x='MPNN_energy', label='non-linear')\n",
    "plt.legend(loc='upper left')\n",
    "plt.show()"
   ]
  },
  {
   "cell_type": "code",
   "execution_count": null,
   "id": "ec8abdb1",
   "metadata": {},
   "outputs": [],
   "source": []
  },
  {
   "cell_type": "code",
   "execution_count": null,
   "id": "9c271f6d",
   "metadata": {},
   "outputs": [],
   "source": []
  },
  {
   "cell_type": "code",
   "execution_count": null,
   "id": "363c6ba3",
   "metadata": {},
   "outputs": [],
   "source": []
  }
 ],
 "metadata": {
  "kernelspec": {
   "display_name": "Python 3 (ipykernel)",
   "language": "python",
   "name": "python3"
  },
  "language_info": {
   "codemirror_mode": {
    "name": "ipython",
    "version": 3
   },
   "file_extension": ".py",
   "mimetype": "text/x-python",
   "name": "python",
   "nbconvert_exporter": "python",
   "pygments_lexer": "ipython3",
   "version": "3.8.5"
  }
 },
 "nbformat": 4,
 "nbformat_minor": 5
}
