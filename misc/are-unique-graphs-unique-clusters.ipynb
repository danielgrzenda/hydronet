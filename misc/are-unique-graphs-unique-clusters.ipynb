{
 "cells": [
  {
   "cell_type": "markdown",
   "metadata": {},
   "source": [
    "# Are Graphs Unique?\n",
    "This notebook shows how to determine if each entry in the HydroNet dataset represents a unique graph. "
   ]
  },
  {
   "cell_type": "code",
   "execution_count": 1,
   "metadata": {},
   "outputs": [],
   "source": [
    "%matplotlib inline\n",
    "from matplotlib import pyplot as plt\n",
    "from hydronet.data import graph_from_dict\n",
    "from multiprocessing import Pool\n",
    "from functools import partial\n",
    "from tqdm import tqdm\n",
    "import networkx as nx\n",
    "import pandas as pd\n",
    "import numpy as np"
   ]
  },
  {
   "cell_type": "markdown",
   "metadata": {},
   "source": [
    "Configuration"
   ]
  },
  {
   "cell_type": "code",
   "execution_count": 2,
   "metadata": {},
   "outputs": [],
   "source": [
    "cluster_size = 18"
   ]
  },
  {
   "cell_type": "markdown",
   "metadata": {},
   "source": [
    "## Load in the Data\n",
    "Load in a small dataset from disk"
   ]
  },
  {
   "cell_type": "code",
   "execution_count": 3,
   "metadata": {},
   "outputs": [
    {
     "name": "stdout",
     "output_type": "stream",
     "text": [
      "Loaded 224018 records\n",
      "CPU times: user 33.1 s, sys: 5.7 s, total: 38.8 s\n",
      "Wall time: 38.8 s\n"
     ]
    }
   ],
   "source": [
    "%%time\n",
    "data = pd.read_json('../data/output/atomic_valid.json.gz', lines=True)\n",
    "print(f'Loaded {len(data)} records')"
   ]
  },
  {
   "cell_type": "markdown",
   "metadata": {},
   "source": [
    "## Find Pairs of Isomorphic Graphs\n",
    "Assess how many training records are isomorphic"
   ]
  },
  {
   "cell_type": "code",
   "execution_count": 4,
   "metadata": {},
   "outputs": [
    {
     "name": "stdout",
     "output_type": "stream",
     "text": [
      "Downselected to 5714 graphs\n"
     ]
    }
   ],
   "source": [
    "data.query(f'n_waters=={cluster_size}', inplace=True)\n",
    "print(f'Downselected to {len(data)} graphs')"
   ]
  },
  {
   "cell_type": "markdown",
   "metadata": {},
   "source": [
    "Generate networkx objects for each"
   ]
  },
  {
   "cell_type": "code",
   "execution_count": 5,
   "metadata": {},
   "outputs": [
    {
     "name": "stdout",
     "output_type": "stream",
     "text": [
      "CPU times: user 1.66 s, sys: 170 ms, total: 1.83 s\n",
      "Wall time: 1.83 s\n"
     ]
    }
   ],
   "source": [
    "%%time\n",
    "data['nx'] = data.apply(graph_from_dict, axis=1)"
   ]
  },
  {
   "cell_type": "markdown",
   "metadata": {},
   "source": [
    "Compute which graphs are isomorphic"
   ]
  },
  {
   "cell_type": "code",
   "execution_count": 6,
   "metadata": {},
   "outputs": [],
   "source": [
    "data.reset_index(inplace=True)"
   ]
  },
  {
   "cell_type": "code",
   "execution_count": 7,
   "metadata": {},
   "outputs": [
    {
     "name": "stderr",
     "output_type": "stream",
     "text": [
      "100%|██████████| 5714/5714 [26:46<00:00,  3.56it/s] \n"
     ]
    },
    {
     "name": "stdout",
     "output_type": "stream",
     "text": [
      "Found 5 pairs of isomorphic graphs\n"
     ]
    }
   ],
   "source": [
    "matches = [[] for _ in range(len(data))]\n",
    "n_matches = 0\n",
    "with Pool() as p:\n",
    "    for i, g in tqdm(enumerate(data['nx']), total=len(data)):\n",
    "        f = partial(nx.algorithms.is_isomorphic, g, node_match=dict.__eq__, edge_match=dict.__eq__)\n",
    "        is_match = p.map(f, data['nx'].iloc[i+1:])\n",
    "        for j, hit in enumerate(is_match):\n",
    "            if hit:\n",
    "                n_matches += 1\n",
    "                j_real = i + j + 1\n",
    "                matches[i].append(j_real)\n",
    "                matches[j_real].append(i)\n",
    "print(f'Found {n_matches} pairs of isomorphic graphs')"
   ]
  },
  {
   "cell_type": "markdown",
   "metadata": {},
   "source": [
    "Add to the dataframe for safe keeping"
   ]
  },
  {
   "cell_type": "code",
   "execution_count": 8,
   "metadata": {},
   "outputs": [],
   "source": [
    "data['matches'] = matches"
   ]
  },
  {
   "cell_type": "code",
   "execution_count": 9,
   "metadata": {},
   "outputs": [],
   "source": [
    "data['n_matches'] = data['matches'].apply(len)"
   ]
  },
  {
   "cell_type": "markdown",
   "metadata": {},
   "source": [
    "## Assess Energy Differences between Isomorphic Graphs\n",
    "We want to know how large they are. Does each graph represent a local minimum, or they actually very different in energy?"
   ]
  },
  {
   "cell_type": "code",
   "execution_count": 10,
   "metadata": {},
   "outputs": [],
   "source": [
    "energy_diffs = []\n",
    "for rid, row in data.query('n_matches>0').iterrows():\n",
    "    for m in row['matches']:\n",
    "        if m > rid:\n",
    "            energy_diffs.append(abs(row['energy'] - data.iloc[m]['energy']))"
   ]
  },
  {
   "cell_type": "code",
   "execution_count": 11,
   "metadata": {},
   "outputs": [
    {
     "name": "stdout",
     "output_type": "stream",
     "text": [
      "Maximum: 1.50e-01 kcal/mol\n",
      "Median:  5.48e-02 kcal/mol\n",
      "Minimum: 1.04e-02 kcal/mol\n"
     ]
    }
   ],
   "source": [
    "print(f'Maximum: {np.max(energy_diffs):.2e} kcal/mol')\n",
    "print(f'Median:  {np.percentile(energy_diffs, 50):.2e} kcal/mol')\n",
    "print(f'Minimum: {np.min(energy_diffs):.2e} kcal/mol')"
   ]
  },
  {
   "cell_type": "code",
   "execution_count": 12,
   "metadata": {},
   "outputs": [
    {
     "data": {
      "image/png": "[encoded data removed]",
      "text/plain": [
       "<Figure size 252x180 with 1 Axes>"
      ]
     },
     "metadata": {
      "needs_background": "light"
     },
     "output_type": "display_data"
    }
   ],
   "source": [
    "fig, ax = plt.subplots(figsize=(3.5, 2.5))\n",
    "\n",
    "bins = np.logspace(-4, 1, 32)\n",
    "ax.hist(energy_diffs, bins=bins)\n",
    "ax.set_xscale('log')\n",
    "\n",
    "ax.set_xlabel('$\\Delta E$ (kcal/mol)')\n",
    "ax.set_ylabel('Frequency')\n",
    "fig.tight_layout()\n",
    "fig.savefig(f'figures/energy-difference-isomorphic-graphs-size-{cluster_size}.png', dpi=320)"
   ]
  },
  {
   "cell_type": "markdown",
   "metadata": {},
   "source": [
    "For comparision, print out the range of energies for clusters"
   ]
  },
  {
   "cell_type": "code",
   "execution_count": 13,
   "metadata": {},
   "outputs": [
    {
     "data": {
      "text/plain": [
       "count    5714.000000\n",
       "mean        9.796442\n",
       "std         3.858295\n",
       "min         0.000000\n",
       "25%         6.805695\n",
       "50%         9.751564\n",
       "75%        12.744919\n",
       "max        24.997681\n",
       "Name: energy, dtype: float64"
      ]
     },
     "execution_count": 13,
     "metadata": {},
     "output_type": "execute_result"
    }
   ],
   "source": [
    "(data['energy'] - data['energy'].min()).describe()"
   ]
  },
  {
   "cell_type": "code",
   "execution_count": null,
   "metadata": {},
   "outputs": [],
   "source": []
  }
 ],
 "metadata": {
  "kernelspec": {
   "display_name": "hydronet",
   "language": "python",
   "name": "hydronet"
  },
  "language_info": {
   "codemirror_mode": {
    "name": "ipython",
    "version": 3
   },
   "file_extension": ".py",
   "mimetype": "text/x-python",
   "name": "python",
   "nbconvert_exporter": "python",
   "pygments_lexer": "ipython3",
   "version": "3.8.5"
  }
 },
 "nbformat": 4,
 "nbformat_minor": 4
}
