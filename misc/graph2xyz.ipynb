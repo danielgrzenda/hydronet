{
 "cells": [
  {
   "cell_type": "markdown",
   "metadata": {},
   "source": [
    "# Convert a graph to XYZ coordinates\n",
    "Illustrates how to use the \"structure to XYZ\" features of the `hydronet` library"
   ]
  },
  {
   "cell_type": "code",
   "execution_count": 1,
   "metadata": {},
   "outputs": [],
   "source": [
    "%matplotlib inline\n",
    "from matplotlib import pyplot as plt\n",
    "from hydronet.inverting import convert_directed_graph_to_xyz\n",
    "from hydronet.data import graph_from_dict, atoms_from_dict\n",
    "from hydronet.importing import infer_water_cluster_bonds, make_nfp_network\n",
    "from scipy.stats import spearmanr\n",
    "from sklearn.metrics import r2_score\n",
    "from ttm.ase import TTMCalculator\n",
    "from ase.optimize.lbfgs import LBFGS\n",
    "from ase.io.xyz import write_xyz\n",
    "from io import StringIO\n",
    "from tqdm import tqdm\n",
    "import pandas as pd\n",
    "import gzip\n",
    "import json\n",
    "import os"
   ]
  },
  {
   "cell_type": "markdown",
   "metadata": {},
   "source": [
    "Configuration"
   ]
  },
  {
   "cell_type": "code",
   "execution_count": 2,
   "metadata": {},
   "outputs": [],
   "source": [
    "audit_cluster_size = 22\n",
    "max_audit_size = 100"
   ]
  },
  {
   "cell_type": "markdown",
   "metadata": {},
   "source": [
    "## Simple Example\n",
    "Show a step-by-step example"
   ]
  },
  {
   "cell_type": "markdown",
   "metadata": {},
   "source": [
    "Load one from disk"
   ]
  },
  {
   "cell_type": "code",
   "execution_count": 3,
   "metadata": {},
   "outputs": [],
   "source": [
    "with gzip.open('../data/output/coarse_test.json.gz') as fp:\n",
    "    graph_dict = json.loads(fp.readline().strip())\n",
    "graph = graph_from_dict(graph_dict)"
   ]
  },
  {
   "cell_type": "markdown",
   "metadata": {},
   "source": [
    "Convert it to atoms"
   ]
  },
  {
   "cell_type": "code",
   "execution_count": 4,
   "metadata": {},
   "outputs": [
    {
     "data": {
      "text/plain": [
       "Atoms(symbols='H44O22', pbc=False)"
      ]
     },
     "execution_count": 4,
     "metadata": {},
     "output_type": "execute_result"
    }
   ],
   "source": [
    "atoms = convert_directed_graph_to_xyz(graph, relax_with_harmonic=False)\n",
    "atoms"
   ]
  },
  {
   "cell_type": "markdown",
   "metadata": {},
   "source": [
    "Print as an XYZ file"
   ]
  },
  {
   "cell_type": "code",
   "execution_count": 5,
   "metadata": {},
   "outputs": [
    {
     "name": "stdout",
     "output_type": "stream",
     "text": [
      "66\n",
      "Properties=species:S:1:pos:R:3 pbc=\"F F F\"\n",
      "O        0.97239888       0.81290497      -1.77522769\n",
      "H        0.71381754       0.53608667      -0.88866346\n",
      "H        1.84255095       1.06520996      -1.44558183\n",
      "O        4.63246742      -1.73480426      -0.434...\n"
     ]
    }
   ],
   "source": [
    "fp = StringIO()\n",
    "write_xyz(fp, atoms)\n",
    "print(fp.getvalue()[:256] + \"...\")"
   ]
  },
  {
   "cell_type": "markdown",
   "metadata": {},
   "source": [
    "Load the original"
   ]
  },
  {
   "cell_type": "code",
   "execution_count": 6,
   "metadata": {},
   "outputs": [],
   "source": [
    "with gzip.open('../data/output/geom_test.json.gz') as fp:\n",
    "    xyz_dict = json.loads(fp.readline().strip())"
   ]
  },
  {
   "cell_type": "code",
   "execution_count": 7,
   "metadata": {},
   "outputs": [],
   "source": [
    "orig_atoms = atoms_from_dict(xyz_dict)"
   ]
  },
  {
   "cell_type": "markdown",
   "metadata": {},
   "source": [
    "Compare the energy"
   ]
  },
  {
   "cell_type": "code",
   "execution_count": 8,
   "metadata": {},
   "outputs": [],
   "source": [
    "calc = TTMCalculator()"
   ]
  },
  {
   "cell_type": "code",
   "execution_count": 9,
   "metadata": {},
   "outputs": [
    {
     "name": "stdout",
     "output_type": "stream",
     "text": [
      "Original structure: -227.75 kcal/mol\n",
      "New structure: -7.43 kcal/mol\n"
     ]
    }
   ],
   "source": [
    "print(f'Original structure: {calc.get_potential_energy(orig_atoms):.2f} kcal/mol')\n",
    "print(f'New structure: {calc.get_potential_energy(atoms):.2f} kcal/mol')"
   ]
  },
  {
   "cell_type": "markdown",
   "metadata": {},
   "source": [
    "Optimize the energy"
   ]
  },
  {
   "cell_type": "code",
   "execution_count": 10,
   "metadata": {},
   "outputs": [],
   "source": [
    "atoms.set_calculator(calc)"
   ]
  },
  {
   "cell_type": "code",
   "execution_count": 11,
   "metadata": {},
   "outputs": [],
   "source": [
    "opt = LBFGS(atoms, logfile=os.devnull)"
   ]
  },
  {
   "cell_type": "code",
   "execution_count": 12,
   "metadata": {},
   "outputs": [
    {
     "name": "stdout",
     "output_type": "stream",
     "text": [
      "CPU times: user 10.9 s, sys: 0 ns, total: 10.9 s\n",
      "Wall time: 10.9 s\n"
     ]
    },
    {
     "data": {
      "text/plain": [
       "False"
      ]
     },
     "execution_count": 12,
     "metadata": {},
     "output_type": "execute_result"
    }
   ],
   "source": [
    "%%time\n",
    "opt.run(steps=1000)"
   ]
  },
  {
   "cell_type": "code",
   "execution_count": 13,
   "metadata": {},
   "outputs": [
    {
     "name": "stdout",
     "output_type": "stream",
     "text": [
      "Original structure: -227.7452 kcal/mol\n",
      "New structure after relaxation: -223.4887 kcal/mol\n"
     ]
    }
   ],
   "source": [
    "print(f'Original structure: {calc.get_potential_energy(orig_atoms):.4f} kcal/mol')\n",
    "print(f'New structure after relaxation: {calc.get_potential_energy(atoms):.4f} kcal/mol')"
   ]
  },
  {
   "cell_type": "markdown",
   "metadata": {},
   "source": [
    "## Evaluate Performance\n",
    "Do energies fo the graphs correlate with the energy of the relaxed structures"
   ]
  },
  {
   "cell_type": "code",
   "execution_count": 14,
   "metadata": {},
   "outputs": [
    {
     "name": "stdout",
     "output_type": "stream",
     "text": [
      "Loaded 223448 records\n"
     ]
    }
   ],
   "source": [
    "data = pd.read_json('../data/output/coarse_test.json.gz', lines=True)\n",
    "print(f'Loaded {len(data)} records')"
   ]
  },
  {
   "cell_type": "code",
   "execution_count": 15,
   "metadata": {},
   "outputs": [
    {
     "name": "stdout",
     "output_type": "stream",
     "text": [
      "Downselected to 100 clusters of size 22\n"
     ]
    }
   ],
   "source": [
    "data.query(f'n_waters=={audit_cluster_size}', inplace=True)\n",
    "if len(data) > max_audit_size:\n",
    "    data = data.sample(max_audit_size)\n",
    "data.reset_index(inplace=True)\n",
    "print(f'Downselected to {len(data)} clusters of size {audit_cluster_size}')"
   ]
  },
  {
   "cell_type": "code",
   "execution_count": 16,
   "metadata": {},
   "outputs": [
    {
     "name": "stderr",
     "output_type": "stream",
     "text": [
      "100%|██████████| 100/100 [18:28<00:00, 11.08s/it]\n"
     ]
    }
   ],
   "source": [
    "results = []\n",
    "for _, row in tqdm(data.iterrows(), total=len(data)):\n",
    "    # Invert the graph\n",
    "    graph = graph_from_dict(row)\n",
    "    atoms = convert_directed_graph_to_xyz(graph, relax_with_harmonic=False)\n",
    "    \n",
    "    # Relax the structure\n",
    "    start_eng = calc.get_potential_energy(atoms)\n",
    "    atoms.set_calculator(calc)\n",
    "    opt = LBFGS(atoms, logfile=os.devnull)\n",
    "    opt.run(steps=1000)\n",
    "    end_eng = calc.get_potential_energy(atoms)\n",
    "    \n",
    "    # Store the results\n",
    "    results.append({\n",
    "        'init_energy': start_eng,\n",
    "        'num_steps': opt.nsteps,\n",
    "        'relaxed_energy': end_eng\n",
    "    })\n",
    "opt_results = pd.DataFrame(results)"
   ]
  },
  {
   "cell_type": "code",
   "execution_count": 17,
   "metadata": {},
   "outputs": [],
   "source": [
    "for c in opt_results.columns:\n",
    "    data[c] = opt_results[c]"
   ]
  },
  {
   "cell_type": "markdown",
   "metadata": {},
   "source": [
    "Plot the performance"
   ]
  },
  {
   "cell_type": "code",
   "execution_count": 18,
   "metadata": {},
   "outputs": [
    {
     "name": "stdout",
     "output_type": "stream",
     "text": [
      "R^2 score: -2.51\n",
      "Spearman Rho: 0.64\n"
     ]
    }
   ],
   "source": [
    "print(f'R^2 score: {r2_score(data[\"energy\"], data[\"relaxed_energy\"]):.2f}')\n",
    "print(f'Spearman Rho: {spearmanr(data[\"energy\"], data[\"relaxed_energy\"])[0]:.2f}')"
   ]
  },
  {
   "cell_type": "code",
   "execution_count": 19,
   "metadata": {},
   "outputs": [
    {
     "data": {
      "image/png": "[encoded data removed]",
      "text/plain": [
       "<Figure size 252x252 with 1 Axes>"
      ]
     },
     "metadata": {
      "needs_background": "light"
     },
     "output_type": "display_data"
    }
   ],
   "source": [
    "fig, ax = plt.subplots(figsize=(3.5, 3.5))\n",
    "\n",
    "ax.scatter(data['energy'], data['relaxed_energy'])\n",
    "\n",
    "ax.set_xlim(ax.get_xlim())\n",
    "ax.set_ylim(ax.get_ylim())\n",
    "\n",
    "ax.plot(ax.get_xlim(), ax.get_xlim(), 'k--')\n",
    "ax.set_xlabel('E, original (kcal/mol)')\n",
    "ax.set_ylabel('E, reconstructed (kcal/mol)')\n",
    "\n",
    "fig.tight_layout()"
   ]
  },
  {
   "cell_type": "code",
   "execution_count": null,
   "metadata": {},
   "outputs": [],
   "source": []
  }
 ],
 "metadata": {
  "kernelspec": {
   "display_name": "hydronet",
   "language": "python",
   "name": "hydronet"
  },
  "language_info": {
   "codemirror_mode": {
    "name": "ipython",
    "version": 3
   },
   "file_extension": ".py",
   "mimetype": "text/x-python",
   "name": "python",
   "nbconvert_exporter": "python",
   "pygments_lexer": "ipython3",
   "version": "3.8.5"
  }
 },
 "nbformat": 4,
 "nbformat_minor": 4
}
