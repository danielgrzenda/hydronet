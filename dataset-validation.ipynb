{
 "cells": [
  {
   "cell_type": "markdown",
   "metadata": {},
   "source": [
    "# Validate Datasets\n",
    "Read the JSON-format datasets to test for inconsistancies and errors"
   ]
  },
  {
   "cell_type": "code",
   "execution_count": 1,
   "metadata": {},
   "outputs": [],
   "source": [
    "from hydronet.data import graph_from_dict, atoms_from_dict\n",
    "from ttm.ase import TTMCalculator\n",
    "from glob import glob\n",
    "from tqdm import tqdm\n",
    "import networkx as nx\n",
    "import gzip\n",
    "import json"
   ]
  },
  {
   "cell_type": "markdown",
   "metadata": {},
   "source": [
    "Configuration"
   ]
  },
  {
   "cell_type": "code",
   "execution_count": 2,
   "metadata": {},
   "outputs": [],
   "source": [
    "audit_size = 100000  # Number of entries to check"
   ]
  },
  {
   "cell_type": "markdown",
   "metadata": {},
   "source": [
    "## Test the Geometry Dataset\n",
    "Ensure that the energy evaluated based on the structure is within $10^{-4}$ kcal/mol of the value reported in the record"
   ]
  },
  {
   "cell_type": "code",
   "execution_count": 3,
   "metadata": {},
   "outputs": [],
   "source": [
    "calc = TTMCalculator()"
   ]
  },
  {
   "cell_type": "code",
   "execution_count": 4,
   "metadata": {},
   "outputs": [],
   "source": [
    "files = glob('./data/output/geom*json.gz')"
   ]
  },
  {
   "cell_type": "code",
   "execution_count": 5,
   "metadata": {},
   "outputs": [],
   "source": [
    "with gzip.open(files[0]) as fp:\n",
    "    record = json.loads(fp.readline())"
   ]
  },
  {
   "cell_type": "markdown",
   "metadata": {},
   "source": [
    "Make sure the energies are the same when evaluated with TTM"
   ]
  },
  {
   "cell_type": "code",
   "execution_count": 6,
   "metadata": {},
   "outputs": [
    {
     "name": "stderr",
     "output_type": "stream",
     "text": [
      "./data/output/geom_valid.json.gz: 100%|██████████| 100000/100000 [19:16<00:00, 86.44it/s]\n",
      "./data/output/geom_test.json.gz: 100%|██████████| 100000/100000 [19:33<00:00, 85.24it/s] \n",
      "./data/output/geom_train.json.gz: 100%|██████████| 100000/100000 [19:19<00:00, 86.21it/s]\n"
     ]
    }
   ],
   "source": [
    "for file in files:\n",
    "    with gzip.open(file) as fp:\n",
    "        for line, _ in tqdm(zip(fp, range(audit_size)), desc=file, total=audit_size):\n",
    "            record = json.loads(line)\n",
    "            atoms = atoms_from_dict(record)\n",
    "            energy_diff = abs(calc.get_potential_energy(atoms) - record['energy'])\n",
    "            assert energy_diff < 1e-4, f\"Energy difference too large: {energy_diff:.3e} kcal/mol\""
   ]
  },
  {
   "cell_type": "markdown",
   "metadata": {},
   "source": [
    "## Test the Atomic Networks\n",
    "We will check that the networks parsed correctly by checking the network for:\n",
    "- The number of waters and bonds matches up with the reported network size\n",
    "- Every oxygen has exactly 2 covalent bonds to two hydrogens and no more than 4 hydrogen bonds (allowing for atypical structures)\n",
    "- Every hydrogen has exactly 1 covalent bond to an oxygen and no more than 1 hydrogen bond"
   ]
  },
  {
   "cell_type": "code",
   "execution_count": 7,
   "metadata": {},
   "outputs": [],
   "source": [
    "files = glob('./data/output/atomic*json.gz')"
   ]
  },
  {
   "cell_type": "markdown",
   "metadata": {},
   "source": [
    "Check network properties"
   ]
  },
  {
   "cell_type": "code",
   "execution_count": 8,
   "metadata": {},
   "outputs": [
    {
     "name": "stderr",
     "output_type": "stream",
     "text": [
      "./data/output/atomic_valid.json.gz: 100%|██████████| 100000/100000 [01:52<00:00, 886.74it/s]\n",
      "./data/output/atomic_train.json.gz: 100%|██████████| 100000/100000 [01:52<00:00, 889.05it/s]\n",
      "./data/output/atomic_test.json.gz: 100%|██████████| 100000/100000 [01:52<00:00, 885.98it/s]\n"
     ]
    }
   ],
   "source": [
    "for file in files:\n",
    "    with gzip.open(file) as fp:\n",
    "        for line, _ in tqdm(zip(fp, range(audit_size)), desc=file, total=audit_size):\n",
    "            # Load the graph data\n",
    "            record = json.loads(line)\n",
    "            graph = graph_from_dict(record)\n",
    "            node_attrs = nx.get_node_attributes(graph, 'label')\n",
    "            \n",
    "            # Check network size\n",
    "            assert record['n_waters'] == len(graph) // 3, 'Node count mismatch'\n",
    "            assert record['n_bonds'] == graph.number_of_edges() * 2, 'Edge count mismatch'\n",
    "            \n",
    "            # Check the bonding properties\n",
    "            for node, data in graph.nodes(data=True):\n",
    "                # Get edges by type\n",
    "                covalents = [i for i in graph[node] if graph[node][i]['label'] == 'covalent']\n",
    "                hydrogens = [i for i in graph[node] if graph[node][i]['label'] == 'hydrogen']\n",
    "                assert len(covalents + hydrogens) == len(graph[node]), \"Unexplained bonds\"\n",
    "                \n",
    "                if data['label'] == 'oxygen':\n",
    "                    # Check covalent bonds\n",
    "                    assert len(covalents) == 2, \"Incorrect number of covalent bonds\"\n",
    "                    assert all(node_attrs[i] == 'hydrogen' for i in covalents), \"Covalent bonds to non-hydrogens\"\n",
    "                    \n",
    "                    # Check hydrogen bonds\n",
    "                    assert len(hydrogens) <= 4, \"Way too many hydrogen bonds\"\n",
    "                    assert all(node_attrs[i] == 'hydrogen' for i in hydrogens), \"Hydrogen bonds to non-hydrogens\"\n",
    "                else:\n",
    "                    # Check covalent bonds\n",
    "                    assert len(covalents) == 1, \"Incorrect number of covalent bonds\"\n",
    "                    assert all(node_attrs[i] == 'oxygen' for i in covalents), \"Covalent bonds to a non-oxygen\"\n",
    "                    \n",
    "                    # Check hydrogen bonds\n",
    "                    assert len(hydrogens) <= 1, \"Way too many hydrogen bonds\"\n",
    "                    assert all(node_attrs[i] == 'oxygen' for i in hydrogens), \"Hydrogen bonds to non-oxygen\"  "
   ]
  },
  {
   "cell_type": "markdown",
   "metadata": {},
   "source": [
    "## Test the Coarse Networks\n",
    "We will check that the networks parsed correctly by checking the network for:\n",
    "- The number of waters and bonds matches up with the reported network size\n",
    "- Every oxygen donates no more than 2 hydrogen bonds\n",
    "- Every oxygen accepts no more than 4 hydrogen bonds\n",
    "- All donations are paired with a accepting bond"
   ]
  },
  {
   "cell_type": "code",
   "execution_count": 9,
   "metadata": {},
   "outputs": [],
   "source": [
    "files = glob('./data/output/coarse*json.gz')"
   ]
  },
  {
   "cell_type": "markdown",
   "metadata": {},
   "source": [
    "Check network properties"
   ]
  },
  {
   "cell_type": "code",
   "execution_count": 10,
   "metadata": {},
   "outputs": [
    {
     "name": "stderr",
     "output_type": "stream",
     "text": [
      "./data/output/coarse_valid.json.gz: 100%|██████████| 100000/100000 [00:57<00:00, 1736.46it/s]\n",
      "./data/output/coarse_train.json.gz: 100%|██████████| 100000/100000 [00:59<00:00, 1687.41it/s]\n",
      "./data/output/coarse_test.json.gz: 100%|██████████| 100000/100000 [00:57<00:00, 1744.56it/s]\n"
     ]
    }
   ],
   "source": [
    "for file in files:\n",
    "    with gzip.open(file) as fp:\n",
    "        for line, _ in tqdm(zip(fp, range(audit_size)), desc=file, total=audit_size):\n",
    "            # Load the graph data\n",
    "            record = json.loads(line)\n",
    "            graph = graph_from_dict(record)\n",
    "            node_attrs = nx.get_node_attributes(graph, 'label')\n",
    "            assert all(i == 'oxygen' for i in node_attrs.values())\n",
    "            \n",
    "            # Check network size\n",
    "            assert record['n_waters'] == len(graph), 'Node count mismatch'\n",
    "            assert record['n_bonds'] == graph.number_of_edges(), 'Edge count mismatch'\n",
    "            \n",
    "            # Check the bonding properties\n",
    "            for node, data in graph.nodes(data=True):\n",
    "                # Get edges by type\n",
    "                donate = [i for i in graph[node] if graph[node][i]['label'] == 'donate']\n",
    "                accept = [i for i in graph[node] if graph[node][i]['label'] == 'accept']\n",
    "                assert len(donate + accept) == len(graph[node]), \"Unexplained bonds\"\n",
    "                \n",
    "                # Make sure the number of donated bonds is less than 2\n",
    "                assert len(donate) <= 2, \"Too many donated bonds\"\n",
    "                assert len(accept) <= 4, \"Way too many accepted bonds\"\n",
    "                \n",
    "                # Make sure each donate is paired with an accept\n",
    "                assert all(graph[i][node]['label'] == 'accept' for i in donate), \"Non-reciprocal bonding\"\n",
    "                assert all(graph[i][node]['label'] == 'donate' for i in accept), \"Non-reciprocal bonding\""
   ]
  },
  {
   "cell_type": "code",
   "execution_count": null,
   "metadata": {},
   "outputs": [],
   "source": []
  }
 ],
 "metadata": {
  "kernelspec": {
   "display_name": "hydronet",
   "language": "python",
   "name": "hydronet"
  },
  "language_info": {
   "codemirror_mode": {
    "name": "ipython",
    "version": 3
   },
   "file_extension": ".py",
   "mimetype": "text/x-python",
   "name": "python",
   "nbconvert_exporter": "python",
   "pygments_lexer": "ipython3",
   "version": "3.8.5"
  }
 },
 "nbformat": 4,
 "nbformat_minor": 4
}
