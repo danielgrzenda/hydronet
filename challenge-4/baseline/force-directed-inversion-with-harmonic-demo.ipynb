{
 "cells": [
  {
   "cell_type": "markdown",
   "id": "af9c815c-3d7c-4592-9c85-9da162a439b5",
   "metadata": {},
   "source": [
    "# Run the Force-directed Structure Generator with an Initial Relaxation\n",
    "As before but we relax the oxygen bonding framework with a simple potential: $1/r^6$ repulsion and a harmonic potential for hydrogen bonds."
   ]
  },
  {
   "cell_type": "code",
   "execution_count": 1,
   "id": "5d6263e4-bbd0-445c-95bf-9359306332c8",
   "metadata": {
    "execution": {
     "iopub.execute_input": "2021-12-02T12:29:37.171243Z",
     "iopub.status.busy": "2021-12-02T12:29:37.170953Z",
     "iopub.status.idle": "2021-12-02T12:29:38.250277Z",
     "shell.execute_reply": "2021-12-02T12:29:38.250527Z"
    }
   },
   "outputs": [],
   "source": [
    "%matplotlib inline\n",
    "from matplotlib import pyplot as plt\n",
    "from hydronet.inversion.force import convert_directed_graph_to_xyz\n",
    "from hydronet.inversion import evaluate_inversion\n",
    "from hydronet.data import atoms_from_dict\n",
    "from scipy.stats import kendalltau\n",
    "from random import choices, seed\n",
    "from tqdm import tqdm\n",
    "import pandas as pd\n",
    "import numpy as np\n",
    "import json"
   ]
  },
  {
   "cell_type": "markdown",
   "id": "ec396586-75a3-48c4-b418-c0b6dc99f61a",
   "metadata": {},
   "source": [
    "## Perform the analysis on all structures.\n",
    "Take the known geometry, make the graph, invert the graph and report how different the new geometry is"
   ]
  },
  {
   "cell_type": "code",
   "execution_count": 2,
   "id": "59e28acc-22ef-40ba-a84c-d0021d776941",
   "metadata": {
    "execution": {
     "iopub.execute_input": "2021-12-02T12:29:38.252545Z",
     "iopub.status.busy": "2021-12-02T12:29:38.252287Z",
     "iopub.status.idle": "2021-12-02T12:29:38.253534Z",
     "shell.execute_reply": "2021-12-02T12:29:38.253312Z"
    }
   },
   "outputs": [],
   "source": [
    "function = lambda x: convert_directed_graph_to_xyz(x, relax_with_harmonic=True, repulsion_str=10)"
   ]
  },
  {
   "cell_type": "code",
   "execution_count": 3,
   "id": "74f8e03c-153c-464a-aa03-61d4113a7f2a",
   "metadata": {
    "execution": {
     "iopub.execute_input": "2021-12-02T12:29:38.255564Z",
     "iopub.status.busy": "2021-12-02T12:29:38.255305Z",
     "iopub.status.idle": "2021-12-02T13:32:02.059521Z",
     "shell.execute_reply": "2021-12-02T13:32:02.059812Z"
    }
   },
   "outputs": [
    {
     "name": "stderr",
     "output_type": "stream",
     "text": [
      "100%|██████████| 2270/2270 [1:02:23<00:00,  1.65s/it]\n"
     ]
    }
   ],
   "source": [
    "results = []\n",
    "seed(123)\n",
    "with open('../benchmark_clusters.json') as fp:\n",
    "    lines = fp.readlines()\n",
    "#    lines = choices(lines, k=4)\n",
    "    for line in tqdm(lines):\n",
    "        record = json.loads(line)\n",
    "        result = evaluate_inversion(function, atoms_from_dict(record))        \n",
    "        record.update(result)\n",
    "        results.append(record)"
   ]
  },
  {
   "cell_type": "code",
   "execution_count": 4,
   "id": "58729495-5e94-437d-bb9e-4fc49ddeeb2e",
   "metadata": {
    "execution": {
     "iopub.execute_input": "2021-12-02T13:32:02.072075Z",
     "iopub.status.busy": "2021-12-02T13:32:02.069864Z",
     "iopub.status.idle": "2021-12-02T13:32:02.135095Z",
     "shell.execute_reply": "2021-12-02T13:32:02.134817Z"
    }
   },
   "outputs": [
    {
     "data": {
      "text/html": [
       "<div>\n",
       "<style scoped>\n",
       "    .dataframe tbody tr th:only-of-type {\n",
       "        vertical-align: middle;\n",
       "    }\n",
       "\n",
       "    .dataframe tbody tr th {\n",
       "        vertical-align: top;\n",
       "    }\n",
       "\n",
       "    .dataframe thead th {\n",
       "        text-align: right;\n",
       "    }\n",
       "</style>\n",
       "<table border=\"1\" class=\"dataframe\">\n",
       "  <thead>\n",
       "    <tr style=\"text-align: right;\">\n",
       "      <th></th>\n",
       "      <th>z</th>\n",
       "      <th>n_water</th>\n",
       "      <th>n_atoms</th>\n",
       "      <th>atom</th>\n",
       "      <th>coords</th>\n",
       "      <th>energy</th>\n",
       "      <th>source</th>\n",
       "      <th>invert_time</th>\n",
       "      <th>unrelaxed_energy</th>\n",
       "      <th>relax_time</th>\n",
       "      <th>total_time</th>\n",
       "      <th>final_energy</th>\n",
       "      <th>energy_diff</th>\n",
       "      <th>is_isometric</th>\n",
       "      <th>adj_difference</th>\n",
       "      <th>rmsd</th>\n",
       "    </tr>\n",
       "  </thead>\n",
       "  <tbody>\n",
       "    <tr>\n",
       "      <th>0</th>\n",
       "      <td>[8, 1, 1, 8, 1, 1, 8, 1, 1, 8, 1, 1, 8, 1, 1, ...</td>\n",
       "      <td>22</td>\n",
       "      <td>66</td>\n",
       "      <td>[0, 1, 1, 0, 1, 1, 0, 1, 1, 0, 1, 1, 0, 1, 1, ...</td>\n",
       "      <td>[[16.22398533, 11.83660939, -10.64692684], [16...</td>\n",
       "      <td>-236.543072</td>\n",
       "      <td>best</td>\n",
       "      <td>0.093068</td>\n",
       "      <td>143.680445</td>\n",
       "      <td>0.989961</td>\n",
       "      <td>1.083028</td>\n",
       "      <td>-236.542439</td>\n",
       "      <td>0.000633</td>\n",
       "      <td>True</td>\n",
       "      <td>0</td>\n",
       "      <td>180.311272</td>\n",
       "    </tr>\n",
       "    <tr>\n",
       "      <th>1</th>\n",
       "      <td>[8, 1, 1, 8, 1, 1, 8, 1, 1, 8, 1, 1, 8, 1, 1, ...</td>\n",
       "      <td>22</td>\n",
       "      <td>66</td>\n",
       "      <td>[0, 1, 1, 0, 1, 1, 0, 1, 1, 0, 1, 1, 0, 1, 1, ...</td>\n",
       "      <td>[[-4.89073277, -6.3163085, 5.12766981], [-4.28...</td>\n",
       "      <td>-236.547806</td>\n",
       "      <td>best</td>\n",
       "      <td>0.056955</td>\n",
       "      <td>85.726735</td>\n",
       "      <td>1.257129</td>\n",
       "      <td>1.314083</td>\n",
       "      <td>-231.577877</td>\n",
       "      <td>4.969934</td>\n",
       "      <td>False</td>\n",
       "      <td>4</td>\n",
       "      <td>81.563651</td>\n",
       "    </tr>\n",
       "    <tr>\n",
       "      <th>2</th>\n",
       "      <td>[8, 1, 1, 8, 1, 1, 8, 1, 1, 8, 1, 1, 8, 1, 1, ...</td>\n",
       "      <td>22</td>\n",
       "      <td>66</td>\n",
       "      <td>[0, 1, 1, 0, 1, 1, 0, 1, 1, 0, 1, 1, 0, 1, 1, ...</td>\n",
       "      <td>[[-2.35686894, -4.33661624, 6.51201207], [-2.4...</td>\n",
       "      <td>-236.561279</td>\n",
       "      <td>best</td>\n",
       "      <td>0.064863</td>\n",
       "      <td>-79.353090</td>\n",
       "      <td>1.189281</td>\n",
       "      <td>1.254143</td>\n",
       "      <td>-235.042022</td>\n",
       "      <td>1.519257</td>\n",
       "      <td>False</td>\n",
       "      <td>2</td>\n",
       "      <td>60.008775</td>\n",
       "    </tr>\n",
       "    <tr>\n",
       "      <th>3</th>\n",
       "      <td>[8, 1, 1, 8, 1, 1, 8, 1, 1, 8, 1, 1, 8, 1, 1, ...</td>\n",
       "      <td>22</td>\n",
       "      <td>66</td>\n",
       "      <td>[0, 1, 1, 0, 1, 1, 0, 1, 1, 0, 1, 1, 0, 1, 1, ...</td>\n",
       "      <td>[[15.43519603, 3.81546594, -16.89504925], [15....</td>\n",
       "      <td>-236.572013</td>\n",
       "      <td>best</td>\n",
       "      <td>0.061285</td>\n",
       "      <td>-17.432807</td>\n",
       "      <td>1.587649</td>\n",
       "      <td>1.648934</td>\n",
       "      <td>-230.590972</td>\n",
       "      <td>5.981041</td>\n",
       "      <td>False</td>\n",
       "      <td>4</td>\n",
       "      <td>186.878041</td>\n",
       "    </tr>\n",
       "    <tr>\n",
       "      <th>4</th>\n",
       "      <td>[8, 1, 1, 8, 1, 1, 8, 1, 1, 8, 1, 1, 8, 1, 1, ...</td>\n",
       "      <td>22</td>\n",
       "      <td>66</td>\n",
       "      <td>[0, 1, 1, 0, 1, 1, 0, 1, 1, 0, 1, 1, 0, 1, 1, ...</td>\n",
       "      <td>[[-3.52119126, -1.80291181, -1.00666364], [-4....</td>\n",
       "      <td>-236.574054</td>\n",
       "      <td>best</td>\n",
       "      <td>0.049786</td>\n",
       "      <td>-56.945884</td>\n",
       "      <td>1.804415</td>\n",
       "      <td>1.854201</td>\n",
       "      <td>-228.334723</td>\n",
       "      <td>8.239331</td>\n",
       "      <td>False</td>\n",
       "      <td>2</td>\n",
       "      <td>12.674591</td>\n",
       "    </tr>\n",
       "  </tbody>\n",
       "</table>\n",
       "</div>"
      ],
      "text/plain": [
       "                                                   z  n_water  n_atoms  \\\n",
       "0  [8, 1, 1, 8, 1, 1, 8, 1, 1, 8, 1, 1, 8, 1, 1, ...       22       66   \n",
       "1  [8, 1, 1, 8, 1, 1, 8, 1, 1, 8, 1, 1, 8, 1, 1, ...       22       66   \n",
       "2  [8, 1, 1, 8, 1, 1, 8, 1, 1, 8, 1, 1, 8, 1, 1, ...       22       66   \n",
       "3  [8, 1, 1, 8, 1, 1, 8, 1, 1, 8, 1, 1, 8, 1, 1, ...       22       66   \n",
       "4  [8, 1, 1, 8, 1, 1, 8, 1, 1, 8, 1, 1, 8, 1, 1, ...       22       66   \n",
       "\n",
       "                                                atom  \\\n",
       "0  [0, 1, 1, 0, 1, 1, 0, 1, 1, 0, 1, 1, 0, 1, 1, ...   \n",
       "1  [0, 1, 1, 0, 1, 1, 0, 1, 1, 0, 1, 1, 0, 1, 1, ...   \n",
       "2  [0, 1, 1, 0, 1, 1, 0, 1, 1, 0, 1, 1, 0, 1, 1, ...   \n",
       "3  [0, 1, 1, 0, 1, 1, 0, 1, 1, 0, 1, 1, 0, 1, 1, ...   \n",
       "4  [0, 1, 1, 0, 1, 1, 0, 1, 1, 0, 1, 1, 0, 1, 1, ...   \n",
       "\n",
       "                                              coords      energy source  \\\n",
       "0  [[16.22398533, 11.83660939, -10.64692684], [16... -236.543072   best   \n",
       "1  [[-4.89073277, -6.3163085, 5.12766981], [-4.28... -236.547806   best   \n",
       "2  [[-2.35686894, -4.33661624, 6.51201207], [-2.4... -236.561279   best   \n",
       "3  [[15.43519603, 3.81546594, -16.89504925], [15.... -236.572013   best   \n",
       "4  [[-3.52119126, -1.80291181, -1.00666364], [-4.... -236.574054   best   \n",
       "\n",
       "   invert_time  unrelaxed_energy  relax_time  total_time  final_energy  \\\n",
       "0     0.093068        143.680445    0.989961    1.083028   -236.542439   \n",
       "1     0.056955         85.726735    1.257129    1.314083   -231.577877   \n",
       "2     0.064863        -79.353090    1.189281    1.254143   -235.042022   \n",
       "3     0.061285        -17.432807    1.587649    1.648934   -230.590972   \n",
       "4     0.049786        -56.945884    1.804415    1.854201   -228.334723   \n",
       "\n",
       "   energy_diff  is_isometric  adj_difference        rmsd  \n",
       "0     0.000633          True               0  180.311272  \n",
       "1     4.969934         False               4   81.563651  \n",
       "2     1.519257         False               2   60.008775  \n",
       "3     5.981041         False               4  186.878041  \n",
       "4     8.239331         False               2   12.674591  "
      ]
     },
     "execution_count": 4,
     "metadata": {},
     "output_type": "execute_result"
    }
   ],
   "source": [
    "results = pd.DataFrame(results)\n",
    "results.head()"
   ]
  },
  {
   "cell_type": "markdown",
   "id": "eb44c22b-c657-4611-a308-e90b19a07fd0",
   "metadata": {},
   "source": [
    "Save the results. Note that I'm excluding the coordinates of the original structure, which are no longer needed"
   ]
  },
  {
   "cell_type": "code",
   "execution_count": 5,
   "id": "f2ec0478-6181-49a0-ab64-968e53633398",
   "metadata": {
    "execution": {
     "iopub.execute_input": "2021-12-02T13:32:02.137947Z",
     "iopub.status.busy": "2021-12-02T13:32:02.137624Z",
     "iopub.status.idle": "2021-12-02T13:32:02.163034Z",
     "shell.execute_reply": "2021-12-02T13:32:02.162785Z"
    }
   },
   "outputs": [],
   "source": [
    "results.drop(columns=['z', 'atom', 'coords']).to_csv('force-directed-with-harmonic.csv', index=False)"
   ]
  },
  {
   "cell_type": "code",
   "execution_count": 6,
   "id": "6768d085-f57c-40cf-8be9-7fb6fca29752",
   "metadata": {
    "execution": {
     "iopub.execute_input": "2021-12-02T13:32:02.164636Z",
     "iopub.status.busy": "2021-12-02T13:32:02.164369Z",
     "iopub.status.idle": "2021-12-02T13:32:02.172782Z",
     "shell.execute_reply": "2021-12-02T13:32:02.172501Z"
    }
   },
   "outputs": [],
   "source": [
    "results = pd.read_csv('force-directed-with-harmonic.csv')"
   ]
  },
  {
   "cell_type": "markdown",
   "id": "c1d7800f-c1dc-4f59-a0d9-313c1a64c55a",
   "metadata": {},
   "source": [
    "## Assess the Results\n",
    "I want to see how often we get the 'correct' graph or one that is energetically degenerate under different conditions"
   ]
  },
  {
   "cell_type": "markdown",
   "id": "8b81d7c8-c5d5-411e-9806-467ce53bdce5",
   "metadata": {},
   "source": [
    "## How different are the graphs?\n",
    "See if we recover the initial graph exactly and, if not, how many bonds are missing."
   ]
  },
  {
   "cell_type": "code",
   "execution_count": 7,
   "id": "c9fc4bc3-6c54-4be9-bbeb-4919651bd7f6",
   "metadata": {
    "execution": {
     "iopub.execute_input": "2021-12-02T13:32:02.174786Z",
     "iopub.status.busy": "2021-12-02T13:32:02.174452Z",
     "iopub.status.idle": "2021-12-02T13:32:02.176210Z",
     "shell.execute_reply": "2021-12-02T13:32:02.175927Z"
    }
   },
   "outputs": [
    {
     "name": "stdout",
     "output_type": "stream",
     "text": [
      "Overall isometric success rate: 25.5%\n"
     ]
    }
   ],
   "source": [
    "print(f'Overall isometric success rate: {results[\"is_isometric\"].mean()*100:.1f}%')"
   ]
  },
  {
   "cell_type": "markdown",
   "id": "790940af-de7d-4d2e-9695-323efae7c7c7",
   "metadata": {},
   "source": [
    "See by system size"
   ]
  },
  {
   "cell_type": "code",
   "execution_count": 8,
   "id": "8aef5eed-1643-4dea-8dbe-9f2285d2a61e",
   "metadata": {
    "execution": {
     "iopub.execute_input": "2021-12-02T13:32:02.186383Z",
     "iopub.status.busy": "2021-12-02T13:32:02.186076Z",
     "iopub.status.idle": "2021-12-02T13:32:02.267872Z",
     "shell.execute_reply": "2021-12-02T13:32:02.268041Z"
    }
   },
   "outputs": [
    {
     "data": {
      "text/plain": [
       "Text(0.5, 0, 'Cluster Size')"
      ]
     },
     "execution_count": 8,
     "metadata": {},
     "output_type": "execute_result"
    },
    {
     "data": {
      "image/png": "[encoded data removed]",
      "text/plain": [
       "<Figure size 432x288 with 1 Axes>"
      ]
     },
     "metadata": {
      "needs_background": "light"
     },
     "output_type": "display_data"
    }
   ],
   "source": [
    "fig, ax = plt.subplots()\n",
    "\n",
    "by_size = results.groupby('n_water')['is_isometric'].mean()\n",
    "ax.bar(by_size.index, by_size * 100)\n",
    "\n",
    "ax.set_ylabel('Success Rate (%)')\n",
    "ax.set_xlabel('Cluster Size')"
   ]
  },
  {
   "cell_type": "markdown",
   "id": "6ea16a49-0847-44c2-81cb-1d4a53504023",
   "metadata": {},
   "source": [
    "Success rate is not great. We achieve a rate of <30% for large clusters."
   ]
  },
  {
   "cell_type": "code",
   "execution_count": 9,
   "id": "cff73aa4-4e0d-4c35-b559-9eadbbbffb51",
   "metadata": {
    "execution": {
     "iopub.execute_input": "2021-12-02T13:32:02.275927Z",
     "iopub.status.busy": "2021-12-02T13:32:02.275635Z",
     "iopub.status.idle": "2021-12-02T13:32:02.471007Z",
     "shell.execute_reply": "2021-12-02T13:32:02.470737Z"
    }
   },
   "outputs": [
    {
     "data": {
      "text/plain": [
       "Text(0.5, 0, 'Cluster Size')"
      ]
     },
     "execution_count": 9,
     "metadata": {},
     "output_type": "execute_result"
    },
    {
     "data": {
      "image/png": "[encoded data removed]",
      "text/plain": [
       "<Figure size 432x288 with 1 Axes>"
      ]
     },
     "metadata": {
      "needs_background": "light"
     },
     "output_type": "display_data"
    }
   ],
   "source": [
    "fig, ax = plt.subplots()\n",
    "\n",
    "by_size = results.groupby('n_water')['adj_difference'].apply(list)\n",
    "ax.boxplot(by_size.tolist(), positions=by_size.index, showfliers=False)\n",
    "\n",
    "ax.set_ylabel('# Bond Differences')\n",
    "ax.set_xlabel('Cluster Size')"
   ]
  },
  {
   "cell_type": "markdown",
   "id": "8e2f1562-70da-4088-bc64-09763baa6fdb",
   "metadata": {},
   "source": [
    "## How large are the energy differences? \n",
    "Are they large in absolute magnitude? Large enough to interfere with ranking"
   ]
  },
  {
   "cell_type": "code",
   "execution_count": 10,
   "id": "90d56e58-ca82-43bd-8437-b2ea5d57b86b",
   "metadata": {
    "execution": {
     "iopub.execute_input": "2021-12-02T13:32:02.472995Z",
     "iopub.status.busy": "2021-12-02T13:32:02.472734Z",
     "iopub.status.idle": "2021-12-02T13:32:02.473763Z",
     "shell.execute_reply": "2021-12-02T13:32:02.473984Z"
    }
   },
   "outputs": [],
   "source": [
    "results['energy_diff_per_water'] = results['energy_diff'] / results['n_water']"
   ]
  },
  {
   "cell_type": "code",
   "execution_count": 11,
   "id": "9d35483f-6373-44d0-b0a6-d2b6bbcf6274",
   "metadata": {
    "execution": {
     "iopub.execute_input": "2021-12-02T13:32:02.483365Z",
     "iopub.status.busy": "2021-12-02T13:32:02.483105Z",
     "iopub.status.idle": "2021-12-02T13:32:02.718916Z",
     "shell.execute_reply": "2021-12-02T13:32:02.718658Z"
    }
   },
   "outputs": [
    {
     "data": {
      "image/png": "[encoded data removed]",
      "text/plain": [
       "<Figure size 432x288 with 1 Axes>"
      ]
     },
     "metadata": {
      "needs_background": "light"
     },
     "output_type": "display_data"
    }
   ],
   "source": [
    "fig, ax = plt.subplots()\n",
    "\n",
    "by_size = results.groupby('n_water')['energy_diff_per_water'].apply(list)\n",
    "ax.boxplot(by_size.tolist(), positions=by_size.index, showfliers=False)\n",
    "\n",
    "ax.set_ylabel('Energy Diff (kcal/water)')\n",
    "ax.set_xlabel('Cluster Size')\n",
    "fig.savefig('temp.svg')"
   ]
  },
  {
   "cell_type": "code",
   "execution_count": 12,
   "id": "aa0adc3c-89ac-49ab-abc2-307f9b7aa267",
   "metadata": {
    "execution": {
     "iopub.execute_input": "2021-12-02T13:32:02.727981Z",
     "iopub.status.busy": "2021-12-02T13:32:02.726812Z",
     "iopub.status.idle": "2021-12-02T13:32:02.909021Z",
     "shell.execute_reply": "2021-12-02T13:32:02.908751Z"
    }
   },
   "outputs": [
    {
     "data": {
      "text/plain": [
       "Text(0.5, 0, 'Cluster Size')"
      ]
     },
     "execution_count": 12,
     "metadata": {},
     "output_type": "execute_result"
    },
    {
     "data": {
      "image/png": "[encoded data removed]",
      "text/plain": [
       "<Figure size 432x288 with 1 Axes>"
      ]
     },
     "metadata": {
      "needs_background": "light"
     },
     "output_type": "display_data"
    }
   ],
   "source": [
    "fig, ax = plt.subplots()\n",
    "\n",
    "by_size = results.groupby('n_water')['energy_diff'].apply(list)\n",
    "ax.boxplot(by_size.tolist(), positions=by_size.index, showfliers=False)\n",
    "\n",
    "ax.set_ylabel('Energy Diff (kcal)')\n",
    "ax.set_xlabel('Cluster Size')"
   ]
  },
  {
   "cell_type": "markdown",
   "id": "429a6ca5-9f41-4033-9951-0e027a10e904",
   "metadata": {},
   "source": [
    "Energy difference can be quite large and are easily in the ~0.1 kcal/water range."
   ]
  },
  {
   "cell_type": "markdown",
   "id": "b76c9897-d7b2-42e7-b1a4-02438ab4dea5",
   "metadata": {},
   "source": [
    "Measure ranking performance with Kendal tau"
   ]
  },
  {
   "cell_type": "code",
   "execution_count": 13,
   "id": "cfc9410f-ae43-4d45-b273-65340b11836f",
   "metadata": {
    "execution": {
     "iopub.execute_input": "2021-12-02T13:32:02.911140Z",
     "iopub.status.busy": "2021-12-02T13:32:02.910882Z",
     "iopub.status.idle": "2021-12-02T13:32:02.912154Z",
     "shell.execute_reply": "2021-12-02T13:32:02.911916Z"
    }
   },
   "outputs": [],
   "source": [
    "results['new_energy'] = results['energy'] + results['energy_diff']"
   ]
  },
  {
   "cell_type": "code",
   "execution_count": 14,
   "id": "c6f66091-e8b9-423c-b258-7f787ce06837",
   "metadata": {
    "execution": {
     "iopub.execute_input": "2021-12-02T13:32:02.921249Z",
     "iopub.status.busy": "2021-12-02T13:32:02.913759Z",
     "iopub.status.idle": "2021-12-02T13:32:03.153283Z",
     "shell.execute_reply": "2021-12-02T13:32:03.153031Z"
    }
   },
   "outputs": [
    {
     "data": {
      "text/plain": [
       "Text(0.5, 0, 'Cluster Size')"
      ]
     },
     "execution_count": 14,
     "metadata": {},
     "output_type": "execute_result"
    },
    {
     "data": {
      "image/png": "[encoded data removed]",
      "text/plain": [
       "<Figure size 432x288 with 1 Axes>"
      ]
     },
     "metadata": {
      "needs_background": "light"
     },
     "output_type": "display_data"
    }
   ],
   "source": [
    "fig, ax = plt.subplots()\n",
    "\n",
    "for size, group in results.groupby('n_water'):\n",
    "    rank_val = kendalltau(group['energy'], group['new_energy'])\n",
    "    ax.scatter([size], [rank_val.correlation], color='darkblue')\n",
    "\n",
    "ax.set_ylabel('Ranking Performance')\n",
    "ax.set_xlabel('Cluster Size')"
   ]
  },
  {
   "cell_type": "markdown",
   "id": "5a7b935d-7564-4cb0-922b-1c97382cb0ac",
   "metadata": {},
   "source": [
    "The ranking performance is better than random, but not great. It seems that we expect 50% of pairs to be in the correct order."
   ]
  },
  {
   "cell_type": "code",
   "execution_count": null,
   "id": "3964bd70-f305-4db0-8633-397621465299",
   "metadata": {},
   "outputs": [],
   "source": []
  }
 ],
 "metadata": {
  "kernelspec": {
   "display_name": "Python 3",
   "language": "python",
   "name": "python3"
  },
  "language_info": {
   "codemirror_mode": {
    "name": "ipython",
    "version": 3
   },
   "file_extension": ".py",
   "mimetype": "text/x-python",
   "name": "python",
   "nbconvert_exporter": "python",
   "pygments_lexer": "ipython3",
   "version": "3.8.10"
  }
 },
 "nbformat": 4,
 "nbformat_minor": 5
}
