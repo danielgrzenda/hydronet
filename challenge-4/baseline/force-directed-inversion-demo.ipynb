{
 "cells": [
  {
   "cell_type": "markdown",
   "id": "af9c815c-3d7c-4592-9c85-9da162a439b5",
   "metadata": {},
   "source": [
    "# Run the Force-directed Structure Generator\n",
    "Use a simple algorithm and see how we do"
   ]
  },
  {
   "cell_type": "code",
   "execution_count": 1,
   "id": "5d6263e4-bbd0-445c-95bf-9359306332c8",
   "metadata": {},
   "outputs": [],
   "source": [
    "%matplotlib inline\n",
    "from matplotlib import pyplot as plt\n",
    "from hydronet.inversion.force import convert_directed_graph_to_xyz\n",
    "from hydronet.inversion import evaluate_inversion\n",
    "from hydronet.data import atoms_from_dict\n",
    "from scipy.stats import kendalltau\n",
    "from random import choices\n",
    "from tqdm import tqdm\n",
    "import pandas as pd\n",
    "import json"
   ]
  },
  {
   "cell_type": "markdown",
   "id": "ec396586-75a3-48c4-b418-c0b6dc99f61a",
   "metadata": {},
   "source": [
    "## Perform the analysis on all structures.\n",
    "Take the known geometry, make the graph, invert the graph and report how different the new geometry is"
   ]
  },
  {
   "cell_type": "code",
   "execution_count": 2,
   "id": "74f8e03c-153c-464a-aa03-61d4113a7f2a",
   "metadata": {},
   "outputs": [
    {
     "name": "stderr",
     "output_type": "stream",
     "text": [
      "100%|██████████| 2270/2270 [55:46<00:00,  1.47s/it]  \n"
     ]
    }
   ],
   "source": [
    "results = []\n",
    "with open('../benchmark_clusters.json') as fp:\n",
    "    lines = fp.readlines()\n",
    "    for line in tqdm(lines):\n",
    "        record = json.loads(line)\n",
    "        result = evaluate_inversion(convert_directed_graph_to_xyz, atoms_from_dict(record))        \n",
    "        record.update(result)\n",
    "        results.append(record)"
   ]
  },
  {
   "cell_type": "code",
   "execution_count": 3,
   "id": "58729495-5e94-437d-bb9e-4fc49ddeeb2e",
   "metadata": {},
   "outputs": [],
   "source": [
    "results = pd.DataFrame(results)"
   ]
  },
  {
   "cell_type": "markdown",
   "id": "c1d7800f-c1dc-4f59-a0d9-313c1a64c55a",
   "metadata": {},
   "source": [
    "## Assess the Results\n",
    "I want to see how often we get the 'correct' graph or one that is energetically degenerate under different conditions"
   ]
  },
  {
   "cell_type": "markdown",
   "id": "8b81d7c8-c5d5-411e-9806-467ce53bdce5",
   "metadata": {},
   "source": [
    "### Do we get isometric graphs?\n",
    "See if we recover the initial graph"
   ]
  },
  {
   "cell_type": "code",
   "execution_count": 4,
   "id": "c9fc4bc3-6c54-4be9-bbeb-4919651bd7f6",
   "metadata": {},
   "outputs": [
    {
     "name": "stdout",
     "output_type": "stream",
     "text": [
      "Overall isometric success rate: 25.8%\n"
     ]
    }
   ],
   "source": [
    "print(f'Overall isometric success rate: {results[\"is_isometric\"].mean()*100:.1f}%')"
   ]
  },
  {
   "cell_type": "markdown",
   "id": "790940af-de7d-4d2e-9695-323efae7c7c7",
   "metadata": {},
   "source": [
    "See by system size"
   ]
  },
  {
   "cell_type": "code",
   "execution_count": 5,
   "id": "8aef5eed-1643-4dea-8dbe-9f2285d2a61e",
   "metadata": {},
   "outputs": [
    {
     "data": {
      "text/plain": [
       "Text(0.5, 0, 'Cluster Size')"
      ]
     },
     "execution_count": 5,
     "metadata": {},
     "output_type": "execute_result"
    },
    {
     "data": {
      "image/png": "[encoded data removed]",
      "text/plain": [
       "<Figure size 432x288 with 1 Axes>"
      ]
     },
     "metadata": {
      "needs_background": "light"
     },
     "output_type": "display_data"
    }
   ],
   "source": [
    "fig, ax = plt.subplots()\n",
    "\n",
    "by_size = results.groupby('n_water')['is_isometric'].mean()\n",
    "ax.bar(by_size.index, by_size * 100)\n",
    "\n",
    "ax.set_ylabel('Success Rate (%)')\n",
    "ax.set_xlabel('Cluster Size')"
   ]
  },
  {
   "cell_type": "markdown",
   "id": "6ea16a49-0847-44c2-81cb-1d4a53504023",
   "metadata": {},
   "source": [
    "Success rate is not great. We achieve a rate of <30% for large clusters."
   ]
  },
  {
   "cell_type": "markdown",
   "id": "8e2f1562-70da-4088-bc64-09763baa6fdb",
   "metadata": {},
   "source": [
    "## How large are the energy differences? \n",
    "Are they large in absolute magnitude? Large enough to interfere with ranking"
   ]
  },
  {
   "cell_type": "code",
   "execution_count": 6,
   "id": "aa0adc3c-89ac-49ab-abc2-307f9b7aa267",
   "metadata": {},
   "outputs": [
    {
     "data": {
      "text/plain": [
       "Text(0.5, 0, 'Cluster Size')"
      ]
     },
     "execution_count": 6,
     "metadata": {},
     "output_type": "execute_result"
    },
    {
     "data": {
      "image/png": "[encoded data removed]",
      "text/plain": [
       "<Figure size 432x288 with 1 Axes>"
      ]
     },
     "metadata": {
      "needs_background": "light"
     },
     "output_type": "display_data"
    }
   ],
   "source": [
    "fig, ax = plt.subplots()\n",
    "\n",
    "by_size = results.groupby('n_water')['energy_diff'].apply(list)\n",
    "ax.boxplot(by_size.tolist(), positions=by_size.index, showfliers=False)\n",
    "\n",
    "ax.set_ylabel('Energy Diff (kcal)')\n",
    "ax.set_xlabel('Cluster Size')"
   ]
  },
  {
   "cell_type": "markdown",
   "id": "429a6ca5-9f41-4033-9951-0e027a10e904",
   "metadata": {},
   "source": [
    "Energy difference can be quite large and are easily in the ~0.1 kcal/water range."
   ]
  },
  {
   "cell_type": "markdown",
   "id": "b76c9897-d7b2-42e7-b1a4-02438ab4dea5",
   "metadata": {},
   "source": [
    "Measure ranking performance with Kendal tau"
   ]
  },
  {
   "cell_type": "code",
   "execution_count": 7,
   "id": "cfc9410f-ae43-4d45-b273-65340b11836f",
   "metadata": {},
   "outputs": [],
   "source": [
    "results['new_energy'] = results['energy'] + results['energy_diff']"
   ]
  },
  {
   "cell_type": "code",
   "execution_count": 8,
   "id": "c6f66091-e8b9-423c-b258-7f787ce06837",
   "metadata": {},
   "outputs": [
    {
     "data": {
      "text/plain": [
       "Text(0.5, 0, 'Cluster Size')"
      ]
     },
     "execution_count": 8,
     "metadata": {},
     "output_type": "execute_result"
    },
    {
     "data": {
      "image/png": "[encoded data removed]",
      "text/plain": [
       "<Figure size 432x288 with 1 Axes>"
      ]
     },
     "metadata": {
      "needs_background": "light"
     },
     "output_type": "display_data"
    }
   ],
   "source": [
    "fig, ax = plt.subplots()\n",
    "\n",
    "for size, group in results.groupby('n_water'):\n",
    "    rank_val = kendalltau(group['energy'], group['new_energy'])\n",
    "    ax.scatter([size], [rank_val.correlation], color='darkblue')\n",
    "\n",
    "ax.set_ylabel('Ranking Performance')\n",
    "ax.set_xlabel('Cluster Size')"
   ]
  },
  {
   "cell_type": "markdown",
   "id": "5a7b935d-7564-4cb0-922b-1c97382cb0ac",
   "metadata": {},
   "source": [
    "The ranking performance is better than random, but not great. It seems that we expect 50% of pairs to be in the correct order."
   ]
  },
  {
   "cell_type": "code",
   "execution_count": null,
   "id": "3964bd70-f305-4db0-8633-397621465299",
   "metadata": {},
   "outputs": [],
   "source": []
  }
 ],
 "metadata": {
  "kernelspec": {
   "display_name": "Python 3",
   "language": "python",
   "name": "python3"
  },
  "language_info": {
   "codemirror_mode": {
    "name": "ipython",
    "version": 3
   },
   "file_extension": ".py",
   "mimetype": "text/x-python",
   "name": "python",
   "nbconvert_exporter": "python",
   "pygments_lexer": "ipython3",
   "version": "3.8.10"
  }
 },
 "nbformat": 4,
 "nbformat_minor": 5
}
