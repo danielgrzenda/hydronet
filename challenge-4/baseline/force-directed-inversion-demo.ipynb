{
 "cells": [
  {
   "cell_type": "markdown",
   "id": "af9c815c-3d7c-4592-9c85-9da162a439b5",
   "metadata": {},
   "source": [
    "# Run the Force-directed Structure Generator\n",
    "Use a simple algorithm and see how we do"
   ]
  },
  {
   "cell_type": "code",
   "execution_count": 1,
   "id": "5d6263e4-bbd0-445c-95bf-9359306332c8",
   "metadata": {
    "execution": {
     "iopub.execute_input": "2021-12-02T11:23:38.365925Z",
     "iopub.status.busy": "2021-12-02T11:23:38.365529Z",
     "iopub.status.idle": "2021-12-02T11:23:40.256033Z",
     "shell.execute_reply": "2021-12-02T11:23:40.255639Z"
    }
   },
   "outputs": [],
   "source": [
    "%matplotlib inline\n",
    "from matplotlib import pyplot as plt\n",
    "from hydronet.inversion.force import convert_directed_graph_to_xyz\n",
    "from hydronet.inversion import evaluate_inversion\n",
    "from hydronet.data import atoms_from_dict\n",
    "from scipy.stats import kendalltau\n",
    "from random import choices\n",
    "from tqdm import tqdm\n",
    "import pandas as pd\n",
    "import json"
   ]
  },
  {
   "cell_type": "markdown",
   "id": "ec396586-75a3-48c4-b418-c0b6dc99f61a",
   "metadata": {},
   "source": [
    "## Perform the analysis on all structures.\n",
    "Take the known geometry, make the graph, invert the graph and report how different the new geometry is"
   ]
  },
  {
   "cell_type": "code",
   "execution_count": 2,
   "id": "74f8e03c-153c-464a-aa03-61d4113a7f2a",
   "metadata": {
    "execution": {
     "iopub.execute_input": "2021-12-02T11:23:40.258699Z",
     "iopub.status.busy": "2021-12-02T11:23:40.258350Z",
     "iopub.status.idle": "2021-12-02T12:18:43.866405Z",
     "shell.execute_reply": "2021-12-02T12:18:43.866161Z"
    }
   },
   "outputs": [
    {
     "name": "stderr",
     "output_type": "stream",
     "text": [
      "100%|██████████| 2270/2270 [55:03<00:00,  1.46s/it]\n"
     ]
    }
   ],
   "source": [
    "results = []\n",
    "with open('../benchmark_clusters.json') as fp:\n",
    "    lines = fp.readlines()\n",
    "    for line in tqdm(lines):\n",
    "        record = json.loads(line)\n",
    "        result = evaluate_inversion(convert_directed_graph_to_xyz, atoms_from_dict(record))        \n",
    "        record.update(result)\n",
    "        results.append(record)"
   ]
  },
  {
   "cell_type": "code",
   "execution_count": 3,
   "id": "f83b9acf-96b3-42ca-845e-48b468b4f96f",
   "metadata": {
    "execution": {
     "iopub.execute_input": "2021-12-02T12:18:43.875433Z",
     "iopub.status.busy": "2021-12-02T12:18:43.875106Z",
     "iopub.status.idle": "2021-12-02T12:18:43.917916Z",
     "shell.execute_reply": "2021-12-02T12:18:43.917706Z"
    }
   },
   "outputs": [
    {
     "data": {
      "text/html": [
       "<div>\n",
       "<style scoped>\n",
       "    .dataframe tbody tr th:only-of-type {\n",
       "        vertical-align: middle;\n",
       "    }\n",
       "\n",
       "    .dataframe tbody tr th {\n",
       "        vertical-align: top;\n",
       "    }\n",
       "\n",
       "    .dataframe thead th {\n",
       "        text-align: right;\n",
       "    }\n",
       "</style>\n",
       "<table border=\"1\" class=\"dataframe\">\n",
       "  <thead>\n",
       "    <tr style=\"text-align: right;\">\n",
       "      <th></th>\n",
       "      <th>z</th>\n",
       "      <th>n_water</th>\n",
       "      <th>n_atoms</th>\n",
       "      <th>atom</th>\n",
       "      <th>coords</th>\n",
       "      <th>energy</th>\n",
       "      <th>source</th>\n",
       "      <th>invert_time</th>\n",
       "      <th>unrelaxed_energy</th>\n",
       "      <th>relax_time</th>\n",
       "      <th>total_time</th>\n",
       "      <th>final_energy</th>\n",
       "      <th>energy_diff</th>\n",
       "      <th>is_isometric</th>\n",
       "      <th>adj_difference</th>\n",
       "      <th>rmsd</th>\n",
       "    </tr>\n",
       "  </thead>\n",
       "  <tbody>\n",
       "    <tr>\n",
       "      <th>0</th>\n",
       "      <td>[8, 1, 1, 8, 1, 1, 8, 1, 1, 8, 1, 1, 8, 1, 1, ...</td>\n",
       "      <td>22</td>\n",
       "      <td>66</td>\n",
       "      <td>[0, 1, 1, 0, 1, 1, 0, 1, 1, 0, 1, 1, 0, 1, 1, ...</td>\n",
       "      <td>[[16.22398533, 11.83660939, -10.64692684], [16...</td>\n",
       "      <td>-236.543072</td>\n",
       "      <td>best</td>\n",
       "      <td>0.012961</td>\n",
       "      <td>126.464285</td>\n",
       "      <td>1.272933</td>\n",
       "      <td>1.285894</td>\n",
       "      <td>-229.544021</td>\n",
       "      <td>6.999051</td>\n",
       "      <td>False</td>\n",
       "      <td>6</td>\n",
       "      <td>180.111629</td>\n",
       "    </tr>\n",
       "    <tr>\n",
       "      <th>1</th>\n",
       "      <td>[8, 1, 1, 8, 1, 1, 8, 1, 1, 8, 1, 1, 8, 1, 1, ...</td>\n",
       "      <td>22</td>\n",
       "      <td>66</td>\n",
       "      <td>[0, 1, 1, 0, 1, 1, 0, 1, 1, 0, 1, 1, 0, 1, 1, ...</td>\n",
       "      <td>[[-4.89073277, -6.3163085, 5.12766981], [-4.28...</td>\n",
       "      <td>-236.547806</td>\n",
       "      <td>best</td>\n",
       "      <td>0.013387</td>\n",
       "      <td>55.740522</td>\n",
       "      <td>0.951945</td>\n",
       "      <td>0.965331</td>\n",
       "      <td>-236.547287</td>\n",
       "      <td>0.000524</td>\n",
       "      <td>True</td>\n",
       "      <td>0</td>\n",
       "      <td>82.021126</td>\n",
       "    </tr>\n",
       "    <tr>\n",
       "      <th>2</th>\n",
       "      <td>[8, 1, 1, 8, 1, 1, 8, 1, 1, 8, 1, 1, 8, 1, 1, ...</td>\n",
       "      <td>22</td>\n",
       "      <td>66</td>\n",
       "      <td>[0, 1, 1, 0, 1, 1, 0, 1, 1, 0, 1, 1, 0, 1, 1, ...</td>\n",
       "      <td>[[-2.35686894, -4.33661624, 6.51201207], [-2.4...</td>\n",
       "      <td>-236.561279</td>\n",
       "      <td>best</td>\n",
       "      <td>0.013208</td>\n",
       "      <td>-3.756672</td>\n",
       "      <td>1.150333</td>\n",
       "      <td>1.163541</td>\n",
       "      <td>-228.472522</td>\n",
       "      <td>8.088757</td>\n",
       "      <td>False</td>\n",
       "      <td>6</td>\n",
       "      <td>66.919179</td>\n",
       "    </tr>\n",
       "    <tr>\n",
       "      <th>3</th>\n",
       "      <td>[8, 1, 1, 8, 1, 1, 8, 1, 1, 8, 1, 1, 8, 1, 1, ...</td>\n",
       "      <td>22</td>\n",
       "      <td>66</td>\n",
       "      <td>[0, 1, 1, 0, 1, 1, 0, 1, 1, 0, 1, 1, 0, 1, 1, ...</td>\n",
       "      <td>[[15.43519603, 3.81546594, -16.89504925], [15....</td>\n",
       "      <td>-236.572013</td>\n",
       "      <td>best</td>\n",
       "      <td>0.013173</td>\n",
       "      <td>33.033412</td>\n",
       "      <td>1.418596</td>\n",
       "      <td>1.431769</td>\n",
       "      <td>-235.188667</td>\n",
       "      <td>1.383345</td>\n",
       "      <td>False</td>\n",
       "      <td>2</td>\n",
       "      <td>186.778202</td>\n",
       "    </tr>\n",
       "    <tr>\n",
       "      <th>4</th>\n",
       "      <td>[8, 1, 1, 8, 1, 1, 8, 1, 1, 8, 1, 1, 8, 1, 1, ...</td>\n",
       "      <td>22</td>\n",
       "      <td>66</td>\n",
       "      <td>[0, 1, 1, 0, 1, 1, 0, 1, 1, 0, 1, 1, 0, 1, 1, ...</td>\n",
       "      <td>[[-3.52119126, -1.80291181, -1.00666364], [-4....</td>\n",
       "      <td>-236.574054</td>\n",
       "      <td>best</td>\n",
       "      <td>0.013383</td>\n",
       "      <td>-50.496505</td>\n",
       "      <td>1.370497</td>\n",
       "      <td>1.383880</td>\n",
       "      <td>-228.335074</td>\n",
       "      <td>8.238980</td>\n",
       "      <td>False</td>\n",
       "      <td>2</td>\n",
       "      <td>33.627474</td>\n",
       "    </tr>\n",
       "  </tbody>\n",
       "</table>\n",
       "</div>"
      ],
      "text/plain": [
       "                                                   z  n_water  n_atoms  \\\n",
       "0  [8, 1, 1, 8, 1, 1, 8, 1, 1, 8, 1, 1, 8, 1, 1, ...       22       66   \n",
       "1  [8, 1, 1, 8, 1, 1, 8, 1, 1, 8, 1, 1, 8, 1, 1, ...       22       66   \n",
       "2  [8, 1, 1, 8, 1, 1, 8, 1, 1, 8, 1, 1, 8, 1, 1, ...       22       66   \n",
       "3  [8, 1, 1, 8, 1, 1, 8, 1, 1, 8, 1, 1, 8, 1, 1, ...       22       66   \n",
       "4  [8, 1, 1, 8, 1, 1, 8, 1, 1, 8, 1, 1, 8, 1, 1, ...       22       66   \n",
       "\n",
       "                                                atom  \\\n",
       "0  [0, 1, 1, 0, 1, 1, 0, 1, 1, 0, 1, 1, 0, 1, 1, ...   \n",
       "1  [0, 1, 1, 0, 1, 1, 0, 1, 1, 0, 1, 1, 0, 1, 1, ...   \n",
       "2  [0, 1, 1, 0, 1, 1, 0, 1, 1, 0, 1, 1, 0, 1, 1, ...   \n",
       "3  [0, 1, 1, 0, 1, 1, 0, 1, 1, 0, 1, 1, 0, 1, 1, ...   \n",
       "4  [0, 1, 1, 0, 1, 1, 0, 1, 1, 0, 1, 1, 0, 1, 1, ...   \n",
       "\n",
       "                                              coords      energy source  \\\n",
       "0  [[16.22398533, 11.83660939, -10.64692684], [16... -236.543072   best   \n",
       "1  [[-4.89073277, -6.3163085, 5.12766981], [-4.28... -236.547806   best   \n",
       "2  [[-2.35686894, -4.33661624, 6.51201207], [-2.4... -236.561279   best   \n",
       "3  [[15.43519603, 3.81546594, -16.89504925], [15.... -236.572013   best   \n",
       "4  [[-3.52119126, -1.80291181, -1.00666364], [-4.... -236.574054   best   \n",
       "\n",
       "   invert_time  unrelaxed_energy  relax_time  total_time  final_energy  \\\n",
       "0     0.012961        126.464285    1.272933    1.285894   -229.544021   \n",
       "1     0.013387         55.740522    0.951945    0.965331   -236.547287   \n",
       "2     0.013208         -3.756672    1.150333    1.163541   -228.472522   \n",
       "3     0.013173         33.033412    1.418596    1.431769   -235.188667   \n",
       "4     0.013383        -50.496505    1.370497    1.383880   -228.335074   \n",
       "\n",
       "   energy_diff  is_isometric  adj_difference        rmsd  \n",
       "0     6.999051         False               6  180.111629  \n",
       "1     0.000524          True               0   82.021126  \n",
       "2     8.088757         False               6   66.919179  \n",
       "3     1.383345         False               2  186.778202  \n",
       "4     8.238980         False               2   33.627474  "
      ]
     },
     "execution_count": 3,
     "metadata": {},
     "output_type": "execute_result"
    }
   ],
   "source": [
    "results = pd.DataFrame(results)\n",
    "results.head()"
   ]
  },
  {
   "cell_type": "markdown",
   "id": "adfedc73-ff8d-449a-961a-7a6d20fec886",
   "metadata": {},
   "source": [
    "Save the results. Note that I'm excluding the coordinates of the original structure, which are no longer needed"
   ]
  },
  {
   "cell_type": "code",
   "execution_count": 4,
   "id": "2f1ce763-a95b-4405-aa79-f31e40eea536",
   "metadata": {
    "execution": {
     "iopub.execute_input": "2021-12-02T12:18:43.921004Z",
     "iopub.status.busy": "2021-12-02T12:18:43.920652Z",
     "iopub.status.idle": "2021-12-02T12:18:43.941642Z",
     "shell.execute_reply": "2021-12-02T12:18:43.941362Z"
    }
   },
   "outputs": [],
   "source": [
    "results.drop(columns=['z', 'atom', 'coords']).to_csv('force-directed.csv', index=False)"
   ]
  },
  {
   "cell_type": "markdown",
   "id": "4faa787e-a881-4f35-93b6-b59b61e15210",
   "metadata": {},
   "source": [
    "## Assess the Results\n",
    "I want to see how often we get the 'correct' graph or one that is energetically degenerate under different conditions"
   ]
  },
  {
   "cell_type": "markdown",
   "id": "8e40b2ca-8789-488a-afcf-e966c3d1d2a9",
   "metadata": {},
   "source": [
    "## How different are the graphs?\n",
    "See if we recover the initial graph exactly and, if not, how many bonds are missing."
   ]
  },
  {
   "cell_type": "code",
   "execution_count": 5,
   "id": "0b32364f-2633-4d24-96fd-5ccf88854b9d",
   "metadata": {
    "execution": {
     "iopub.execute_input": "2021-12-02T12:18:43.943712Z",
     "iopub.status.busy": "2021-12-02T12:18:43.943449Z",
     "iopub.status.idle": "2021-12-02T12:18:43.944993Z",
     "shell.execute_reply": "2021-12-02T12:18:43.944773Z"
    }
   },
   "outputs": [
    {
     "name": "stdout",
     "output_type": "stream",
     "text": [
      "Overall isometric success rate: 26.2%\n"
     ]
    }
   ],
   "source": [
    "print(f'Overall isometric success rate: {results[\"is_isometric\"].mean()*100:.1f}%')"
   ]
  },
  {
   "cell_type": "markdown",
   "id": "ca55db10-6be9-47fa-a2f1-e8f4f6742e7f",
   "metadata": {},
   "source": [
    "See by system size"
   ]
  },
  {
   "cell_type": "code",
   "execution_count": 6,
   "id": "c66634c4-a6c7-4af1-9b9d-5eb2fb4d154f",
   "metadata": {
    "execution": {
     "iopub.execute_input": "2021-12-02T12:18:43.954028Z",
     "iopub.status.busy": "2021-12-02T12:18:43.953665Z",
     "iopub.status.idle": "2021-12-02T12:18:44.041114Z",
     "shell.execute_reply": "2021-12-02T12:18:44.040903Z"
    }
   },
   "outputs": [
    {
     "data": {
      "text/plain": [
       "Text(0.5, 0, 'Cluster Size')"
      ]
     },
     "execution_count": 6,
     "metadata": {},
     "output_type": "execute_result"
    },
    {
     "data": {
      "image/png": "[encoded data removed]",
      "text/plain": [
       "<Figure size 432x288 with 1 Axes>"
      ]
     },
     "metadata": {
      "needs_background": "light"
     },
     "output_type": "display_data"
    }
   ],
   "source": [
    "fig, ax = plt.subplots()\n",
    "\n",
    "by_size = results.groupby('n_water')['is_isometric'].mean()\n",
    "ax.bar(by_size.index, by_size * 100)\n",
    "\n",
    "ax.set_ylabel('Success Rate (%)')\n",
    "ax.set_xlabel('Cluster Size')"
   ]
  },
  {
   "cell_type": "markdown",
   "id": "34c5ac49-56c9-433c-acaf-3fccb7a775e9",
   "metadata": {},
   "source": [
    "Success rate is not great. We achieve a rate of <30% for large clusters."
   ]
  },
  {
   "cell_type": "code",
   "execution_count": 7,
   "id": "f99655a5-ec5e-42c4-b336-66500da5b7f4",
   "metadata": {
    "execution": {
     "iopub.execute_input": "2021-12-02T12:18:44.049009Z",
     "iopub.status.busy": "2021-12-02T12:18:44.048643Z",
     "iopub.status.idle": "2021-12-02T12:18:44.220737Z",
     "shell.execute_reply": "2021-12-02T12:18:44.220547Z"
    }
   },
   "outputs": [
    {
     "data": {
      "text/plain": [
       "Text(0.5, 0, 'Cluster Size')"
      ]
     },
     "execution_count": 7,
     "metadata": {},
     "output_type": "execute_result"
    },
    {
     "data": {
      "image/png": "[encoded data removed]",
      "text/plain": [
       "<Figure size 432x288 with 1 Axes>"
      ]
     },
     "metadata": {
      "needs_background": "light"
     },
     "output_type": "display_data"
    }
   ],
   "source": [
    "fig, ax = plt.subplots()\n",
    "\n",
    "by_size = results.groupby('n_water')['adj_difference'].apply(list)\n",
    "ax.boxplot(by_size.tolist(), positions=by_size.index, showfliers=False)\n",
    "\n",
    "ax.set_ylabel('# Bond Differences')\n",
    "ax.set_xlabel('Cluster Size')"
   ]
  },
  {
   "cell_type": "markdown",
   "id": "a2afcaed-6606-4fbd-90e9-362a551fbdd2",
   "metadata": {},
   "source": [
    "## How large are the energy differences? \n",
    "Are they large in absolute magnitude? Large enough to interfere with ranking"
   ]
  },
  {
   "cell_type": "code",
   "execution_count": 8,
   "id": "37af5e25-fb54-4bfc-8e60-3dae8e44b8b7",
   "metadata": {
    "execution": {
     "iopub.execute_input": "2021-12-02T12:18:44.228691Z",
     "iopub.status.busy": "2021-12-02T12:18:44.227344Z",
     "iopub.status.idle": "2021-12-02T12:18:44.396743Z",
     "shell.execute_reply": "2021-12-02T12:18:44.396922Z"
    }
   },
   "outputs": [
    {
     "data": {
      "text/plain": [
       "Text(0.5, 0, 'Cluster Size')"
      ]
     },
     "execution_count": 8,
     "metadata": {},
     "output_type": "execute_result"
    },
    {
     "data": {
      "image/png": "[encoded data removed]",
      "text/plain": [
       "<Figure size 432x288 with 1 Axes>"
      ]
     },
     "metadata": {
      "needs_background": "light"
     },
     "output_type": "display_data"
    }
   ],
   "source": [
    "fig, ax = plt.subplots()\n",
    "\n",
    "by_size = results.groupby('n_water')['energy_diff'].apply(list)\n",
    "ax.boxplot(by_size.tolist(), positions=by_size.index, showfliers=False)\n",
    "\n",
    "ax.set_ylabel('Energy Diff (kcal)')\n",
    "ax.set_xlabel('Cluster Size')"
   ]
  },
  {
   "cell_type": "markdown",
   "id": "f3718f46-3cfc-4048-9d4a-6df362345e69",
   "metadata": {},
   "source": [
    "Energy difference can be quite large and are easily in the ~0.1 kcal/water range."
   ]
  },
  {
   "cell_type": "markdown",
   "id": "a8d59f70-d86e-4871-b6fc-aa843dd6d0a5",
   "metadata": {},
   "source": [
    "Measure ranking performance with Kendal tau"
   ]
  },
  {
   "cell_type": "code",
   "execution_count": 9,
   "id": "f7a70f61-05e4-447b-a707-be1e9d1a2d0c",
   "metadata": {
    "execution": {
     "iopub.execute_input": "2021-12-02T12:18:44.399102Z",
     "iopub.status.busy": "2021-12-02T12:18:44.398879Z",
     "iopub.status.idle": "2021-12-02T12:18:44.400087Z",
     "shell.execute_reply": "2021-12-02T12:18:44.399892Z"
    }
   },
   "outputs": [],
   "source": [
    "results['new_energy'] = results['energy'] + results['energy_diff']"
   ]
  },
  {
   "cell_type": "code",
   "execution_count": 10,
   "id": "1d8f201a-21db-43e7-b497-e24152a65505",
   "metadata": {
    "execution": {
     "iopub.execute_input": "2021-12-02T12:18:44.409512Z",
     "iopub.status.busy": "2021-12-02T12:18:44.409169Z",
     "iopub.status.idle": "2021-12-02T12:18:44.625665Z",
     "shell.execute_reply": "2021-12-02T12:18:44.625884Z"
    }
   },
   "outputs": [
    {
     "data": {
      "text/plain": [
       "Text(0.5, 0, 'Cluster Size')"
      ]
     },
     "execution_count": 10,
     "metadata": {},
     "output_type": "execute_result"
    },
    {
     "data": {
      "image/png": "[encoded data removed]",
      "text/plain": [
       "<Figure size 432x288 with 1 Axes>"
      ]
     },
     "metadata": {
      "needs_background": "light"
     },
     "output_type": "display_data"
    }
   ],
   "source": [
    "fig, ax = plt.subplots()\n",
    "\n",
    "for size, group in results.groupby('n_water'):\n",
    "    rank_val = kendalltau(group['energy'], group['new_energy'])\n",
    "    ax.scatter([size], [rank_val.correlation], color='darkblue')\n",
    "\n",
    "ax.set_ylabel('Ranking Performance')\n",
    "ax.set_xlabel('Cluster Size')"
   ]
  },
  {
   "cell_type": "markdown",
   "id": "69b02d14-70c6-4349-b72d-e5b15fe803e9",
   "metadata": {},
   "source": [
    "The ranking performance is better than random, but not great. It seems that we expect 50% of pairs to be in the correct order."
   ]
  },
  {
   "cell_type": "code",
   "execution_count": null,
   "id": "cbdfeb38-5542-491c-bf33-0c329cd7d9fd",
   "metadata": {},
   "outputs": [],
   "source": []
  },
  {
   "cell_type": "code",
   "execution_count": null,
   "id": "3964bd70-f305-4db0-8633-397621465299",
   "metadata": {},
   "outputs": [],
   "source": []
  }
 ],
 "metadata": {
  "kernelspec": {
   "display_name": "Python 3",
   "language": "python",
   "name": "python3"
  },
  "language_info": {
   "codemirror_mode": {
    "name": "ipython",
    "version": 3
   },
   "file_extension": ".py",
   "mimetype": "text/x-python",
   "name": "python",
   "nbconvert_exporter": "python",
   "pygments_lexer": "ipython3",
   "version": "3.8.10"
  }
 },
 "nbformat": 4,
 "nbformat_minor": 5
}
