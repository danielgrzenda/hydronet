{
 "cells": [
  {
   "cell_type": "markdown",
   "id": "e94ac038-c1c0-4f15-aa63-81c98edd1694",
   "metadata": {},
   "source": [
    "# Assemble a test set\n",
    "We want the most stable clusters for each size and, where possible, additional graphs selected randomly from the remaining."
   ]
  },
  {
   "cell_type": "code",
   "execution_count": 1,
   "id": "c6a2d0f7-7bd2-41ab-bee1-7bde30f63689",
   "metadata": {},
   "outputs": [],
   "source": [
    "%matplotlib inline\n",
    "from matplotlib import pyplot as plt\n",
    "from collections import defaultdict\n",
    "from queue import PriorityQueue, Empty\n",
    "from pathlib import Path\n",
    "from tqdm import tqdm\n",
    "import pandas as pd\n",
    "import random\n",
    "import gzip\n",
    "import json"
   ]
  },
  {
   "cell_type": "markdown",
   "id": "f48083f6-ccc9-4839-9411-80ec32e51435",
   "metadata": {},
   "source": [
    "Configuration"
   ]
  },
  {
   "cell_type": "code",
   "execution_count": 2,
   "id": "537cc0ac-bf48-4353-8186-153e1071fc97",
   "metadata": {},
   "outputs": [],
   "source": [
    "random.seed(123)\n",
    "n_best = 50\n",
    "n_random = 50"
   ]
  },
  {
   "cell_type": "markdown",
   "id": "d76adfb5-d500-47aa-910c-eb7d4ef45540",
   "metadata": {},
   "source": [
    "## Get the best clusters and count the total number\n",
    "For each size, we want the best clusters and need to know how many exist for the size in order to pick randomly.\n",
    "\n",
    "We use an out-of-core strategy because the datasets are too big to fit in memory"
   ]
  },
  {
   "cell_type": "code",
   "execution_count": 3,
   "id": "3fd9f7dc-3c88-49af-b4d2-1e676fa115b7",
   "metadata": {},
   "outputs": [],
   "source": [
    "file = Path('../data/output/geom_test.json.gz')"
   ]
  },
  {
   "cell_type": "markdown",
   "id": "9da19875-b7bf-4bd1-ba1b-7d61b8d9712e",
   "metadata": {},
   "source": [
    "Initialize the counters and storage for best clusters."
   ]
  },
  {
   "cell_type": "code",
   "execution_count": 4,
   "id": "26656e10-f563-408c-bd99-6efc852e786b",
   "metadata": {},
   "outputs": [],
   "source": [
    "counter = defaultdict(int)  # So that we can pick from the list randomly later\n",
    "best_clusters_queue = defaultdict(PriorityQueue)  # To store the best clusters"
   ]
  },
  {
   "cell_type": "code",
   "execution_count": 5,
   "id": "842828d6-36a5-49ee-b7e3-0e9cf25481c5",
   "metadata": {},
   "outputs": [
    {
     "name": "stderr",
     "output_type": "stream",
     "text": [
      "../data/output/geom_test.json.gz: 223448it [00:09, 23171.81it/s]\n"
     ]
    }
   ],
   "source": [
    "# Loop over each line of each file\n",
    "with gzip.open(file, 'rt') as fp:\n",
    "    for line in tqdm(fp, desc=str(file)):\n",
    "        # Read the record and update the count\n",
    "        record = json.loads(line)\n",
    "\n",
    "        # Get the cluster count and energy\n",
    "        n_waters = record['n_water']\n",
    "        energy = record['energy']\n",
    "\n",
    "        # Add it to the \"best queue\"\n",
    "        #  We use the negative energy to sort so that the least stable is at front\n",
    "        #  We also store the index of this cluster within the those of this size,\n",
    "        #   which will allow us to exclude the cluster from random selection later\n",
    "        best_clusters_queue[n_waters].put((-energy, counter[n_waters], line))\n",
    "        if counter[n_waters] >= n_best:\n",
    "            # Remove the worst cluster if we have read more than num_best\n",
    "            best_clusters_queue[n_waters].get()\n",
    "\n",
    "        # Update the cluster count\n",
    "        counter[n_waters] += 1"
   ]
  },
  {
   "cell_type": "markdown",
   "id": "1626e831-e687-4ac4-9a19-1cc8ef53aeec",
   "metadata": {},
   "source": [
    "Store the best clusters in a single list, store their positions within the lists"
   ]
  },
  {
   "cell_type": "code",
   "execution_count": 6,
   "id": "fd8b1efc-c82f-4d5f-a3d8-7c7a025c84dd",
   "metadata": {},
   "outputs": [],
   "source": [
    "output_clusters = []\n",
    "best_pos = defaultdict(list)\n",
    "for n_waters, queue in best_clusters_queue.items():\n",
    "    while True:\n",
    "        try:\n",
    "            _, pos, line = queue.get_nowait()\n",
    "        except Empty:\n",
    "            break\n",
    "            \n",
    "        # Unparse the record\n",
    "        record = json.loads(line)\n",
    "        \n",
    "        # Store the source of the record\n",
    "        record['source'] = 'best'\n",
    "        \n",
    "        # Append to the total list\n",
    "        output_clusters.append(record)\n",
    "        \n",
    "        # Store the position\n",
    "        best_pos[n_waters].append(pos)"
   ]
  },
  {
   "cell_type": "markdown",
   "id": "3b1d1964-e1e9-44f1-b372-dce84650a752",
   "metadata": {},
   "source": [
    "## Get clusters randomly\n",
    "We can now pick clusters randomly now that we know how many clusters exist for each size and which ones are the 'best.'\n",
    "\n",
    "First step is to pick the random positions by sampling from all clusters of each size except those that are best"
   ]
  },
  {
   "cell_type": "code",
   "execution_count": 7,
   "id": "b0c65193-44e9-4f2a-a7b9-5a40f221f1e3",
   "metadata": {},
   "outputs": [],
   "source": [
    "random_positions = {}\n",
    "for size, to_exclude in sorted(best_pos.items()):  # Iterate in size order for repeatability\n",
    "    # Make a set that represents all clusters of a certain size\n",
    "    total_count = counter[size]\n",
    "    options = set(range(total_count))\n",
    "    \n",
    "    # Remove the best ones\n",
    "    options.difference_update(to_exclude)\n",
    "    \n",
    "    # Pick randomly from what remains, if we have enough\n",
    "    if len(options) <= n_best:\n",
    "        choices = options\n",
    "    else:\n",
    "        choices = random.sample(options, k=n_best)\n",
    "        \n",
    "    # Store the sorted choices, for convenience lookup later\n",
    "    random_positions[size] = sorted(choices)"
   ]
  },
  {
   "cell_type": "markdown",
   "id": "804d3bf5-8ff1-4ac8-ab15-78cdfd12fd43",
   "metadata": {},
   "source": [
    "Retrieve the random positions from the data"
   ]
  },
  {
   "cell_type": "code",
   "execution_count": 8,
   "id": "8c3e3c9d-5553-462c-92bf-821d89b931b6",
   "metadata": {},
   "outputs": [],
   "source": [
    "position = defaultdict(int)"
   ]
  },
  {
   "cell_type": "code",
   "execution_count": 9,
   "id": "037c1345-3204-426e-83e0-9766055b441b",
   "metadata": {},
   "outputs": [
    {
     "name": "stderr",
     "output_type": "stream",
     "text": [
      "../data/output/geom_test.json.gz: 223448it [00:09, 24568.23it/s]\n"
     ]
    }
   ],
   "source": [
    "# Loop over each line of each file\n",
    "with gzip.open(file, 'rt') as fp:\n",
    "    for line in tqdm(fp, desc=str(file)):\n",
    "        # Read the record and update the count\n",
    "        record = json.loads(line)\n",
    "\n",
    "        # Get the cluster count and energy\n",
    "        n_waters = record['n_water']\n",
    "\n",
    "        # If the index of this cluster is one of our random ones, store it\n",
    "        my_checklist = random_positions[n_waters]\n",
    "        if len(my_checklist) > 0 and position[n_waters] == my_checklist[0]:  # random_positions is sorted, so we know [0] is the next cluster\n",
    "            # We've found this choice, so remove it from list\n",
    "            my_checklist.pop(0)\n",
    "\n",
    "            # Store the record in the selections\n",
    "            record['source'] = 'random'\n",
    "            output_clusters.append(record)\n",
    "\n",
    "        # Update position\n",
    "        position[n_waters] += 1"
   ]
  },
  {
   "cell_type": "markdown",
   "id": "846a3012-66b8-48aa-9840-94ce8f7887a4",
   "metadata": {},
   "source": [
    "## Display the results before saving\n",
    "Check how many we picked per cluster size and the energy distributions"
   ]
  },
  {
   "cell_type": "code",
   "execution_count": 10,
   "id": "a5a7b420-4be8-4200-858a-6c7d6baf60ea",
   "metadata": {},
   "outputs": [],
   "source": [
    "output_clusters = pd.DataFrame(output_clusters)"
   ]
  },
  {
   "cell_type": "code",
   "execution_count": 11,
   "id": "b1790a2f-26d3-4619-a2f7-ca42fcf192a6",
   "metadata": {},
   "outputs": [],
   "source": [
    "count_summary = output_clusters.groupby(['n_water', 'source'])['z'].count()"
   ]
  },
  {
   "cell_type": "code",
   "execution_count": 12,
   "id": "fc9f7419-5890-4d08-a286-081490f994c4",
   "metadata": {},
   "outputs": [
    {
     "data": {
      "text/plain": [
       "<matplotlib.legend.Legend at 0x7f741bf97850>"
      ]
     },
     "execution_count": 12,
     "metadata": {},
     "output_type": "execute_result"
    },
    {
     "data": {
      "image/png": "[encoded data removed]",
      "text/plain": [
       "<Figure size 432x288 with 1 Axes>"
      ]
     },
     "metadata": {
      "needs_background": "light"
     },
     "output_type": "display_data"
    }
   ],
   "source": [
    "fig, ax = plt.subplots()\n",
    "\n",
    "width = 0.3\n",
    "for (source, counts), offset in zip(count_summary.groupby('source'), [-width/2, width/2]):\n",
    "    ax.bar(counts.index.get_level_values('n_water') + offset, counts, label=source.capitalize(), width=width, align='center')\n",
    "    \n",
    "ax.set_xlabel('Size')\n",
    "ax.set_ylabel('Count')\n",
    "ax.legend()"
   ]
  },
  {
   "cell_type": "markdown",
   "id": "ff83dc2e-1f44-4628-bbcc-c10f1de3eaac",
   "metadata": {},
   "source": [
    "We have fifty per cluster size, as desired"
   ]
  },
  {
   "cell_type": "code",
   "execution_count": 13,
   "id": "6b78c6dc-2d80-42b5-81a4-6f6551aa4a4c",
   "metadata": {},
   "outputs": [
    {
     "data": {
      "text/plain": [
       "<matplotlib.legend.Legend at 0x7f7419b5d7c0>"
      ]
     },
     "execution_count": 13,
     "metadata": {},
     "output_type": "execute_result"
    },
    {
     "data": {
      "image/png": "[encoded data removed]",
      "text/plain": [
       "<Figure size 432x288 with 1 Axes>"
      ]
     },
     "metadata": {
      "needs_background": "light"
     },
     "output_type": "display_data"
    }
   ],
   "source": [
    "fig, ax = plt.subplots()\n",
    "\n",
    "for source, group in output_clusters.groupby('source'):\n",
    "    ax.scatter(group['n_water'], group['energy'] / group['n_water'], marker='+', s=3, label=source.capitalize())\n",
    "    \n",
    "ax.set_xlabel('Size')\n",
    "ax.set_ylabel('Energy (Ha/water)')\n",
    "\n",
    "ax.legend()"
   ]
  },
  {
   "cell_type": "markdown",
   "id": "60f2fd2d-d02b-4cdd-bcf9-9e10233d9233",
   "metadata": {},
   "source": [
    "As expected, randomly-selected clusters have a higher energy than the \"best\""
   ]
  },
  {
   "cell_type": "markdown",
   "id": "adfae6ea-dc3c-43a2-834d-72b9b83c702f",
   "metadata": {},
   "source": [
    "## Save to Disk\n",
    "In a JSON format so it is easy to get later"
   ]
  },
  {
   "cell_type": "code",
   "execution_count": 14,
   "id": "6e39057d-5f6b-48aa-b8d9-852c9be525f1",
   "metadata": {},
   "outputs": [],
   "source": [
    "with open('benchmark_clusters.json', 'w') as fp:\n",
    "    for record in output_clusters.to_dict('records'):\n",
    "        print(json.dumps(record), file=fp)"
   ]
  }
 ],
 "metadata": {
  "kernelspec": {
   "display_name": "Python 3",
   "language": "python",
   "name": "python3"
  },
  "language_info": {
   "codemirror_mode": {
    "name": "ipython",
    "version": 3
   },
   "file_extension": ".py",
   "mimetype": "text/x-python",
   "name": "python",
   "nbconvert_exporter": "python",
   "pygments_lexer": "ipython3",
   "version": "3.8.10"
  }
 },
 "nbformat": 4,
 "nbformat_minor": 5
}
